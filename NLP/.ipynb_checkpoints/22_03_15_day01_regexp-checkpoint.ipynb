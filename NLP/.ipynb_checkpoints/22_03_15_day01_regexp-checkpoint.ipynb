{
 "cells": [
  {
   "cell_type": "markdown",
   "metadata": {
    "id": "ab8t3JhbPZza"
   },
   "source": [
    "# 정규표현식"
   ]
  },
  {
   "cell_type": "code",
   "execution_count": 1,
   "metadata": {
    "colab": {
     "base_uri": "https://localhost:8080/"
    },
    "executionInfo": {
     "elapsed": 4,
     "status": "ok",
     "timestamp": 1647328329856,
     "user": {
      "displayName": "백혜림",
      "photoUrl": "https://lh3.googleusercontent.com/a/default-user=s64",
      "userId": "01884416935170274848"
     },
     "user_tz": -540
    },
    "id": "xl_rEKptN3FB",
    "outputId": "abdb74fc-54ab-4862-f85c-beab05d59e8a"
   },
   "outputs": [
    {
     "name": "stdout",
     "output_type": "stream",
     "text": [
      "['2', '0', '2', '2', '0', '3', '1', '5']\n",
      "[' ', ' ', ' ', 't', 'u', 'e', 's', 'd', 'a', 'y']\n"
     ]
    }
   ],
   "source": [
    "import re\n",
    "\n",
    "# 1\n",
    "# 숫자 찾기\n",
    "example = '2022 03 15 tuesday'\n",
    "print(re.findall('[0-9]', example))\n",
    "\n",
    "# 숫자가 아닌 것 찾기\n",
    "print(re.findall('[^0-9]', example))"
   ]
  },
  {
   "cell_type": "code",
   "execution_count": 2,
   "metadata": {
    "colab": {
     "base_uri": "https://localhost:8080/"
    },
    "executionInfo": {
     "elapsed": 272,
     "status": "ok",
     "timestamp": 1647328505736,
     "user": {
      "displayName": "백혜림",
      "photoUrl": "https://lh3.googleusercontent.com/a/default-user=s64",
      "userId": "01884416935170274848"
     },
     "user_tz": -540
    },
    "id": "m6uLPAilOMja",
    "outputId": "91b21c6d-e91f-47e2-f026-92d03987ae93"
   },
   "outputs": [
    {
     "name": "stdout",
     "output_type": "stream",
     "text": [
      "['hreeee@yonsei.ac.kr', 'hreeee@gmail.com']\n"
     ]
    }
   ],
   "source": [
    "# 2\n",
    "\n",
    "# 이메일 주소를 찾기\n",
    "example = '제 이메일은 hreeee@yonsei.ac.kr 입니다. hreeee@gmail.com으로 변경되었습니다.'\n",
    "print(re.findall('[a-z]+@[a-z]+.[a-z]+.[a-z]+', example))"
   ]
  },
  {
   "cell_type": "code",
   "execution_count": 3,
   "metadata": {
    "colab": {
     "base_uri": "https://localhost:8080/"
    },
    "executionInfo": {
     "elapsed": 269,
     "status": "ok",
     "timestamp": 1647328672935,
     "user": {
      "displayName": "백혜림",
      "photoUrl": "https://lh3.googleusercontent.com/a/default-user=s64",
      "userId": "01884416935170274848"
     },
     "user_tz": -540
    },
    "id": "r7qdkmJiOVRS",
    "outputId": "f2f56c58-034b-49d3-ac44-014bd43fedf9"
   },
   "outputs": [
    {
     "name": "stdout",
     "output_type": "stream",
     "text": [
      "['https://www.google.com/', 'https://www.naver.com/']\n"
     ]
    }
   ],
   "source": [
    "# 3\n",
    "\n",
    "# URL 찾기\n",
    "example = 'https://www.google.com/에 네이버 검색하시면 https://www.naver.com/이 상단에 노출됩니다.'\n",
    "print(re.findall('https://[a-z]{3}.[a-z]+.[a-z]+/', example))"
   ]
  },
  {
   "cell_type": "code",
   "execution_count": 4,
   "metadata": {
    "colab": {
     "base_uri": "https://localhost:8080/"
    },
    "executionInfo": {
     "elapsed": 6,
     "status": "ok",
     "timestamp": 1647328812632,
     "user": {
      "displayName": "백혜림",
      "photoUrl": "https://lh3.googleusercontent.com/a/default-user=s64",
      "userId": "01884416935170274848"
     },
     "user_tz": -540
    },
    "id": "8y8v3_MEOe1S",
    "outputId": "8e6b9aea-7da1-42a0-9c8f-ad489e53609f"
   },
   "outputs": [
    {
     "name": "stdout",
     "output_type": "stream",
     "text": [
      "['sonata01.png', 'avante02.jpg', 'socar2021.gif']\n"
     ]
    }
   ],
   "source": [
    "# 4\n",
    "\n",
    "# 파일 찾기\n",
    "example = '제 바탕화면 보시면 sonata01.png 파일과 avante02.jpg 파일 그리고 socar2021.gif 파일이 존재합니다.'\n",
    "print(re.findall('[a-z0-9]+\\.[(png)|(jpg)|(gif)]+', example))"
   ]
  },
  {
   "cell_type": "code",
   "execution_count": null,
   "metadata": {
    "id": "XlEaLlbXctpq"
   },
   "outputs": [],
   "source": []
  }
 ],
 "metadata": {
  "colab": {
   "authorship_tag": "ABX9TyNH4F771hDiLQIuY+oSRVLt",
   "name": "22_03_15_day01_regexp.ipynb",
   "provenance": []
  },
  "kernelspec": {
   "display_name": "Python 3 (ipykernel)",
   "language": "python",
   "name": "python3"
  },
  "language_info": {
   "codemirror_mode": {
    "name": "ipython",
    "version": 3
   },
   "file_extension": ".py",
   "mimetype": "text/x-python",
   "name": "python",
   "nbconvert_exporter": "python",
   "pygments_lexer": "ipython3",
   "version": "3.9.7"
  }
 },
 "nbformat": 4,
 "nbformat_minor": 1
}
