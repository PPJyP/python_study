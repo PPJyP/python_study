{
 "cells": [
  {
   "cell_type": "code",
   "execution_count": 15,
   "metadata": {
    "id": "xl_rEKptN3FB"
   },
   "outputs": [
    {
     "name": "stdout",
     "output_type": "stream",
     "text": [
      "['2022', '03', '15']\n",
      "[' ', ' ', ' tuesday']\n"
     ]
    }
   ],
   "source": [
    "import re\n",
    "\n",
    "# 1\n",
    "# 숫자 찾기\n",
    "example = '2022 03 15 tuesday'\n",
    "print(re.findall('\\d+', example))\n",
    "\n",
    "# 숫자가 아닌 것 찾기\n",
    "print(re.findall('\\D+', example))"
   ]
  },
  {
   "cell_type": "code",
   "execution_count": 21,
   "metadata": {
    "id": "m6uLPAilOMja"
   },
   "outputs": [
    {
     "name": "stdout",
     "output_type": "stream",
     "text": [
      "['hreeee@yonsei.ac.kr', 'hreeee@gmail.com']\n"
     ]
    }
   ],
   "source": [
    "# 2\n",
    "\n",
    "# 이메일 주소를 찾기\n",
    "example = '제 이메일은 hreeee@yonsei.ac.kr 입니다. hreeee@gmail.com으로 변경되었습니다.'\n",
    "print(re.findall('[a-z@.]+[a-z@.]+', example))"
   ]
  },
  {
   "cell_type": "code",
   "execution_count": 22,
   "metadata": {
    "id": "r7qdkmJiOVRS"
   },
   "outputs": [
    {
     "name": "stdout",
     "output_type": "stream",
     "text": [
      "['https://www.google.com/', 'https://www.naver.com/']\n"
     ]
    }
   ],
   "source": [
    "# 3\n",
    "\n",
    "# URL 찾기\n",
    "example = 'https://www.google.com/에 네이버 검색하시면 https://www.naver.com/이 상단에 노출됩니다.'\n",
    "print(re.findall('[a-z.:/]+[a-z.:/]+', example))"
   ]
  },
  {
   "cell_type": "code",
   "execution_count": 23,
   "metadata": {
    "id": "8y8v3_MEOe1S"
   },
   "outputs": [
    {
     "name": "stdout",
     "output_type": "stream",
     "text": [
      "['sonata01.png', 'avante02.jpg', 'socar2021.gif']\n"
     ]
    }
   ],
   "source": [
    "# 4\n",
    "\n",
    "# 파일 찾기\n",
    "example = '제 바탕화면 보시면 sonata01.png 파일과 avante02.jpg 파일 그리고 socar2021.gif 파일이 존재합니다.'\n",
    "print(re.findall('[a-z.0-9]+[a-z.0-9]+', example))"
   ]
  },
  {
   "cell_type": "code",
   "execution_count": null,
   "metadata": {},
   "outputs": [],
   "source": []
  },
  {
   "cell_type": "code",
   "execution_count": 29,
   "metadata": {},
   "outputs": [
    {
     "name": "stdout",
     "output_type": "stream",
     "text": [
      "Hi ,  my name is john . \n"
     ]
    }
   ],
   "source": [
    "def pad_punctuation(sentence, punc):\n",
    "    for p in punc:\n",
    "        sentence = sentence.replace(p, \" \" + p + \" \")\n",
    "        \n",
    "    return sentence\n",
    "\n",
    "sentence = \"Hi, my name is john.\"\n",
    "\n",
    "print(pad_punctuation(sentence, [\".\",\"?\",\"!\",\",\"]))"
   ]
  },
  {
   "cell_type": "code",
   "execution_count": 28,
   "metadata": {},
   "outputs": [
    {
     "name": "stdout",
     "output_type": "stream",
     "text": [
      "first, open the first chapter.\n",
      "FIRST, OPEN THE FIRST CHAPTER.\n"
     ]
    }
   ],
   "source": [
    "sentence = \"First, open the first chapter.\"\n",
    "\n",
    "print(sentence.lower())\n",
    "\n",
    "sentence = \"First, open the first chapter.\"\n",
    "print(sentence.upper())"
   ]
  },
  {
   "cell_type": "code",
   "execution_count": 26,
   "metadata": {},
   "outputs": [
    {
     "name": "stdout",
     "output_type": "stream",
     "text": [
      "He is a ten year old boy.\n"
     ]
    }
   ],
   "source": [
    "import re\n",
    "sentence = \"He is a ten-year-old boy.\"\n",
    "sentence = re.sub(\"([^a-zA-Z.,?!])\",\" \",sentence)\n",
    "\n",
    "print(sentence)"
   ]
  },
  {
   "cell_type": "code",
   "execution_count": null,
   "metadata": {},
   "outputs": [],
   "source": []
  },
  {
   "cell_type": "code",
   "execution_count": 39,
   "metadata": {},
   "outputs": [],
   "source": [
    "corpus = \\\n",
    "\"\"\"\n",
    "That year I finished arithmetic, reviewed my Latin grammar, and read three chapters of Caesar's \"Gallic War.\" In German I read, partly with my fingers and partly with Miss Sullivan's assistance, Schiller's \"Lied von der Glocke\" and \"Taucher,\" Heine's \"Harzreise,\" Freytag's \"Aus dem Staat Friedrichs des Grossen,\" Riehl's \"Fluch Der Schonheit,\" Lessing's \"Minna von Barnhelm,\" and Goethe's \"Aus meinem Leben.\" I took the greatest delight in these German books, especially Schiller's wonderful lyrics, the history of Frederick the Great's magnificent achievements and the account of Goethe's life. I was sorry to finish \"Die Harzreise,\" so full of happy witticisms and charming descriptions of vine-clad hills, streams that sing and ripple in the sunshine, and wild regions, sacred to tradition and legend, the gray sisters of a long-vanished, imaginative age—descriptions such as can be given only by those to whom nature is \"a feeling, a love and an appetite.\"\n",
    "\n",
    "Mr. Gilman instructed me part of the year in English literature. We read together, \"As You Like It,\" Burke's \"Speech on Conciliation with America,\" and Macaulay's \"Life of Samuel Johnson.\" Mr. Gilman's broad views of history and literature and his clever explanations made my work easier and pleasanter than it could have been had I only read notes mechanically with the necessarily brief explanations given in the classes.\n",
    "\"\"\""
   ]
  },
  {
   "cell_type": "code",
   "execution_count": 42,
   "metadata": {},
   "outputs": [
    {
     "name": "stdout",
     "output_type": "stream",
     "text": [
      "\n",
      "that year i finished arithmetic ,  reviewed my latin grammar ,  and read three chapters of caesar s  gallic war .   in german i read ,  partly with my fingers and partly with miss sullivan s assistance ,  schiller s  lied von der glocke  and  taucher ,   heine s  harzreise ,   freytag s  aus dem staat friedrichs des grossen ,   riehl s  fluch der schonheit ,   lessing s  minna von barnhelm ,   and goethe s  aus meinem leben .   i took the greatest delight in these german books ,  especially schiller s wonderful lyrics ,  the history of frederick the great s magnificent achievements and the account of goethe s life .  i was sorry to finish  die harzreise ,   so full of happy witticisms and charming descriptions of vine clad hills ,  streams that sing and ripple in the sunshine ,  and wild regions ,  sacred to tradition and legend ,  the gray sisters of a long vanished ,  imaginative age descriptions such as can be given only by those to whom nature is  a feeling ,  a love and an appetite .  \n",
      "\n",
      "mr .  gilman instructed me part of the year in english literature .  we read together ,   as you like it ,   burke s  speech on conciliation with america ,   and macaulay s  life of samuel johnson .   mr .  gilman s broad views of history and literature and his clever explanations made my work easier and pleasanter than it could have been had i only read notes mechanically with the necessarily brief explanations given in the classes . \n",
      "\n"
     ]
    }
   ],
   "source": [
    "def cleaning_text(text, punc, regex):\n",
    "    for p in punc:\n",
    "        text = text.replace(p, \" \" + p + \" \")\n",
    "    \n",
    "    text = text.lower()\n",
    "    \n",
    "    text = re.sub(regex, \" \", text)\n",
    "    \n",
    "    return text\n",
    "\n",
    "print(cleaning_text(corpus, [\".\", \",\", \"!\", \"?\"], \"([^a-zA-Z0-9.,?!\\n])\"))"
   ]
  }
 ],
 "metadata": {
  "colab": {
   "authorship_tag": "ABX9TyNUPRhsTBXiSbP0K88l4Yb3",
   "name": "22_03_15_day01_re.ipynb",
   "provenance": []
  },
  "kernelspec": {
   "display_name": "Python 3 (ipykernel)",
   "language": "python",
   "name": "python3"
  },
  "language_info": {
   "codemirror_mode": {
    "name": "ipython",
    "version": 3
   },
   "file_extension": ".py",
   "mimetype": "text/x-python",
   "name": "python",
   "nbconvert_exporter": "python",
   "pygments_lexer": "ipython3",
   "version": "3.9.7"
  }
 },
 "nbformat": 4,
 "nbformat_minor": 1
}
