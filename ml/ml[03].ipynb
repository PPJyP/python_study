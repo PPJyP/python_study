{
 "cells": [
  {
   "cell_type": "code",
   "execution_count": 94,
   "id": "a2564bee",
   "metadata": {},
   "outputs": [],
   "source": [
    "import numpy  as np\n",
    "import pandas as pd\n",
    "\n",
    "import sklearn\n",
    "from   sklearn.datasets import load_iris, load_breast_cancer\n",
    "\n",
    "from sklearn.ensemble import RandomForestClassifier\n",
    "from sklearn.linear_model import LogisticRegression\n",
    "from sklearn.model_selection import train_test_split\n",
    "from sklearn.tree            import DecisionTreeClassifier\n",
    "from sklearn.metrics         import accuracy_score, recall_score, precision_score, f1_score, confusion_matrix, make_scorer\n",
    "\n",
    "from sklearn.model_selection import KFold , StratifiedKFold , cross_val_score, cross_validate, GridSearchCV\n",
    "\n",
    "from sklearn.preprocessing import LabelEncoder, OneHotEncoder, StandardScaler, MinMaxScaler\n",
    "\n",
    "import seaborn as sns\n",
    "\n",
    "import missingno as msno"
   ]
  },
  {
   "cell_type": "markdown",
   "id": "2c24efdd",
   "metadata": {},
   "source": [
    "## 분류모델외 성능평가\n",
    "- 정확도 : 실 데이터와 예측 데이터가 얼마나 같은지를 판단하는 지표\n",
    "- 문제점 : 이진분류의 경우 모델의 성능을 왜곡할 수 있다.\n",
    "- 왜 : 데이터의 불균형\n",
    "- 해결책 : F1 score(precision. Recall)"
   ]
  },
  {
   "cell_type": "markdown",
   "id": "d6cd048e",
   "metadata": {},
   "source": [
    "##분류모델 성능평가를 위한 이해"
   ]
  },
  {
   "cell_type": "code",
   "execution_count": 14,
   "id": "2139b62e",
   "metadata": {},
   "outputs": [
    {
     "name": "stdout",
     "output_type": "stream",
     "text": [
      "TP(target = 1, predict = 1)\n",
      "TN(target = 0, predict = 0)\n",
      "FN(target = 1, predict = 0) -> type 1 error(1종 오류)\n",
      "FP(target = 0, predict = 1) -> type 2 error\n",
      "0\n",
      "1\n",
      "2\n",
      "3\n",
      "4\n",
      "5\n",
      "6\n",
      "7\n",
      "8\n",
      "9\n"
     ]
    }
   ],
   "source": [
    "print('TP(target = 1, predict = 1)')\n",
    "print('TN(target = 0, predict = 0)')\n",
    "print('FN(target = 1, predict = 0) -> type 1 error(1종 오류)')\n",
    "print('FP(target = 0, predict = 1) -> type 2 error')\n",
    "\n",
    "target = [1, 0, 0, 1, 1, 1, 0, 1, 1, 1]\n",
    "prediction = [0, 1, 1, 1, 1, 0, 1, 0, 1, 0]\n",
    "\n",
    "tp = tn = fn = fp = 0\n",
    "for idx in range(len(target)):\n",
    "    print(idx)"
   ]
  },
  {
   "cell_type": "code",
   "execution_count": 19,
   "id": "aa8549b0",
   "metadata": {
    "scrolled": true
   },
   "outputs": [
    {
     "name": "stdout",
     "output_type": "stream",
     "text": [
      "accurancy - 0.3\n",
      "recall -  0.42857142857142855\n",
      "precision -  0.5\n",
      "fr_score -  0.4615384615384615\n",
      "\n",
      "confusion_matrix - \n",
      " [[0 3]\n",
      " [4 3]]\n"
     ]
    }
   ],
   "source": [
    "print('accurancy -', accuracy_score(target, prediction))\n",
    "print('recall - ', recall_score(target, prediction))\n",
    "print('precision - ', precision_score(target,prediction))\n",
    "print('fr_score - ', f1_score(target, prediction))\n",
    "print()\n",
    "print('confusion_matrix - \\n', confusion_matrix(target,prediction))"
   ]
  },
  {
   "cell_type": "markdown",
   "id": "ba53c249",
   "metadata": {},
   "source": [
    "- 정밀도(Precision) : TP / (FP + TP)\n",
    "- 상대적으로 정밀도가 더 중요한 지표인 경우의 모델? - 스팸메일\n",
    "- 재현율(Recall) : TP / (FN + TP)\n",
    "- 상대적으로 정밀도가 더 중요한 지표인 경우의 모델? - 의학(암진단), 금융(사기판단)"
   ]
  },
  {
   "cell_type": "code",
   "execution_count": 38,
   "id": "61ac58ca",
   "metadata": {
    "scrolled": true
   },
   "outputs": [
    {
     "data": {
      "text/html": [
       "<div>\n",
       "<style scoped>\n",
       "    .dataframe tbody tr th:only-of-type {\n",
       "        vertical-align: middle;\n",
       "    }\n",
       "\n",
       "    .dataframe tbody tr th {\n",
       "        vertical-align: top;\n",
       "    }\n",
       "\n",
       "    .dataframe thead th {\n",
       "        text-align: right;\n",
       "    }\n",
       "</style>\n",
       "<table border=\"1\" class=\"dataframe\">\n",
       "  <thead>\n",
       "    <tr style=\"text-align: right;\">\n",
       "      <th></th>\n",
       "      <th>PassengerId</th>\n",
       "      <th>Survived</th>\n",
       "      <th>Pclass</th>\n",
       "      <th>Name</th>\n",
       "      <th>Sex</th>\n",
       "      <th>Age</th>\n",
       "      <th>SibSp</th>\n",
       "      <th>Parch</th>\n",
       "      <th>Ticket</th>\n",
       "      <th>Fare</th>\n",
       "      <th>Cabin</th>\n",
       "      <th>Embarked</th>\n",
       "    </tr>\n",
       "  </thead>\n",
       "  <tbody>\n",
       "    <tr>\n",
       "      <th>0</th>\n",
       "      <td>1</td>\n",
       "      <td>0</td>\n",
       "      <td>3</td>\n",
       "      <td>Braund, Mr. Owen Harris</td>\n",
       "      <td>male</td>\n",
       "      <td>22.0</td>\n",
       "      <td>1</td>\n",
       "      <td>0</td>\n",
       "      <td>A/5 21171</td>\n",
       "      <td>7.2500</td>\n",
       "      <td>NaN</td>\n",
       "      <td>S</td>\n",
       "    </tr>\n",
       "    <tr>\n",
       "      <th>1</th>\n",
       "      <td>2</td>\n",
       "      <td>1</td>\n",
       "      <td>1</td>\n",
       "      <td>Cumings, Mrs. John Bradley (Florence Briggs Th...</td>\n",
       "      <td>female</td>\n",
       "      <td>38.0</td>\n",
       "      <td>1</td>\n",
       "      <td>0</td>\n",
       "      <td>PC 17599</td>\n",
       "      <td>71.2833</td>\n",
       "      <td>C85</td>\n",
       "      <td>C</td>\n",
       "    </tr>\n",
       "    <tr>\n",
       "      <th>2</th>\n",
       "      <td>3</td>\n",
       "      <td>1</td>\n",
       "      <td>3</td>\n",
       "      <td>Heikkinen, Miss. Laina</td>\n",
       "      <td>female</td>\n",
       "      <td>26.0</td>\n",
       "      <td>0</td>\n",
       "      <td>0</td>\n",
       "      <td>STON/O2. 3101282</td>\n",
       "      <td>7.9250</td>\n",
       "      <td>NaN</td>\n",
       "      <td>S</td>\n",
       "    </tr>\n",
       "    <tr>\n",
       "      <th>3</th>\n",
       "      <td>4</td>\n",
       "      <td>1</td>\n",
       "      <td>1</td>\n",
       "      <td>Futrelle, Mrs. Jacques Heath (Lily May Peel)</td>\n",
       "      <td>female</td>\n",
       "      <td>35.0</td>\n",
       "      <td>1</td>\n",
       "      <td>0</td>\n",
       "      <td>113803</td>\n",
       "      <td>53.1000</td>\n",
       "      <td>C123</td>\n",
       "      <td>S</td>\n",
       "    </tr>\n",
       "    <tr>\n",
       "      <th>4</th>\n",
       "      <td>5</td>\n",
       "      <td>0</td>\n",
       "      <td>3</td>\n",
       "      <td>Allen, Mr. William Henry</td>\n",
       "      <td>male</td>\n",
       "      <td>35.0</td>\n",
       "      <td>0</td>\n",
       "      <td>0</td>\n",
       "      <td>373450</td>\n",
       "      <td>8.0500</td>\n",
       "      <td>NaN</td>\n",
       "      <td>S</td>\n",
       "    </tr>\n",
       "  </tbody>\n",
       "</table>\n",
       "</div>"
      ],
      "text/plain": [
       "   PassengerId  Survived  Pclass  \\\n",
       "0            1         0       3   \n",
       "1            2         1       1   \n",
       "2            3         1       3   \n",
       "3            4         1       1   \n",
       "4            5         0       3   \n",
       "\n",
       "                                                Name     Sex   Age  SibSp  \\\n",
       "0                            Braund, Mr. Owen Harris    male  22.0      1   \n",
       "1  Cumings, Mrs. John Bradley (Florence Briggs Th...  female  38.0      1   \n",
       "2                             Heikkinen, Miss. Laina  female  26.0      0   \n",
       "3       Futrelle, Mrs. Jacques Heath (Lily May Peel)  female  35.0      1   \n",
       "4                           Allen, Mr. William Henry    male  35.0      0   \n",
       "\n",
       "   Parch            Ticket     Fare Cabin Embarked  \n",
       "0      0         A/5 21171   7.2500   NaN        S  \n",
       "1      0          PC 17599  71.2833   C85        C  \n",
       "2      0  STON/O2. 3101282   7.9250   NaN        S  \n",
       "3      0            113803  53.1000  C123        S  \n",
       "4      0            373450   8.0500   NaN        S  "
      ]
     },
     "execution_count": 38,
     "metadata": {},
     "output_type": "execute_result"
    }
   ],
   "source": [
    "titanic_frm = pd.read_csv('C:/Users/JYP/data/titanic_train.csv')\n",
    "titanic_frm.head()"
   ]
  },
  {
   "cell_type": "code",
   "execution_count": 39,
   "id": "1ce642fe",
   "metadata": {},
   "outputs": [
    {
     "data": {
      "text/plain": [
       "0    549\n",
       "1    342\n",
       "Name: Survived, dtype: int64"
      ]
     },
     "execution_count": 39,
     "metadata": {},
     "output_type": "execute_result"
    }
   ],
   "source": [
    "titanic_frm['Survived'].value_counts()"
   ]
  },
  {
   "cell_type": "code",
   "execution_count": 40,
   "id": "9a028361",
   "metadata": {},
   "outputs": [
    {
     "name": "stdout",
     "output_type": "stream",
     "text": [
      "2. target, feature로 데이터 분리\n",
      "target type -  <class 'pandas.core.series.Series'>\n",
      "feature type -  <class 'pandas.core.frame.DataFrame'>\n"
     ]
    }
   ],
   "source": [
    "print('2. target, feature로 데이터 분리')\n",
    "titanic_target = titanic_frm['Survived']\n",
    "titanic_feature = titanic_frm.drop(['Survived'], axis=1)\n",
    "\n",
    "print('target type - ', type(titanic_target))\n",
    "print('feature type - ', type(titanic_feature))"
   ]
  },
  {
   "cell_type": "code",
   "execution_count": 41,
   "id": "88cb1d23",
   "metadata": {
    "collapsed": true
   },
   "outputs": [
    {
     "data": {
      "text/plain": [
       "array([0, 1, 1, 1, 0, 0, 0, 0, 1, 1, 1, 1, 0, 0, 0, 1, 0, 1, 0, 1, 0, 1,\n",
       "       1, 1, 0, 1, 0, 0, 1, 0, 0, 1, 1, 0, 0, 0, 1, 0, 0, 1, 0, 0, 0, 1,\n",
       "       1, 0, 0, 1, 0, 0, 0, 0, 1, 1, 0, 1, 1, 0, 1, 0, 0, 1, 0, 0, 0, 1,\n",
       "       1, 0, 1, 0, 0, 0, 0, 0, 1, 0, 0, 0, 1, 1, 0, 1, 1, 0, 1, 1, 0, 0,\n",
       "       1, 0, 0, 0, 0, 0, 0, 0, 0, 1, 1, 0, 0, 0, 0, 0, 0, 0, 1, 1, 0, 1,\n",
       "       0, 0, 0, 0, 0, 0, 0, 0, 0, 0, 0, 0, 0, 1, 0, 1, 0, 1, 1, 0, 0, 0,\n",
       "       0, 1, 0, 0, 1, 0, 0, 0, 0, 1, 1, 0, 0, 0, 1, 0, 0, 0, 0, 1, 0, 0,\n",
       "       0, 0, 1, 0, 0, 0, 0, 1, 0, 0, 0, 1, 1, 0, 0, 0, 0, 0, 1, 0, 0, 0,\n",
       "       0, 0, 0, 0, 0, 0, 0, 1, 1, 0, 1, 1, 0, 0, 1, 0, 1, 1, 1, 1, 0, 0,\n",
       "       1, 0, 0, 0, 0, 0, 1, 0, 0, 1, 1, 1, 0, 1, 0, 0, 0, 1, 1, 0, 1, 0,\n",
       "       1, 0, 0, 0, 1, 0, 1, 0, 0, 0, 1, 0, 0, 1, 0, 0, 0, 1, 0, 0, 0, 1,\n",
       "       0, 0, 0, 0, 0, 1, 1, 0, 0, 0, 0, 0, 0, 1, 1, 1, 1, 1, 0, 1, 0, 0,\n",
       "       0, 0, 0, 1, 1, 1, 0, 1, 1, 0, 1, 1, 0, 0, 0, 1, 0, 0, 0, 1, 0, 0,\n",
       "       1, 0, 1, 1, 1, 1, 0, 0, 0, 0, 0, 0, 1, 1, 1, 1, 0, 1, 0, 1, 1, 1,\n",
       "       0, 1, 1, 1, 0, 0, 0, 1, 1, 0, 1, 1, 0, 0, 1, 1, 0, 1, 0, 1, 1, 1,\n",
       "       1, 0, 0, 0, 1, 0, 0, 1, 1, 0, 1, 1, 0, 0, 0, 1, 1, 1, 1, 0, 0, 0,\n",
       "       0, 0, 0, 0, 1, 0, 1, 1, 0, 0, 0, 0, 0, 0, 1, 1, 1, 1, 1, 0, 0, 0,\n",
       "       0, 1, 1, 0, 0, 0, 1, 1, 0, 1, 0, 0, 0, 1, 0, 1, 1, 1, 0, 1, 1, 0,\n",
       "       0, 0, 0, 1, 1, 0, 0, 0, 0, 0, 0, 1, 0, 0, 0, 0, 1, 0, 1, 0, 1, 1,\n",
       "       0, 0, 0, 0, 0, 0, 0, 0, 1, 1, 0, 1, 1, 1, 1, 0, 0, 1, 0, 1, 0, 0,\n",
       "       1, 0, 0, 1, 1, 1, 1, 1, 1, 1, 0, 0, 0, 1, 0, 1, 0, 1, 1, 0, 1, 0,\n",
       "       0, 0, 0, 0, 0, 0, 0, 1, 0, 0, 1, 1, 0, 0, 0, 0, 0, 1, 0, 0, 0, 1,\n",
       "       1, 0, 1, 0, 0, 1, 0, 0, 0, 0, 0, 0, 1, 0, 0, 0, 0, 0, 0, 0, 1, 0,\n",
       "       1, 1, 0, 1, 1, 0, 1, 1, 0, 0, 1, 0, 1, 0, 1, 0, 0, 1, 0, 0, 1, 0,\n",
       "       0, 0, 1, 0, 0, 1, 0, 1, 0, 1, 0, 1, 1, 0, 0, 1, 0, 0, 1, 1, 0, 1,\n",
       "       1, 0, 0, 1, 1, 0, 1, 0, 1, 1, 0, 0, 0, 0, 0, 0, 0, 0, 0, 1, 1, 1,\n",
       "       1, 1, 0, 0, 1, 1, 0, 1, 1, 1, 0, 0, 0, 1, 0, 1, 0, 0, 0, 1, 0, 0,\n",
       "       0, 0, 1, 0, 0, 1, 1, 0, 0, 0, 1, 0, 0, 1, 1, 1, 0, 0, 1, 0, 0, 1,\n",
       "       0, 0, 1, 0, 0, 1, 1, 0, 0, 0, 0, 1, 0, 0, 1, 0, 1, 0, 0, 1, 0, 0,\n",
       "       0, 0, 0, 1, 0, 1, 1, 1, 0, 1, 0, 1, 0, 1, 0, 1, 0, 0, 0, 0, 0, 0,\n",
       "       1, 0, 0, 0, 1, 0, 0, 0, 0, 1, 1, 0, 0, 1, 0, 0, 0, 1, 0, 1, 0, 1,\n",
       "       0, 0, 0, 0, 0, 0, 0, 1, 1, 1, 1, 0, 0, 0, 0, 1, 0, 0, 1, 1, 0, 0,\n",
       "       0, 0, 1, 1, 1, 1, 1, 0, 1, 0, 0, 0, 1, 1, 0, 0, 1, 0, 0, 0, 1, 0,\n",
       "       1, 1, 0, 0, 1, 0, 0, 0, 0, 0, 0, 1, 0, 0, 1, 0, 1, 0, 1, 0, 0, 1,\n",
       "       0, 0, 1, 1, 0, 0, 1, 1, 0, 0, 0, 1, 0, 0, 1, 1, 0, 1, 0, 0, 0, 0,\n",
       "       0, 0, 0, 0, 1, 0, 0, 1, 0, 1, 1, 1, 0, 0, 0, 0, 1, 0, 1, 0, 0, 0,\n",
       "       0, 0, 0, 0, 1, 1, 0, 0, 0, 1, 1, 1, 1, 0, 0, 0, 0, 1, 0, 0, 0, 0,\n",
       "       0, 0, 0, 0, 0, 0, 1, 1, 0, 1, 0, 0, 0, 1, 1, 1, 1, 1, 0, 0, 0, 1,\n",
       "       0, 0, 1, 1, 0, 0, 1, 0, 0, 0, 0, 0, 0, 1, 0, 0, 0, 1, 0, 1, 1, 1,\n",
       "       1, 0, 0, 0, 1, 0, 0, 1, 1, 0, 0, 1, 0, 1, 0, 0, 1, 1, 0, 0, 0, 1,\n",
       "       1, 0, 0, 0, 0, 0, 0, 1, 0, 1, 0], dtype=int64)"
      ]
     },
     "execution_count": 41,
     "metadata": {},
     "output_type": "execute_result"
    }
   ],
   "source": [
    "titanic_target.values"
   ]
  },
  {
   "cell_type": "code",
   "execution_count": 42,
   "id": "6c6123f2",
   "metadata": {},
   "outputs": [
    {
     "data": {
      "text/html": [
       "<div>\n",
       "<style scoped>\n",
       "    .dataframe tbody tr th:only-of-type {\n",
       "        vertical-align: middle;\n",
       "    }\n",
       "\n",
       "    .dataframe tbody tr th {\n",
       "        vertical-align: top;\n",
       "    }\n",
       "\n",
       "    .dataframe thead th {\n",
       "        text-align: right;\n",
       "    }\n",
       "</style>\n",
       "<table border=\"1\" class=\"dataframe\">\n",
       "  <thead>\n",
       "    <tr style=\"text-align: right;\">\n",
       "      <th></th>\n",
       "      <th>PassengerId</th>\n",
       "      <th>Pclass</th>\n",
       "      <th>Name</th>\n",
       "      <th>Sex</th>\n",
       "      <th>Age</th>\n",
       "      <th>SibSp</th>\n",
       "      <th>Parch</th>\n",
       "      <th>Ticket</th>\n",
       "      <th>Fare</th>\n",
       "      <th>Cabin</th>\n",
       "      <th>Embarked</th>\n",
       "    </tr>\n",
       "  </thead>\n",
       "  <tbody>\n",
       "    <tr>\n",
       "      <th>0</th>\n",
       "      <td>1</td>\n",
       "      <td>3</td>\n",
       "      <td>Braund, Mr. Owen Harris</td>\n",
       "      <td>male</td>\n",
       "      <td>22.0</td>\n",
       "      <td>1</td>\n",
       "      <td>0</td>\n",
       "      <td>A/5 21171</td>\n",
       "      <td>7.2500</td>\n",
       "      <td>NaN</td>\n",
       "      <td>S</td>\n",
       "    </tr>\n",
       "    <tr>\n",
       "      <th>1</th>\n",
       "      <td>2</td>\n",
       "      <td>1</td>\n",
       "      <td>Cumings, Mrs. John Bradley (Florence Briggs Th...</td>\n",
       "      <td>female</td>\n",
       "      <td>38.0</td>\n",
       "      <td>1</td>\n",
       "      <td>0</td>\n",
       "      <td>PC 17599</td>\n",
       "      <td>71.2833</td>\n",
       "      <td>C85</td>\n",
       "      <td>C</td>\n",
       "    </tr>\n",
       "    <tr>\n",
       "      <th>2</th>\n",
       "      <td>3</td>\n",
       "      <td>3</td>\n",
       "      <td>Heikkinen, Miss. Laina</td>\n",
       "      <td>female</td>\n",
       "      <td>26.0</td>\n",
       "      <td>0</td>\n",
       "      <td>0</td>\n",
       "      <td>STON/O2. 3101282</td>\n",
       "      <td>7.9250</td>\n",
       "      <td>NaN</td>\n",
       "      <td>S</td>\n",
       "    </tr>\n",
       "    <tr>\n",
       "      <th>3</th>\n",
       "      <td>4</td>\n",
       "      <td>1</td>\n",
       "      <td>Futrelle, Mrs. Jacques Heath (Lily May Peel)</td>\n",
       "      <td>female</td>\n",
       "      <td>35.0</td>\n",
       "      <td>1</td>\n",
       "      <td>0</td>\n",
       "      <td>113803</td>\n",
       "      <td>53.1000</td>\n",
       "      <td>C123</td>\n",
       "      <td>S</td>\n",
       "    </tr>\n",
       "    <tr>\n",
       "      <th>4</th>\n",
       "      <td>5</td>\n",
       "      <td>3</td>\n",
       "      <td>Allen, Mr. William Henry</td>\n",
       "      <td>male</td>\n",
       "      <td>35.0</td>\n",
       "      <td>0</td>\n",
       "      <td>0</td>\n",
       "      <td>373450</td>\n",
       "      <td>8.0500</td>\n",
       "      <td>NaN</td>\n",
       "      <td>S</td>\n",
       "    </tr>\n",
       "    <tr>\n",
       "      <th>...</th>\n",
       "      <td>...</td>\n",
       "      <td>...</td>\n",
       "      <td>...</td>\n",
       "      <td>...</td>\n",
       "      <td>...</td>\n",
       "      <td>...</td>\n",
       "      <td>...</td>\n",
       "      <td>...</td>\n",
       "      <td>...</td>\n",
       "      <td>...</td>\n",
       "      <td>...</td>\n",
       "    </tr>\n",
       "    <tr>\n",
       "      <th>886</th>\n",
       "      <td>887</td>\n",
       "      <td>2</td>\n",
       "      <td>Montvila, Rev. Juozas</td>\n",
       "      <td>male</td>\n",
       "      <td>27.0</td>\n",
       "      <td>0</td>\n",
       "      <td>0</td>\n",
       "      <td>211536</td>\n",
       "      <td>13.0000</td>\n",
       "      <td>NaN</td>\n",
       "      <td>S</td>\n",
       "    </tr>\n",
       "    <tr>\n",
       "      <th>887</th>\n",
       "      <td>888</td>\n",
       "      <td>1</td>\n",
       "      <td>Graham, Miss. Margaret Edith</td>\n",
       "      <td>female</td>\n",
       "      <td>19.0</td>\n",
       "      <td>0</td>\n",
       "      <td>0</td>\n",
       "      <td>112053</td>\n",
       "      <td>30.0000</td>\n",
       "      <td>B42</td>\n",
       "      <td>S</td>\n",
       "    </tr>\n",
       "    <tr>\n",
       "      <th>888</th>\n",
       "      <td>889</td>\n",
       "      <td>3</td>\n",
       "      <td>Johnston, Miss. Catherine Helen \"Carrie\"</td>\n",
       "      <td>female</td>\n",
       "      <td>NaN</td>\n",
       "      <td>1</td>\n",
       "      <td>2</td>\n",
       "      <td>W./C. 6607</td>\n",
       "      <td>23.4500</td>\n",
       "      <td>NaN</td>\n",
       "      <td>S</td>\n",
       "    </tr>\n",
       "    <tr>\n",
       "      <th>889</th>\n",
       "      <td>890</td>\n",
       "      <td>1</td>\n",
       "      <td>Behr, Mr. Karl Howell</td>\n",
       "      <td>male</td>\n",
       "      <td>26.0</td>\n",
       "      <td>0</td>\n",
       "      <td>0</td>\n",
       "      <td>111369</td>\n",
       "      <td>30.0000</td>\n",
       "      <td>C148</td>\n",
       "      <td>C</td>\n",
       "    </tr>\n",
       "    <tr>\n",
       "      <th>890</th>\n",
       "      <td>891</td>\n",
       "      <td>3</td>\n",
       "      <td>Dooley, Mr. Patrick</td>\n",
       "      <td>male</td>\n",
       "      <td>32.0</td>\n",
       "      <td>0</td>\n",
       "      <td>0</td>\n",
       "      <td>370376</td>\n",
       "      <td>7.7500</td>\n",
       "      <td>NaN</td>\n",
       "      <td>Q</td>\n",
       "    </tr>\n",
       "  </tbody>\n",
       "</table>\n",
       "<p>891 rows × 11 columns</p>\n",
       "</div>"
      ],
      "text/plain": [
       "     PassengerId  Pclass                                               Name  \\\n",
       "0              1       3                            Braund, Mr. Owen Harris   \n",
       "1              2       1  Cumings, Mrs. John Bradley (Florence Briggs Th...   \n",
       "2              3       3                             Heikkinen, Miss. Laina   \n",
       "3              4       1       Futrelle, Mrs. Jacques Heath (Lily May Peel)   \n",
       "4              5       3                           Allen, Mr. William Henry   \n",
       "..           ...     ...                                                ...   \n",
       "886          887       2                              Montvila, Rev. Juozas   \n",
       "887          888       1                       Graham, Miss. Margaret Edith   \n",
       "888          889       3           Johnston, Miss. Catherine Helen \"Carrie\"   \n",
       "889          890       1                              Behr, Mr. Karl Howell   \n",
       "890          891       3                                Dooley, Mr. Patrick   \n",
       "\n",
       "        Sex   Age  SibSp  Parch            Ticket     Fare Cabin Embarked  \n",
       "0      male  22.0      1      0         A/5 21171   7.2500   NaN        S  \n",
       "1    female  38.0      1      0          PC 17599  71.2833   C85        C  \n",
       "2    female  26.0      0      0  STON/O2. 3101282   7.9250   NaN        S  \n",
       "3    female  35.0      1      0            113803  53.1000  C123        S  \n",
       "4      male  35.0      0      0            373450   8.0500   NaN        S  \n",
       "..      ...   ...    ...    ...               ...      ...   ...      ...  \n",
       "886    male  27.0      0      0            211536  13.0000   NaN        S  \n",
       "887  female  19.0      0      0            112053  30.0000   B42        S  \n",
       "888  female   NaN      1      2        W./C. 6607  23.4500   NaN        S  \n",
       "889    male  26.0      0      0            111369  30.0000  C148        C  \n",
       "890    male  32.0      0      0            370376   7.7500   NaN        Q  \n",
       "\n",
       "[891 rows x 11 columns]"
      ]
     },
     "execution_count": 42,
     "metadata": {},
     "output_type": "execute_result"
    }
   ],
   "source": [
    "titanic_feature"
   ]
  },
  {
   "cell_type": "code",
   "execution_count": 43,
   "id": "d8456409",
   "metadata": {},
   "outputs": [
    {
     "name": "stdout",
     "output_type": "stream",
     "text": [
      "3. 전처리 요구사항 - \n",
      "불필요한 feature 제거 - PassengerId, Name, Ticket\n",
      "결측값 처리 - Age는 평균, cabin는 N, Emparked는 N\n",
      "레이블 인코딩 - Cabin, Embarked\n"
     ]
    }
   ],
   "source": [
    "print('3. 전처리 요구사항 - ')\n",
    "print('불필요한 feature 제거 - PassengerId, Name, Ticket')\n",
    "print('결측값 처리 - Age는 평균, cabin는 N, Emparked는 N')\n",
    "print('레이블 인코딩 - Cabin, Embarked')\n",
    "\n",
    "\n",
    "# titanic_feature = titanic_feature.drop(['PassengerId'], axis=1)\n",
    "# titanic_feature = titanic_feature.drop(['Name'], axis=1)\n",
    "# titanic_feature = titanic_feature.drop(['Ticket'], axis=1)\n",
    "\n",
    "titanic_feature = titanic_feature.drop(['PassengerId', 'Name', 'Ticket'], axis=1)"
   ]
  },
  {
   "cell_type": "code",
   "execution_count": 62,
   "id": "413ed0f9",
   "metadata": {
    "scrolled": true
   },
   "outputs": [],
   "source": [
    "titanic_feature['Age']=titanic_feature['Age'].fillna(titanic_feature['Age'].mean())"
   ]
  },
  {
   "cell_type": "code",
   "execution_count": 54,
   "id": "07232df5",
   "metadata": {
    "scrolled": true
   },
   "outputs": [
    {
     "data": {
      "text/plain": [
       "0      S\n",
       "1      C\n",
       "2      S\n",
       "3      S\n",
       "4      S\n",
       "      ..\n",
       "886    S\n",
       "887    S\n",
       "888    S\n",
       "889    C\n",
       "890    Q\n",
       "Name: Embarked, Length: 891, dtype: object"
      ]
     },
     "execution_count": 54,
     "metadata": {},
     "output_type": "execute_result"
    }
   ],
   "source": [
    "titanic_feature['Cabin'].fillna('N')\n",
    "titanic_feature['Cabin'] = titanic_feature['Cabin'].str[0]\n",
    "titanic_feature['Embarked'].fillna('N')"
   ]
  },
  {
   "cell_type": "code",
   "execution_count": 55,
   "id": "5b8e1b6a",
   "metadata": {},
   "outputs": [],
   "source": [
    "encoder = LabelEncoder()\n",
    "titanic_feature['Sex'] = encoder.fit_transform(titanic_feature['Sex'])\n",
    "titanic_feature['Cabin'] = encoder.fit_transform(titanic_feature['Cabin'])\n",
    "titanic_feature['Embarked'] = encoder.fit_transform(titanic_feature['Embarked'])"
   ]
  },
  {
   "cell_type": "code",
   "execution_count": 56,
   "id": "9a4ad26a",
   "metadata": {
    "scrolled": true
   },
   "outputs": [
    {
     "data": {
      "text/html": [
       "<div>\n",
       "<style scoped>\n",
       "    .dataframe tbody tr th:only-of-type {\n",
       "        vertical-align: middle;\n",
       "    }\n",
       "\n",
       "    .dataframe tbody tr th {\n",
       "        vertical-align: top;\n",
       "    }\n",
       "\n",
       "    .dataframe thead th {\n",
       "        text-align: right;\n",
       "    }\n",
       "</style>\n",
       "<table border=\"1\" class=\"dataframe\">\n",
       "  <thead>\n",
       "    <tr style=\"text-align: right;\">\n",
       "      <th></th>\n",
       "      <th>Pclass</th>\n",
       "      <th>Sex</th>\n",
       "      <th>Age</th>\n",
       "      <th>SibSp</th>\n",
       "      <th>Parch</th>\n",
       "      <th>Fare</th>\n",
       "      <th>Cabin</th>\n",
       "      <th>Embarked</th>\n",
       "    </tr>\n",
       "  </thead>\n",
       "  <tbody>\n",
       "    <tr>\n",
       "      <th>0</th>\n",
       "      <td>3</td>\n",
       "      <td>1</td>\n",
       "      <td>22.0</td>\n",
       "      <td>1</td>\n",
       "      <td>0</td>\n",
       "      <td>7.2500</td>\n",
       "      <td>8</td>\n",
       "      <td>2</td>\n",
       "    </tr>\n",
       "    <tr>\n",
       "      <th>1</th>\n",
       "      <td>1</td>\n",
       "      <td>0</td>\n",
       "      <td>38.0</td>\n",
       "      <td>1</td>\n",
       "      <td>0</td>\n",
       "      <td>71.2833</td>\n",
       "      <td>2</td>\n",
       "      <td>0</td>\n",
       "    </tr>\n",
       "    <tr>\n",
       "      <th>2</th>\n",
       "      <td>3</td>\n",
       "      <td>0</td>\n",
       "      <td>26.0</td>\n",
       "      <td>0</td>\n",
       "      <td>0</td>\n",
       "      <td>7.9250</td>\n",
       "      <td>8</td>\n",
       "      <td>2</td>\n",
       "    </tr>\n",
       "    <tr>\n",
       "      <th>3</th>\n",
       "      <td>1</td>\n",
       "      <td>0</td>\n",
       "      <td>35.0</td>\n",
       "      <td>1</td>\n",
       "      <td>0</td>\n",
       "      <td>53.1000</td>\n",
       "      <td>2</td>\n",
       "      <td>2</td>\n",
       "    </tr>\n",
       "    <tr>\n",
       "      <th>4</th>\n",
       "      <td>3</td>\n",
       "      <td>1</td>\n",
       "      <td>35.0</td>\n",
       "      <td>0</td>\n",
       "      <td>0</td>\n",
       "      <td>8.0500</td>\n",
       "      <td>8</td>\n",
       "      <td>2</td>\n",
       "    </tr>\n",
       "    <tr>\n",
       "      <th>...</th>\n",
       "      <td>...</td>\n",
       "      <td>...</td>\n",
       "      <td>...</td>\n",
       "      <td>...</td>\n",
       "      <td>...</td>\n",
       "      <td>...</td>\n",
       "      <td>...</td>\n",
       "      <td>...</td>\n",
       "    </tr>\n",
       "    <tr>\n",
       "      <th>886</th>\n",
       "      <td>2</td>\n",
       "      <td>1</td>\n",
       "      <td>27.0</td>\n",
       "      <td>0</td>\n",
       "      <td>0</td>\n",
       "      <td>13.0000</td>\n",
       "      <td>8</td>\n",
       "      <td>2</td>\n",
       "    </tr>\n",
       "    <tr>\n",
       "      <th>887</th>\n",
       "      <td>1</td>\n",
       "      <td>0</td>\n",
       "      <td>19.0</td>\n",
       "      <td>0</td>\n",
       "      <td>0</td>\n",
       "      <td>30.0000</td>\n",
       "      <td>1</td>\n",
       "      <td>2</td>\n",
       "    </tr>\n",
       "    <tr>\n",
       "      <th>888</th>\n",
       "      <td>3</td>\n",
       "      <td>0</td>\n",
       "      <td>NaN</td>\n",
       "      <td>1</td>\n",
       "      <td>2</td>\n",
       "      <td>23.4500</td>\n",
       "      <td>8</td>\n",
       "      <td>2</td>\n",
       "    </tr>\n",
       "    <tr>\n",
       "      <th>889</th>\n",
       "      <td>1</td>\n",
       "      <td>1</td>\n",
       "      <td>26.0</td>\n",
       "      <td>0</td>\n",
       "      <td>0</td>\n",
       "      <td>30.0000</td>\n",
       "      <td>2</td>\n",
       "      <td>0</td>\n",
       "    </tr>\n",
       "    <tr>\n",
       "      <th>890</th>\n",
       "      <td>3</td>\n",
       "      <td>1</td>\n",
       "      <td>32.0</td>\n",
       "      <td>0</td>\n",
       "      <td>0</td>\n",
       "      <td>7.7500</td>\n",
       "      <td>8</td>\n",
       "      <td>1</td>\n",
       "    </tr>\n",
       "  </tbody>\n",
       "</table>\n",
       "<p>891 rows × 8 columns</p>\n",
       "</div>"
      ],
      "text/plain": [
       "     Pclass  Sex   Age  SibSp  Parch     Fare  Cabin  Embarked\n",
       "0         3    1  22.0      1      0   7.2500      8         2\n",
       "1         1    0  38.0      1      0  71.2833      2         0\n",
       "2         3    0  26.0      0      0   7.9250      8         2\n",
       "3         1    0  35.0      1      0  53.1000      2         2\n",
       "4         3    1  35.0      0      0   8.0500      8         2\n",
       "..      ...  ...   ...    ...    ...      ...    ...       ...\n",
       "886       2    1  27.0      0      0  13.0000      8         2\n",
       "887       1    0  19.0      0      0  30.0000      1         2\n",
       "888       3    0   NaN      1      2  23.4500      8         2\n",
       "889       1    1  26.0      0      0  30.0000      2         0\n",
       "890       3    1  32.0      0      0   7.7500      8         1\n",
       "\n",
       "[891 rows x 8 columns]"
      ]
     },
     "execution_count": 56,
     "metadata": {},
     "output_type": "execute_result"
    }
   ],
   "source": [
    "titanic_feature"
   ]
  },
  {
   "cell_type": "code",
   "execution_count": 63,
   "id": "030e7f43",
   "metadata": {
    "scrolled": true
   },
   "outputs": [
    {
     "data": {
      "text/plain": [
       "<AxesSubplot:>"
      ]
     },
     "execution_count": 63,
     "metadata": {},
     "output_type": "execute_result"
    },
    {
     "data": {
      "image/png": "[encoded data removed]",
      "text/plain": [
       "<Figure size 1800x720 with 2 Axes>"
      ]
     },
     "metadata": {
      "needs_background": "light"
     },
     "output_type": "display_data"
    }
   ],
   "source": [
    "msno.matrix(titanic_feature)"
   ]
  },
  {
   "cell_type": "code",
   "execution_count": 64,
   "id": "6a8d3a43",
   "metadata": {},
   "outputs": [
    {
     "name": "stdout",
     "output_type": "stream",
     "text": [
      "학습고 테스트 분리 - \n",
      "\n"
     ]
    }
   ],
   "source": [
    "print('학습고 테스트 분리 - ')\n",
    "print()\n",
    "X_train, X_test, y_train, y_test=train_test_split(titanic_feature,\n",
    "                                                 titanic_target,\n",
    "                                                 test_size=0.2,\n",
    "                                                 random_state=100)"
   ]
  },
  {
   "cell_type": "code",
   "execution_count": 65,
   "id": "6a910d0a",
   "metadata": {
    "scrolled": true
   },
   "outputs": [
    {
     "data": {
      "text/plain": [
       "((712, 8), (179, 8), (712,), (179,))"
      ]
     },
     "execution_count": 65,
     "metadata": {},
     "output_type": "execute_result"
    }
   ],
   "source": [
    "X_train.shape, X_test.shape, y_train.shape, y_test.shape"
   ]
  },
  {
   "cell_type": "code",
   "execution_count": 66,
   "id": "dea98848",
   "metadata": {},
   "outputs": [
    {
     "ename": "NameError",
     "evalue": "name 'LogisticRegression' is not defined",
     "output_type": "error",
     "traceback": [
      "\u001b[1;31m---------------------------------------------------------------------------\u001b[0m",
      "\u001b[1;31mNameError\u001b[0m                                 Traceback (most recent call last)",
      "\u001b[1;32m~\\AppData\\Local\\Temp/ipykernel_796/2410685463.py\u001b[0m in \u001b[0;36m<module>\u001b[1;34m\u001b[0m\n\u001b[1;32m----> 1\u001b[1;33m \u001b[0mlr_model\u001b[0m \u001b[1;33m=\u001b[0m \u001b[0mLogisticRegression\u001b[0m\u001b[1;33m(\u001b[0m\u001b[1;33m)\u001b[0m\u001b[1;33m\u001b[0m\u001b[1;33m\u001b[0m\u001b[0m\n\u001b[0m\u001b[0;32m      2\u001b[0m \u001b[0mlr_model\u001b[0m\u001b[1;33m.\u001b[0m\u001b[0mfit\u001b[0m\u001b[1;33m(\u001b[0m\u001b[0mX_train\u001b[0m\u001b[1;33m,\u001b[0m \u001b[0my_train\u001b[0m\u001b[1;33m)\u001b[0m\u001b[1;33m\u001b[0m\u001b[1;33m\u001b[0m\u001b[0m\n\u001b[0;32m      3\u001b[0m \u001b[0mlr_y_pred\u001b[0m \u001b[1;33m=\u001b[0m \u001b[0mlr_model\u001b[0m\u001b[1;33m.\u001b[0m\u001b[0mpredict\u001b[0m\u001b[1;33m(\u001b[0m\u001b[0mX_test\u001b[0m\u001b[1;33m)\u001b[0m\u001b[1;33m\u001b[0m\u001b[1;33m\u001b[0m\u001b[0m\n",
      "\u001b[1;31mNameError\u001b[0m: name 'LogisticRegression' is not defined"
     ]
    }
   ],
   "source": [
    "lr_model = LogisticRegression()\n",
    "lr_model.fit(X_train, y_train)\n",
    "lr_y_pred = lr_model.predict(X_test)"
   ]
  },
  {
   "cell_type": "code",
   "execution_count": 67,
   "id": "fd53936d",
   "metadata": {},
   "outputs": [],
   "source": [
    "lr_model = DecisionTreeClassifier()\n",
    "lr_model.fit(X_train, y_train)\n",
    "lr_y_pred = lr_model.predict(X_test)"
   ]
  },
  {
   "cell_type": "code",
   "execution_count": 68,
   "id": "9c0dbb5b",
   "metadata": {},
   "outputs": [],
   "source": [
    "def metrics_eval(target, prediction) :\n",
    "    print('accurancy -', accuracy_score(target, prediction))\n",
    "    print('recall - ', recall_score(target, prediction))\n",
    "    print('precision - ', precision_score(target,prediction))\n",
    "    print('fr_score - ', f1_score(target, prediction))\n",
    "    print()\n",
    "    print('confusion_matrix - \\n', confusion_matrix(target,prediction))"
   ]
  },
  {
   "cell_type": "code",
   "execution_count": 69,
   "id": "c596a2f3",
   "metadata": {},
   "outputs": [
    {
     "name": "stdout",
     "output_type": "stream",
     "text": [
      "LogisticRegression\n",
      "\n",
      "accurancy - 0.7821229050279329\n",
      "recall -  0.76\n",
      "precision -  0.7307692307692307\n",
      "fr_score -  0.7450980392156863\n",
      "\n",
      "confusion_matrix - \n",
      " [[83 21]\n",
      " [18 57]]\n"
     ]
    }
   ],
   "source": [
    "print('LogisticRegression')\n",
    "print()\n",
    "metrics_eval(y_test, lr_y_pred)"
   ]
  },
  {
   "cell_type": "code",
   "execution_count": 71,
   "id": "a9bca1e6",
   "metadata": {},
   "outputs": [
    {
     "name": "stdout",
     "output_type": "stream",
     "text": [
      "LogisticRegression\n",
      "\n"
     ]
    },
    {
     "ename": "NameError",
     "evalue": "name 'dt_y_pred' is not defined",
     "output_type": "error",
     "traceback": [
      "\u001b[1;31m---------------------------------------------------------------------------\u001b[0m",
      "\u001b[1;31mNameError\u001b[0m                                 Traceback (most recent call last)",
      "\u001b[1;32m~\\AppData\\Local\\Temp/ipykernel_796/2606678086.py\u001b[0m in \u001b[0;36m<module>\u001b[1;34m\u001b[0m\n\u001b[0;32m      1\u001b[0m \u001b[0mprint\u001b[0m\u001b[1;33m(\u001b[0m\u001b[1;34m'LogisticRegression'\u001b[0m\u001b[1;33m)\u001b[0m\u001b[1;33m\u001b[0m\u001b[1;33m\u001b[0m\u001b[0m\n\u001b[0;32m      2\u001b[0m \u001b[0mprint\u001b[0m\u001b[1;33m(\u001b[0m\u001b[1;33m)\u001b[0m\u001b[1;33m\u001b[0m\u001b[1;33m\u001b[0m\u001b[0m\n\u001b[1;32m----> 3\u001b[1;33m \u001b[0mmetrics_eval\u001b[0m\u001b[1;33m(\u001b[0m\u001b[0my_test\u001b[0m\u001b[1;33m,\u001b[0m \u001b[0mdt_y_pred\u001b[0m\u001b[1;33m)\u001b[0m\u001b[1;33m\u001b[0m\u001b[1;33m\u001b[0m\u001b[0m\n\u001b[0m",
      "\u001b[1;31mNameError\u001b[0m: name 'dt_y_pred' is not defined"
     ]
    }
   ],
   "source": [
    "print('LogisticRegression')\n",
    "print()\n",
    "metrics_eval(y_test, dt_y_pred)"
   ]
  },
  {
   "cell_type": "code",
   "execution_count": null,
   "id": "cb0511c3",
   "metadata": {},
   "outputs": [],
   "source": [
    "print('교차검증 -') #0과 1 만 있는 이진분류에서만 사용 가능\n",
    "fold = KFold(n_splits = 20)\n",
    "scoring = {\n",
    "    'accuracy' : make_scorer(accyracy_score),\n",
    "    'precision' : make_scorer(precision_score),\n",
    "    'recall' : make_scorer(recall_score),\n",
    "    'f1' : make_scorer(f1_score)\n",
    "}\n",
    "\n",
    "result = cross_validate(lr_model,)\n"
   ]
  },
  {
   "cell_type": "code",
   "execution_count": 73,
   "id": "306d885e",
   "metadata": {
    "scrolled": true
   },
   "outputs": [
    {
     "name": "stdout",
     "output_type": "stream",
     "text": [
      "유방암 관련 데이터 - 정확도, 재현율(실제 P를 N으로 예측하면 안되기 때문에)\n",
      "재현율은 실제 양성을 양성으로 예측한 비율이 높아야 성능이 좋은 모델\n"
     ]
    }
   ],
   "source": [
    "print('유방암 관련 데이터 - 정확도, 재현율(실제 P를 N으로 예측하면 안되기 때문에)')\n",
    "print('재현율은 실제 양성을 양성으로 예측한 비율이 높아야 성능이 좋은 모델')"
   ]
  },
  {
   "cell_type": "code",
   "execution_count": null,
   "id": "b829e1d2",
   "metadata": {},
   "outputs": [],
   "source": [
    "cancer = load_breast_cancer()"
   ]
  },
  {
   "cell_type": "code",
   "execution_count": 74,
   "id": "96838ac3",
   "metadata": {},
   "outputs": [
    {
     "name": "stdout",
     "output_type": "stream",
     "text": [
      "1. 프레임 만들기(feature, target) 포함\n",
      "2. target에 대한 규형 여부를 확인\n",
      "3. 데이터 세트 분리\n",
      "4. RandomForestClassifier\n",
      "5. 평가지표 확인\n"
     ]
    }
   ],
   "source": [
    "print(\"1. 프레임 만들기(feature, target) 포함\")\n",
    "print(\"2. target에 대한 규형 여부를 확인\")\n",
    "print(\"3. 데이터 세트 분리\")\n",
    "print(\"4. RandomForestClassifier\")\n",
    "print(\"5. 평가지표 확인\")\n",
    "\n",
    "cancer = load_breast_cancer()"
   ]
  },
  {
   "cell_type": "code",
   "execution_count": 90,
   "id": "2365dd84",
   "metadata": {},
   "outputs": [
    {
     "name": "stdout",
     "output_type": "stream",
     "text": [
      "데이터의 규형 여부 확인\n"
     ]
    },
    {
     "data": {
      "text/plain": [
       "1    357\n",
       "0    212\n",
       "Name: target, dtype: int64"
      ]
     },
     "execution_count": 90,
     "metadata": {},
     "output_type": "execute_result"
    }
   ],
   "source": [
    "print('데이터의 규형 여부 확인')\n",
    "\n",
    "\n",
    "type(cancer)\n",
    "\n",
    "cancer_frm = pd.DataFrame(data=cancer.data,\n",
    "                         columns=cancer.feature_names)\n",
    "\n",
    "# cancer_frm.head()\n",
    "cancer_frm['target'] = cancer.target\n",
    "cancer_frm['target'].value_counts()"
   ]
  },
  {
   "cell_type": "code",
   "execution_count": 95,
   "id": "daa218f9",
   "metadata": {
    "scrolled": true
   },
   "outputs": [
    {
     "name": "stdout",
     "output_type": "stream",
     "text": [
      "target type -  <class 'pandas.core.series.Series'> features type -  <class 'pandas.core.frame.DataFrame'>\n"
     ]
    }
   ],
   "source": [
    "cancer_target    =  cancer_frm['target']\n",
    "cancer_features =  cancer_frm.drop(['target'] , axis = 1)\n",
    "\n",
    "print('target type - ' , type(cancer_target) , 'features type - ' , type(cancer_features))"
   ]
  },
  {
   "cell_type": "code",
   "execution_count": 96,
   "id": "550ce1c1",
   "metadata": {},
   "outputs": [],
   "source": [
    "X_train , X_test , y_train , y_test = train_test_split(cancer_features , \n",
    "                                                       cancer_target , \n",
    "                                                       test_size = 0.2 , \n",
    "                                                       random_state = 100)"
   ]
  },
  {
   "cell_type": "code",
   "execution_count": 97,
   "id": "16533801",
   "metadata": {},
   "outputs": [
    {
     "data": {
      "text/plain": [
       "RandomForestClassifier()"
      ]
     },
     "execution_count": 97,
     "metadata": {},
     "output_type": "execute_result"
    }
   ],
   "source": [
    "rf_model = RandomForestClassifier()\n",
    "rf_model.fit(X_train, y_train)"
   ]
  },
  {
   "cell_type": "code",
   "execution_count": 98,
   "id": "32e80375",
   "metadata": {},
   "outputs": [],
   "source": [
    "rf_y_pred = rf_model.predict(X_test)"
   ]
  },
  {
   "cell_type": "code",
   "execution_count": 99,
   "id": "84e0acc6",
   "metadata": {},
   "outputs": [
    {
     "name": "stdout",
     "output_type": "stream",
     "text": [
      "accurancy - 0.9649122807017544\n",
      "recall -  0.9846153846153847\n",
      "precision -  0.9552238805970149\n",
      "fr_score -  0.9696969696969696\n",
      "\n",
      "confusion_matrix - \n",
      " [[46  3]\n",
      " [ 1 64]]\n"
     ]
    }
   ],
   "source": [
    "metrics_eval(y_test , rf_y_pred)"
   ]
  },
  {
   "cell_type": "code",
   "execution_count": 100,
   "id": "2d63bdd7",
   "metadata": {},
   "outputs": [
    {
     "name": "stdout",
     "output_type": "stream",
     "text": [
      "교차검증 - \n"
     ]
    },
    {
     "data": {
      "text/plain": [
       "dict_keys(['fit_time', 'score_time', 'test_accuracy', 'test_precision', 'test_recall', 'test_f1'])"
      ]
     },
     "execution_count": 100,
     "metadata": {},
     "output_type": "execute_result"
    }
   ],
   "source": [
    "print('교차검증 - ')\n",
    "fold = KFold(n_splits=20)\n",
    "scoring = {\n",
    "    'accuracy'  : make_scorer(accuracy_score),\n",
    "    'precision' : make_scorer(precision_score), \n",
    "    'recall'    : make_scorer(recall_score), \n",
    "    'f1' : make_scorer(f1_score), \n",
    "}\n",
    "\n",
    "result = cross_validate(rf_model, X_train, y_train, \n",
    "                        cv = fold,\n",
    "                        scoring = scoring)\n",
    "result.keys()"
   ]
  },
  {
   "cell_type": "code",
   "execution_count": 101,
   "id": "550d5eac",
   "metadata": {
    "scrolled": true
   },
   "outputs": [
    {
     "data": {
      "text/plain": [
       "0.9791666666666667"
      ]
     },
     "execution_count": 101,
     "metadata": {},
     "output_type": "execute_result"
    }
   ],
   "source": [
    "result['test_recall'].mean()"
   ]
  },
  {
   "cell_type": "code",
   "execution_count": 103,
   "id": "a4e87a6b",
   "metadata": {},
   "outputs": [
    {
     "data": {
      "text/plain": [
       "GridSearchCV(cv=20, estimator=RandomForestClassifier(),\n",
       "             param_grid={'max_depth': [4, 6, 8], 'max_features': [6, 8, 15, 20],\n",
       "                         'n_estimators': [50, 100, 150, 200]},\n",
       "             scoring='recall')"
      ]
     },
     "execution_count": 103,
     "metadata": {},
     "output_type": "execute_result"
    }
   ],
   "source": [
    "param = {\n",
    "    'n_estimators' : [50, 100, 150, 200],\n",
    "    'max_features' : [6, 8, 15, 20],\n",
    "    'max_depth' : [4,6,8]\n",
    "}\n",
    "\n",
    "grid_search_model = GridSearchCV(rf_model,\n",
    "                                param_grid = param,\n",
    "                                cv = 20,\n",
    "                                refit = True,\n",
    "                                scoring= 'recall')\n",
    "grid_search_model.fit(X_train, y_train)"
   ]
  },
  {
   "cell_type": "code",
   "execution_count": 104,
   "id": "6ad498be",
   "metadata": {},
   "outputs": [
    {
     "data": {
      "text/plain": [
       "{'mean_fit_time': array([0.08061336, 0.16189363, 0.22564939, 0.29217287, 0.08200376,\n",
       "        0.15933901, 0.25172472, 0.34302055, 0.1085489 , 0.20471618,\n",
       "        0.29923037, 0.42340258, 0.12178681, 0.23827513, 0.35932461,\n",
       "        0.45468663, 0.07654793, 0.15604624, 0.23564845, 0.29928024,\n",
       "        0.08124918, 0.16721659, 0.24531181, 0.32976475, 0.10545458,\n",
       "        0.2192112 , 0.32597408, 0.44295861, 0.1304508 , 0.27283548,\n",
       "        0.37000366, 0.49298865, 0.07884161, 0.15392039, 0.23063591,\n",
       "        0.32120284, 0.08521216, 0.1843743 , 0.27180961, 0.36094172,\n",
       "        0.10931227, 0.22583895, 0.34369217, 0.44141535, 0.12740477,\n",
       "        0.25002537, 0.36958457, 0.49069048]),\n",
       " 'std_fit_time': array([0.00703136, 0.01715837, 0.01121038, 0.01118928, 0.0068818 ,\n",
       "        0.00622614, 0.01698471, 0.01595232, 0.00605107, 0.00690353,\n",
       "        0.0075056 , 0.0128888 , 0.00800493, 0.01088094, 0.01907775,\n",
       "        0.00841661, 0.00469143, 0.00752829, 0.00928622, 0.0075841 ,\n",
       "        0.00625588, 0.00709054, 0.00711487, 0.00840273, 0.00682594,\n",
       "        0.01563823, 0.01907528, 0.01799091, 0.01027203, 0.02127791,\n",
       "        0.00864747, 0.0077397 , 0.00605071, 0.00549636, 0.00970763,\n",
       "        0.02065734, 0.00774611, 0.01267212, 0.01594625, 0.01462084,\n",
       "        0.00697529, 0.01045797, 0.01488814, 0.04702462, 0.00566297,\n",
       "        0.00701901, 0.00889753, 0.00906279]),\n",
       " 'mean_score_time': array([0.00555404, 0.0107167 , 0.01564772, 0.02032502, 0.00783778,\n",
       "        0.01097243, 0.01472549, 0.02025827, 0.00314207, 0.01015526,\n",
       "        0.01401236, 0.01723363, 0.00476168, 0.00862101, 0.01411273,\n",
       "        0.01637812, 0.006249  , 0.00954596, 0.01355994, 0.02024039,\n",
       "        0.00700661, 0.00856135, 0.01561691, 0.01633998, 0.00545907,\n",
       "        0.01126375, 0.01479137, 0.01800262, 0.0062471 , 0.01353788,\n",
       "        0.01563997, 0.0179286 , 0.00632224, 0.01170989, 0.01468643,\n",
       "        0.0201766 , 0.00852789, 0.01017122, 0.01330124, 0.01720071,\n",
       "        0.00783221, 0.01322739, 0.01571118, 0.01950119, 0.00542381,\n",
       "        0.01014686, 0.01319199, 0.01790988]),\n",
       " 'std_score_time': array([0.00636362, 0.00706413, 0.00029996, 0.00719275, 0.00784075,\n",
       "        0.00718705, 0.00339345, 0.00708336, 0.00628529, 0.00745645,\n",
       "        0.00468076, 0.00463628, 0.0072736 , 0.00780096, 0.00680906,\n",
       "        0.00341681, 0.00765602, 0.00711193, 0.00589982, 0.00718671,\n",
       "        0.00774943, 0.00774772, 0.00032847, 0.00340769, 0.00744195,\n",
       "        0.00666553, 0.00340842, 0.0055869 , 0.00765378, 0.00475326,\n",
       "        0.0003213 , 0.00553502, 0.00774386, 0.00676687, 0.00338472,\n",
       "        0.00715452, 0.00771789, 0.00746731, 0.00559472, 0.00462421,\n",
       "        0.00783506, 0.00556538, 0.00503076, 0.00676206, 0.00739376,\n",
       "        0.00744993, 0.00554965, 0.00559767]),\n",
       " 'param_max_depth': masked_array(data=[4, 4, 4, 4, 4, 4, 4, 4, 4, 4, 4, 4, 4, 4, 4, 4, 6, 6,\n",
       "                    6, 6, 6, 6, 6, 6, 6, 6, 6, 6, 6, 6, 6, 6, 8, 8, 8, 8,\n",
       "                    8, 8, 8, 8, 8, 8, 8, 8, 8, 8, 8, 8],\n",
       "              mask=[False, False, False, False, False, False, False, False,\n",
       "                    False, False, False, False, False, False, False, False,\n",
       "                    False, False, False, False, False, False, False, False,\n",
       "                    False, False, False, False, False, False, False, False,\n",
       "                    False, False, False, False, False, False, False, False,\n",
       "                    False, False, False, False, False, False, False, False],\n",
       "        fill_value='?',\n",
       "             dtype=object),\n",
       " 'param_max_features': masked_array(data=[6, 6, 6, 6, 8, 8, 8, 8, 15, 15, 15, 15, 20, 20, 20, 20,\n",
       "                    6, 6, 6, 6, 8, 8, 8, 8, 15, 15, 15, 15, 20, 20, 20, 20,\n",
       "                    6, 6, 6, 6, 8, 8, 8, 8, 15, 15, 15, 15, 20, 20, 20, 20],\n",
       "              mask=[False, False, False, False, False, False, False, False,\n",
       "                    False, False, False, False, False, False, False, False,\n",
       "                    False, False, False, False, False, False, False, False,\n",
       "                    False, False, False, False, False, False, False, False,\n",
       "                    False, False, False, False, False, False, False, False,\n",
       "                    False, False, False, False, False, False, False, False],\n",
       "        fill_value='?',\n",
       "             dtype=object),\n",
       " 'param_n_estimators': masked_array(data=[50, 100, 150, 200, 50, 100, 150, 200, 50, 100, 150,\n",
       "                    200, 50, 100, 150, 200, 50, 100, 150, 200, 50, 100,\n",
       "                    150, 200, 50, 100, 150, 200, 50, 100, 150, 200, 50,\n",
       "                    100, 150, 200, 50, 100, 150, 200, 50, 100, 150, 200,\n",
       "                    50, 100, 150, 200],\n",
       "              mask=[False, False, False, False, False, False, False, False,\n",
       "                    False, False, False, False, False, False, False, False,\n",
       "                    False, False, False, False, False, False, False, False,\n",
       "                    False, False, False, False, False, False, False, False,\n",
       "                    False, False, False, False, False, False, False, False,\n",
       "                    False, False, False, False, False, False, False, False],\n",
       "        fill_value='?',\n",
       "             dtype=object),\n",
       " 'params': [{'max_depth': 4, 'max_features': 6, 'n_estimators': 50},\n",
       "  {'max_depth': 4, 'max_features': 6, 'n_estimators': 100},\n",
       "  {'max_depth': 4, 'max_features': 6, 'n_estimators': 150},\n",
       "  {'max_depth': 4, 'max_features': 6, 'n_estimators': 200},\n",
       "  {'max_depth': 4, 'max_features': 8, 'n_estimators': 50},\n",
       "  {'max_depth': 4, 'max_features': 8, 'n_estimators': 100},\n",
       "  {'max_depth': 4, 'max_features': 8, 'n_estimators': 150},\n",
       "  {'max_depth': 4, 'max_features': 8, 'n_estimators': 200},\n",
       "  {'max_depth': 4, 'max_features': 15, 'n_estimators': 50},\n",
       "  {'max_depth': 4, 'max_features': 15, 'n_estimators': 100},\n",
       "  {'max_depth': 4, 'max_features': 15, 'n_estimators': 150},\n",
       "  {'max_depth': 4, 'max_features': 15, 'n_estimators': 200},\n",
       "  {'max_depth': 4, 'max_features': 20, 'n_estimators': 50},\n",
       "  {'max_depth': 4, 'max_features': 20, 'n_estimators': 100},\n",
       "  {'max_depth': 4, 'max_features': 20, 'n_estimators': 150},\n",
       "  {'max_depth': 4, 'max_features': 20, 'n_estimators': 200},\n",
       "  {'max_depth': 6, 'max_features': 6, 'n_estimators': 50},\n",
       "  {'max_depth': 6, 'max_features': 6, 'n_estimators': 100},\n",
       "  {'max_depth': 6, 'max_features': 6, 'n_estimators': 150},\n",
       "  {'max_depth': 6, 'max_features': 6, 'n_estimators': 200},\n",
       "  {'max_depth': 6, 'max_features': 8, 'n_estimators': 50},\n",
       "  {'max_depth': 6, 'max_features': 8, 'n_estimators': 100},\n",
       "  {'max_depth': 6, 'max_features': 8, 'n_estimators': 150},\n",
       "  {'max_depth': 6, 'max_features': 8, 'n_estimators': 200},\n",
       "  {'max_depth': 6, 'max_features': 15, 'n_estimators': 50},\n",
       "  {'max_depth': 6, 'max_features': 15, 'n_estimators': 100},\n",
       "  {'max_depth': 6, 'max_features': 15, 'n_estimators': 150},\n",
       "  {'max_depth': 6, 'max_features': 15, 'n_estimators': 200},\n",
       "  {'max_depth': 6, 'max_features': 20, 'n_estimators': 50},\n",
       "  {'max_depth': 6, 'max_features': 20, 'n_estimators': 100},\n",
       "  {'max_depth': 6, 'max_features': 20, 'n_estimators': 150},\n",
       "  {'max_depth': 6, 'max_features': 20, 'n_estimators': 200},\n",
       "  {'max_depth': 8, 'max_features': 6, 'n_estimators': 50},\n",
       "  {'max_depth': 8, 'max_features': 6, 'n_estimators': 100},\n",
       "  {'max_depth': 8, 'max_features': 6, 'n_estimators': 150},\n",
       "  {'max_depth': 8, 'max_features': 6, 'n_estimators': 200},\n",
       "  {'max_depth': 8, 'max_features': 8, 'n_estimators': 50},\n",
       "  {'max_depth': 8, 'max_features': 8, 'n_estimators': 100},\n",
       "  {'max_depth': 8, 'max_features': 8, 'n_estimators': 150},\n",
       "  {'max_depth': 8, 'max_features': 8, 'n_estimators': 200},\n",
       "  {'max_depth': 8, 'max_features': 15, 'n_estimators': 50},\n",
       "  {'max_depth': 8, 'max_features': 15, 'n_estimators': 100},\n",
       "  {'max_depth': 8, 'max_features': 15, 'n_estimators': 150},\n",
       "  {'max_depth': 8, 'max_features': 15, 'n_estimators': 200},\n",
       "  {'max_depth': 8, 'max_features': 20, 'n_estimators': 50},\n",
       "  {'max_depth': 8, 'max_features': 20, 'n_estimators': 100},\n",
       "  {'max_depth': 8, 'max_features': 20, 'n_estimators': 150},\n",
       "  {'max_depth': 8, 'max_features': 20, 'n_estimators': 200}],\n",
       " 'split0_test_score': array([0.93333333, 0.93333333, 0.93333333, 0.93333333, 0.93333333,\n",
       "        0.93333333, 0.93333333, 0.93333333, 1.        , 1.        ,\n",
       "        1.        , 0.93333333, 0.93333333, 1.        , 0.93333333,\n",
       "        0.93333333, 0.93333333, 0.93333333, 0.93333333, 0.93333333,\n",
       "        1.        , 1.        , 1.        , 0.93333333, 1.        ,\n",
       "        0.93333333, 1.        , 1.        , 0.93333333, 1.        ,\n",
       "        1.        , 1.        , 0.93333333, 0.93333333, 0.93333333,\n",
       "        0.93333333, 0.93333333, 0.93333333, 0.93333333, 1.        ,\n",
       "        0.93333333, 0.93333333, 0.93333333, 0.93333333, 1.        ,\n",
       "        1.        , 0.93333333, 1.        ]),\n",
       " 'split1_test_score': array([1., 1., 1., 1., 1., 1., 1., 1., 1., 1., 1., 1., 1., 1., 1., 1., 1.,\n",
       "        1., 1., 1., 1., 1., 1., 1., 1., 1., 1., 1., 1., 1., 1., 1., 1., 1.,\n",
       "        1., 1., 1., 1., 1., 1., 1., 1., 1., 1., 1., 1., 1., 1.]),\n",
       " 'split2_test_score': array([1.        , 1.        , 1.        , 1.        , 1.        ,\n",
       "        1.        , 1.        , 1.        , 1.        , 1.        ,\n",
       "        1.        , 1.        , 1.        , 1.        , 1.        ,\n",
       "        1.        , 1.        , 1.        , 1.        , 1.        ,\n",
       "        1.        , 1.        , 1.        , 1.        , 1.        ,\n",
       "        1.        , 1.        , 0.93333333, 1.        , 1.        ,\n",
       "        0.93333333, 0.93333333, 0.93333333, 1.        , 1.        ,\n",
       "        1.        , 1.        , 1.        , 1.        , 1.        ,\n",
       "        1.        , 0.93333333, 1.        , 1.        , 0.93333333,\n",
       "        0.93333333, 0.93333333, 0.93333333]),\n",
       " 'split3_test_score': array([1.        , 1.        , 1.        , 1.        , 1.        ,\n",
       "        1.        , 1.        , 1.        , 1.        , 1.        ,\n",
       "        1.        , 1.        , 0.93333333, 1.        , 1.        ,\n",
       "        1.        , 1.        , 1.        , 1.        , 1.        ,\n",
       "        1.        , 1.        , 1.        , 1.        , 1.        ,\n",
       "        1.        , 1.        , 1.        , 1.        , 0.93333333,\n",
       "        1.        , 1.        , 1.        , 1.        , 1.        ,\n",
       "        1.        , 1.        , 1.        , 1.        , 1.        ,\n",
       "        1.        , 1.        , 1.        , 1.        , 1.        ,\n",
       "        1.        , 1.        , 1.        ]),\n",
       " 'split4_test_score': array([1., 1., 1., 1., 1., 1., 1., 1., 1., 1., 1., 1., 1., 1., 1., 1., 1.,\n",
       "        1., 1., 1., 1., 1., 1., 1., 1., 1., 1., 1., 1., 1., 1., 1., 1., 1.,\n",
       "        1., 1., 1., 1., 1., 1., 1., 1., 1., 1., 1., 1., 1., 1.]),\n",
       " 'split5_test_score': array([1., 1., 1., 1., 1., 1., 1., 1., 1., 1., 1., 1., 1., 1., 1., 1., 1.,\n",
       "        1., 1., 1., 1., 1., 1., 1., 1., 1., 1., 1., 1., 1., 1., 1., 1., 1.,\n",
       "        1., 1., 1., 1., 1., 1., 1., 1., 1., 1., 1., 1., 1., 1.]),\n",
       " 'split6_test_score': array([0.93333333, 0.93333333, 0.93333333, 0.93333333, 0.93333333,\n",
       "        0.93333333, 0.93333333, 0.93333333, 0.93333333, 0.93333333,\n",
       "        0.93333333, 0.93333333, 0.93333333, 0.93333333, 0.93333333,\n",
       "        0.93333333, 0.93333333, 0.93333333, 0.93333333, 0.93333333,\n",
       "        0.93333333, 0.93333333, 0.93333333, 0.93333333, 0.93333333,\n",
       "        0.93333333, 0.93333333, 0.93333333, 0.93333333, 0.93333333,\n",
       "        0.93333333, 0.93333333, 0.93333333, 0.93333333, 0.93333333,\n",
       "        0.93333333, 0.93333333, 0.93333333, 0.93333333, 0.93333333,\n",
       "        0.93333333, 0.93333333, 0.93333333, 0.93333333, 0.93333333,\n",
       "        0.93333333, 0.93333333, 0.93333333]),\n",
       " 'split7_test_score': array([1., 1., 1., 1., 1., 1., 1., 1., 1., 1., 1., 1., 1., 1., 1., 1., 1.,\n",
       "        1., 1., 1., 1., 1., 1., 1., 1., 1., 1., 1., 1., 1., 1., 1., 1., 1.,\n",
       "        1., 1., 1., 1., 1., 1., 1., 1., 1., 1., 1., 1., 1., 1.]),\n",
       " 'split8_test_score': array([0.93333333, 0.93333333, 0.93333333, 0.86666667, 0.93333333,\n",
       "        1.        , 0.93333333, 1.        , 0.86666667, 1.        ,\n",
       "        0.93333333, 1.        , 0.93333333, 1.        , 0.93333333,\n",
       "        0.93333333, 1.        , 0.93333333, 0.93333333, 0.86666667,\n",
       "        0.93333333, 0.93333333, 1.        , 0.93333333, 0.86666667,\n",
       "        1.        , 1.        , 1.        , 1.        , 0.93333333,\n",
       "        1.        , 0.93333333, 0.86666667, 0.93333333, 0.86666667,\n",
       "        1.        , 1.        , 0.93333333, 1.        , 0.93333333,\n",
       "        0.93333333, 1.        , 0.93333333, 1.        , 0.93333333,\n",
       "        1.        , 0.93333333, 1.        ]),\n",
       " 'split9_test_score': array([1., 1., 1., 1., 1., 1., 1., 1., 1., 1., 1., 1., 1., 1., 1., 1., 1.,\n",
       "        1., 1., 1., 1., 1., 1., 1., 1., 1., 1., 1., 1., 1., 1., 1., 1., 1.,\n",
       "        1., 1., 1., 1., 1., 1., 1., 1., 1., 1., 1., 1., 1., 1.]),\n",
       " 'split10_test_score': array([0.93333333, 0.93333333, 0.93333333, 0.93333333, 0.93333333,\n",
       "        0.93333333, 0.93333333, 0.93333333, 0.93333333, 0.93333333,\n",
       "        0.93333333, 0.93333333, 0.93333333, 0.93333333, 0.93333333,\n",
       "        0.93333333, 0.93333333, 0.93333333, 0.93333333, 0.93333333,\n",
       "        0.93333333, 0.93333333, 0.93333333, 0.93333333, 0.93333333,\n",
       "        0.93333333, 0.93333333, 0.93333333, 0.93333333, 0.93333333,\n",
       "        0.93333333, 0.93333333, 0.93333333, 0.93333333, 0.93333333,\n",
       "        0.93333333, 0.93333333, 0.93333333, 0.93333333, 0.93333333,\n",
       "        0.93333333, 0.93333333, 0.93333333, 0.93333333, 0.93333333,\n",
       "        0.93333333, 0.93333333, 0.93333333]),\n",
       " 'split11_test_score': array([0.93333333, 0.93333333, 0.93333333, 0.93333333, 0.93333333,\n",
       "        0.93333333, 0.93333333, 0.93333333, 0.93333333, 0.93333333,\n",
       "        0.93333333, 0.93333333, 0.86666667, 0.93333333, 0.93333333,\n",
       "        0.93333333, 0.93333333, 0.93333333, 0.93333333, 0.93333333,\n",
       "        0.93333333, 0.93333333, 0.93333333, 0.93333333, 0.93333333,\n",
       "        0.93333333, 0.93333333, 0.93333333, 0.93333333, 0.93333333,\n",
       "        0.86666667, 0.93333333, 0.93333333, 0.93333333, 0.93333333,\n",
       "        0.93333333, 0.93333333, 0.93333333, 0.93333333, 0.93333333,\n",
       "        0.86666667, 0.93333333, 0.93333333, 0.93333333, 0.86666667,\n",
       "        0.86666667, 0.93333333, 0.93333333]),\n",
       " 'split12_test_score': array([0.92857143, 0.92857143, 0.92857143, 0.92857143, 0.92857143,\n",
       "        0.92857143, 0.92857143, 0.92857143, 0.92857143, 0.92857143,\n",
       "        0.92857143, 0.92857143, 0.92857143, 0.92857143, 0.92857143,\n",
       "        0.92857143, 0.92857143, 0.92857143, 0.92857143, 0.92857143,\n",
       "        0.92857143, 0.92857143, 0.92857143, 0.92857143, 0.92857143,\n",
       "        0.92857143, 0.92857143, 0.92857143, 0.92857143, 0.92857143,\n",
       "        0.92857143, 0.92857143, 0.92857143, 0.92857143, 0.92857143,\n",
       "        0.92857143, 0.92857143, 0.92857143, 0.92857143, 0.92857143,\n",
       "        0.92857143, 0.92857143, 0.92857143, 0.92857143, 0.92857143,\n",
       "        0.92857143, 0.92857143, 0.92857143]),\n",
       " 'split13_test_score': array([1.        , 1.        , 1.        , 1.        , 0.92857143,\n",
       "        0.92857143, 0.92857143, 0.92857143, 0.92857143, 0.92857143,\n",
       "        0.92857143, 0.92857143, 0.92857143, 0.92857143, 0.92857143,\n",
       "        0.92857143, 1.        , 1.        , 1.        , 1.        ,\n",
       "        1.        , 0.92857143, 1.        , 0.92857143, 0.92857143,\n",
       "        0.92857143, 0.92857143, 0.92857143, 0.92857143, 0.92857143,\n",
       "        0.92857143, 0.92857143, 1.        , 0.92857143, 1.        ,\n",
       "        1.        , 1.        , 0.92857143, 1.        , 1.        ,\n",
       "        0.92857143, 1.        , 0.92857143, 0.92857143, 0.92857143,\n",
       "        1.        , 0.92857143, 0.92857143]),\n",
       " 'split14_test_score': array([1.        , 1.        , 1.        , 1.        , 1.        ,\n",
       "        1.        , 1.        , 1.        , 1.        , 1.        ,\n",
       "        1.        , 1.        , 1.        , 0.92857143, 0.92857143,\n",
       "        1.        , 1.        , 1.        , 1.        , 1.        ,\n",
       "        1.        , 1.        , 1.        , 1.        , 1.        ,\n",
       "        0.92857143, 1.        , 1.        , 0.92857143, 0.92857143,\n",
       "        1.        , 0.92857143, 1.        , 1.        , 1.        ,\n",
       "        1.        , 1.        , 1.        , 1.        , 1.        ,\n",
       "        1.        , 1.        , 1.        , 0.92857143, 1.        ,\n",
       "        0.92857143, 1.        , 1.        ]),\n",
       " 'split15_test_score': array([1.        , 1.        , 1.        , 1.        , 1.        ,\n",
       "        1.        , 1.        , 1.        , 1.        , 0.92857143,\n",
       "        1.        , 1.        , 0.92857143, 0.92857143, 0.92857143,\n",
       "        0.92857143, 1.        , 1.        , 1.        , 1.        ,\n",
       "        1.        , 1.        , 1.        , 1.        , 0.92857143,\n",
       "        1.        , 1.        , 0.92857143, 0.92857143, 0.92857143,\n",
       "        1.        , 0.92857143, 1.        , 1.        , 1.        ,\n",
       "        1.        , 0.92857143, 1.        , 1.        , 1.        ,\n",
       "        0.92857143, 0.92857143, 1.        , 0.92857143, 1.        ,\n",
       "        0.92857143, 0.92857143, 0.92857143]),\n",
       " 'split16_test_score': array([1., 1., 1., 1., 1., 1., 1., 1., 1., 1., 1., 1., 1., 1., 1., 1., 1.,\n",
       "        1., 1., 1., 1., 1., 1., 1., 1., 1., 1., 1., 1., 1., 1., 1., 1., 1.,\n",
       "        1., 1., 1., 1., 1., 1., 1., 1., 1., 1., 1., 1., 1., 1.]),\n",
       " 'split17_test_score': array([1.        , 1.        , 1.        , 1.        , 0.92857143,\n",
       "        0.92857143, 1.        , 1.        , 1.        , 0.92857143,\n",
       "        1.        , 1.        , 0.92857143, 1.        , 1.        ,\n",
       "        1.        , 0.92857143, 0.92857143, 1.        , 1.        ,\n",
       "        0.92857143, 1.        , 1.        , 1.        , 1.        ,\n",
       "        1.        , 0.92857143, 1.        , 1.        , 1.        ,\n",
       "        1.        , 1.        , 1.        , 0.92857143, 0.92857143,\n",
       "        1.        , 1.        , 0.92857143, 1.        , 1.        ,\n",
       "        1.        , 1.        , 1.        , 1.        , 1.        ,\n",
       "        1.        , 1.        , 1.        ]),\n",
       " 'split18_test_score': array([1.        , 1.        , 1.        , 1.        , 1.        ,\n",
       "        1.        , 1.        , 1.        , 1.        , 1.        ,\n",
       "        1.        , 1.        , 1.        , 1.        , 1.        ,\n",
       "        1.        , 1.        , 1.        , 1.        , 1.        ,\n",
       "        1.        , 1.        , 1.        , 1.        , 1.        ,\n",
       "        1.        , 1.        , 1.        , 1.        , 1.        ,\n",
       "        1.        , 1.        , 1.        , 1.        , 1.        ,\n",
       "        1.        , 1.        , 1.        , 1.        , 1.        ,\n",
       "        1.        , 1.        , 0.92857143, 1.        , 1.        ,\n",
       "        1.        , 1.        , 1.        ]),\n",
       " 'split19_test_score': array([1., 1., 1., 1., 1., 1., 1., 1., 1., 1., 1., 1., 1., 1., 1., 1., 1.,\n",
       "        1., 1., 1., 1., 1., 1., 1., 1., 1., 1., 1., 1., 1., 1., 1., 1., 1.,\n",
       "        1., 1., 1., 1., 1., 1., 1., 1., 1., 1., 1., 1., 1., 1.]),\n",
       " 'mean_test_score': array([0.9797619 , 0.9797619 , 0.9797619 , 0.97642857, 0.97261905,\n",
       "        0.97595238, 0.97619048, 0.97952381, 0.97619048, 0.97571429,\n",
       "        0.97952381, 0.97952381, 0.96238095, 0.97571429, 0.96904762,\n",
       "        0.97261905, 0.97952381, 0.97619048, 0.9797619 , 0.97642857,\n",
       "        0.97952381, 0.97952381, 0.98642857, 0.97619048, 0.97261905,\n",
       "        0.97595238, 0.97928571, 0.97595238, 0.97238095, 0.96904762,\n",
       "        0.97619048, 0.96904762, 0.97309524, 0.97261905, 0.97285714,\n",
       "        0.98309524, 0.97952381, 0.97261905, 0.98309524, 0.98309524,\n",
       "        0.96928571, 0.97619048, 0.97261905, 0.97238095, 0.97285714,\n",
       "        0.97261905, 0.96928571, 0.97595238]),\n",
       " 'std_test_score': array([0.03092948, 0.03092948, 0.03092948, 0.03843524, 0.03356636,\n",
       "        0.03280102, 0.03247186, 0.03130205, 0.03871519, 0.0331252 ,\n",
       "        0.03130205, 0.03130205, 0.04006514, 0.0331252 , 0.03425594,\n",
       "        0.03356636, 0.03130205, 0.03247186, 0.03092948, 0.03843524,\n",
       "        0.03130205, 0.03130205, 0.02715852, 0.03247186, 0.03963767,\n",
       "        0.03280102, 0.03166846, 0.03280102, 0.03385979, 0.03425594,\n",
       "        0.03871519, 0.03425594, 0.03913101, 0.03356636, 0.03938588,\n",
       "        0.02929539, 0.03130205, 0.03356636, 0.02929539, 0.02929539,\n",
       "        0.03999646, 0.03247186, 0.03356636, 0.03385979, 0.03938588,\n",
       "        0.03963767, 0.03398929, 0.03280102]),\n",
       " 'rank_test_score': array([ 5,  5,  5, 17, 34, 25, 19,  9, 19, 29,  9,  9, 48, 29, 45, 34,  9,\n",
       "        24,  5, 17,  9,  9,  1, 19, 34, 25, 16, 25, 41, 45, 19, 45, 31, 34,\n",
       "        33,  2,  9, 34,  2,  2, 43, 19, 34, 41, 32, 34, 43, 25])}"
      ]
     },
     "execution_count": 104,
     "metadata": {},
     "output_type": "execute_result"
    }
   ],
   "source": [
    "grid_search_model.cv_results_"
   ]
  },
  {
   "cell_type": "code",
   "execution_count": 105,
   "id": "d7a5f9c1",
   "metadata": {},
   "outputs": [
    {
     "data": {
      "text/plain": [
       "{'max_depth': 6, 'max_features': 8, 'n_estimators': 150}"
      ]
     },
     "execution_count": 105,
     "metadata": {},
     "output_type": "execute_result"
    }
   ],
   "source": [
    "grid_search_model.best_params_"
   ]
  },
  {
   "cell_type": "code",
   "execution_count": 106,
   "id": "6b78cf2b",
   "metadata": {},
   "outputs": [
    {
     "data": {
      "text/plain": [
       "0.9864285714285714"
      ]
     },
     "execution_count": 106,
     "metadata": {},
     "output_type": "execute_result"
    }
   ],
   "source": [
    "grid_search_model.best_score_"
   ]
  },
  {
   "cell_type": "code",
   "execution_count": 111,
   "id": "39cd372a",
   "metadata": {},
   "outputs": [],
   "source": [
    "rf_estimator = grid_search_model.best_estimator_"
   ]
  },
  {
   "cell_type": "code",
   "execution_count": 112,
   "id": "d7f7e8fd",
   "metadata": {},
   "outputs": [
    {
     "name": "stdout",
     "output_type": "stream",
     "text": [
      "accurancy - 0.956140350877193\n",
      "recall -  0.9846153846153847\n",
      "precision -  0.9411764705882353\n",
      "fr_score -  0.962406015037594\n",
      "\n",
      "confusion_matrix - \n",
      " [[45  4]\n",
      " [ 1 64]]\n"
     ]
    }
   ],
   "source": [
    "best_y_pred = rf_estimator.predict(X_test)\n",
    "metrics_eval(y_test, best_y_pred)"
   ]
  },
  {
   "cell_type": "markdown",
   "id": "f49d744f",
   "metadata": {},
   "source": [
    "## 정밀도와 재현율을 임의로 조절하는 모델을 생성해야하는 경우\n",
    "- 분류 임계값이 낮을수록 Positive를 예측할 확률이 높아져 재현율이 증가\n",
    "- predict_probale()"
   ]
  },
  {
   "cell_type": "code",
   "execution_count": 113,
   "id": "ae2a44d4",
   "metadata": {},
   "outputs": [],
   "source": [
    "matrix = [\n",
    "    [-1, -1, 2],\n",
    "    [2, 0, 0],\n",
    "    [0, 1.1, 1.2]\n",
    "]"
   ]
  },
  {
   "cell_type": "code",
   "execution_count": 114,
   "id": "5328c1d9",
   "metadata": {},
   "outputs": [
    {
     "name": "stdout",
     "output_type": "stream",
     "text": [
      "[[0. 0. 1.]\n",
      " [1. 0. 0.]\n",
      " [0. 0. 1.]]\n"
     ]
    }
   ],
   "source": [
    "from sklearn.preprocessing import Binarizer\n",
    "\n",
    "holder = Binarizer(threshold= 1.1) # 1.1을 기준으로 나눔\n",
    "print(holder.fit_transform(matrix))\n"
   ]
  },
  {
   "cell_type": "code",
   "execution_count": null,
   "id": "761a9aad",
   "metadata": {},
   "outputs": [],
   "source": []
  },
  {
   "cell_type": "code",
   "execution_count": null,
   "id": "ed93d64c",
   "metadata": {},
   "outputs": [],
   "source": [
    "titanic_frm = pd.read_csv('C:/Users/JYP/data/titanic_train.csv')\n",
    "titanic_frm.head()"
   ]
  }
 ],
 "metadata": {
  "kernelspec": {
   "display_name": "Python 3 (ipykernel)",
   "language": "python",
   "name": "python3"
  },
  "language_info": {
   "codemirror_mode": {
    "name": "ipython",
    "version": 3
   },
   "file_extension": ".py",
   "mimetype": "text/x-python",
   "name": "python",
   "nbconvert_exporter": "python",
   "pygments_lexer": "ipython3",
   "version": "3.9.7"
  }
 },
 "nbformat": 4,
 "nbformat_minor": 5
}
