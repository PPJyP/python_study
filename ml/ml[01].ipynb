{
 "cells": [
  {
   "cell_type": "markdown",
   "id": "fa395f56",
   "metadata": {},
   "source": [
    "# 머신러닝 개념(ML)\n",
    "\n",
    "- 데이터를 기반으로 패턴을 학습하고 결과를 추론하는 알고리즘 기법\n",
    "- 지도학습(Supervised Learning), 비지도학습(Un-Supervised Learning)\n",
    "- 데이터에 정답이 들어있으면 지도학습 / 데이터에 정답이 없으면 비지도학습(그래서 군집화 시킴)\n",
    "- 지도학습(분류, 회귀), 비지도학습(클러스터링, 차원축소)\n",
    "\n",
    "# 머신러닝 용어(데이터 형식 : DataFrame)\n",
    "- 피처(feature) : 데이터의 일반 속성\n",
    "- 레이블, 클래스, 타켓 값, 결정 값 : 정답 데이터\n"
   ]
  },
  {
   "cell_type": "code",
   "execution_count": null,
   "id": "eeeb7ec4",
   "metadata": {},
   "outputs": [],
   "source": [
    "import numpy as np\n",
    "import pandas as pd\n",
    "\n",
    "print('numpy version -', np.__version__)\n",
    "print('pandas version -', pd.__version__)"
   ]
  },
  {
   "cell_type": "code",
   "execution_count": null,
   "id": "e6190291",
   "metadata": {},
   "outputs": [],
   "source": [
    "import sklearn\n",
    "from sklearn.datasets import load_iris\n",
    "\n",
    "print('sklearn version -', sklearn.__version__)"
   ]
  },
  {
   "cell_type": "code",
   "execution_count": null,
   "id": "75032da2",
   "metadata": {},
   "outputs": [],
   "source": [
    "iris=load_iris()\n",
    "print(type(iris))\n",
    "print('type -',type(iris))\n",
    "print('keys -',iris.keys()) #키값 확인"
   ]
  },
  {
   "cell_type": "code",
   "execution_count": null,
   "id": "4234d399",
   "metadata": {},
   "outputs": [],
   "source": [
    "print('data=',iris.data)\n",
    "print('data type-',type(iris.data))"
   ]
  },
  {
   "cell_type": "code",
   "execution_count": null,
   "id": "1ed3afa6",
   "metadata": {},
   "outputs": [],
   "source": [
    "print('target=',iris.target)\n",
    "print('target type-',type(iris.target))\n",
    "print()\n",
    "print('target_names=',iris.target_names)\n",
    "print('target_names type-',type(iris.target_names))\n",
    "print()\n",
    "print('feature_names=',iris.feature_names)\n",
    "print('feature_names type-',type(iris.feature_names))"
   ]
  },
  {
   "cell_type": "code",
   "execution_count": null,
   "id": "14652c35",
   "metadata": {},
   "outputs": [],
   "source": [
    "print('feature, target를 이용해서 데이터 프레임을 만들어보자-')\n",
    "\n",
    "# feature=pd.DataFrame(iris.feature_names)\n",
    "# target=pd.DataFrame(iris.target)\n",
    "\n",
    "print(feature)\n",
    "print()\n",
    "print(target)\n",
    "\n",
    "\n",
    "iris_frm=pd.DataFrame(data=iris.data,\n",
    "                     columns=iris.feature_names)\n",
    "\n",
    "iris_frm\n",
    "\n",
    "iris_frm['target']=iris.target\n",
    "iris_frm"
   ]
  },
  {
   "cell_type": "markdown",
   "id": "5b9bcded",
   "metadata": {},
   "source": [
    "### 지도학습 - 분류 (classification)\n",
    "- step 01. 데이터 분리(training data, test data)\n",
    "- step 02. 학습데이터를 기반으로 ML 알고리즘을 적용해 학습 모델을 생성\n",
    "- step 03. 테스트 데이터를 기반으로 분류예측을 수행\n",
    "- step 04. 모델의 성능평가\n"
   ]
  },
  {
   "cell_type": "code",
   "execution_count": null,
   "id": "6a29b3c0",
   "metadata": {},
   "outputs": [],
   "source": [
    "from sklearn.model_selection import train_test_split\n",
    "from sklearn.tree import DecisionTreeClassifier\n",
    "from sklearn.metrics import accuracy_score\n"
   ]
  },
  {
   "cell_type": "code",
   "execution_count": null,
   "id": "a8f64b00",
   "metadata": {},
   "outputs": [],
   "source": [
    "# 튜플=패킹 : 파이썬은 튜플을 통해 return 값을 여러개 반환할 수 있음"
   ]
  },
  {
   "cell_type": "code",
   "execution_count": null,
   "id": "06e1b6f5",
   "metadata": {},
   "outputs": [],
   "source": [
    "print('step 01.')\n",
    "print()\n",
    "X_train, X_test, y_train, y_test = train_test_split(iris.data,\n",
    "                                                    iris.target,\n",
    "                                                    test_size=0.2,\n",
    "                                                    shuffle=True,\n",
    "                                                   random_state=100)"
   ]
  },
  {
   "cell_type": "code",
   "execution_count": null,
   "id": "e26a2bb3",
   "metadata": {},
   "outputs": [],
   "source": [
    "X_train.shape, X_test.shape, y_train.shape, y_test.shape #튜플형식 표현은 30, 40, 콤마를 붙여야 함\n",
    "\n",
    "# a=(30,)\n",
    "# type(a)"
   ]
  },
  {
   "cell_type": "code",
   "execution_count": null,
   "id": "f4069213",
   "metadata": {},
   "outputs": [],
   "source": [
    "print('train data -', X_train)\n",
    "print()\n",
    "print('train target -', y_train)"
   ]
  },
  {
   "cell_type": "code",
   "execution_count": null,
   "id": "80cebab1",
   "metadata": {},
   "outputs": [],
   "source": [
    "print('test data -', X_test)\n",
    "print()\n",
    "print('test target -', y_test)"
   ]
  },
  {
   "cell_type": "code",
   "execution_count": null,
   "id": "57f4ec27",
   "metadata": {},
   "outputs": [],
   "source": [
    "print('step 02. fit()') #학습은 fit()\n",
    "print()\n",
    "\n",
    "iris_dtc_model=DecisionTreeClassifier() #디시전 트리 형식으로 학습\n",
    "iris_dtc_model.fit(X_train, y_train)"
   ]
  },
  {
   "cell_type": "code",
   "execution_count": null,
   "id": "ca2a0ca8",
   "metadata": {},
   "outputs": [],
   "source": [
    "print('step 03. predict()')\n",
    "print()\n",
    "\n",
    "y_pred = iris_dtc_model.predict(X_test)\n",
    "print('y_test-', y_test) # 정답\n",
    "print('y_pred-', y_pred) # 예측결과"
   ]
  },
  {
   "cell_type": "code",
   "execution_count": null,
   "id": "12de7b6b",
   "metadata": {},
   "outputs": [],
   "source": [
    "print('step 04. 예측정확도 -')\n",
    "print()\n",
    "print('acc-', accuracy_score(y_test, y_pred))"
   ]
  },
  {
   "cell_type": "code",
   "execution_count": null,
   "id": "ad1203db",
   "metadata": {},
   "outputs": [],
   "source": [
    "display(iris_frm)\n",
    "print(type(iris_frm))"
   ]
  },
  {
   "cell_type": "code",
   "execution_count": null,
   "id": "bd95b7f3",
   "metadata": {
    "scrolled": true
   },
   "outputs": [],
   "source": [
    "#데이터 프레임 형식에서 학습데이터와 테스트데이터를 분리한다면?\n",
    "# iloc() 이용해서 피처와 타켓을 추출한다면\n",
    "\n",
    "iris_feature_frm = iris_frm.iloc[:,:3]\n",
    "# iris_feature_frm = iris_frm.iloc[:,:-1]\n",
    "iris_target_frm = iris_frm.iloc[:,4]\n",
    "#iris_target_frm = iris_frm.iloc[:,-1]\n",
    "\n",
    "display(iris_feature_frm)\n",
    "print()\n",
    "display(iris_target_frm)\n",
    "print()\n",
    "print(type(iris_feature_frm),type(iris_target_frm))"
   ]
  },
  {
   "cell_type": "code",
   "execution_count": null,
   "id": "49d1d091",
   "metadata": {},
   "outputs": [],
   "source": [
    "X_train, X_test, y_train, y_test = train_test_split(iris_feature_frm,\n",
    "                                                    iris_target_frm,\n",
    "                                                    test_size=0.2,\n",
    "                                                    shuffle=True,\n",
    "                                                   random_state=100)"
   ]
  },
  {
   "cell_type": "code",
   "execution_count": null,
   "id": "33cfab4a",
   "metadata": {},
   "outputs": [],
   "source": [
    "iris_dtc_model=DecisionTreeClassifier() #디시전 트리 형식으로 학습\n",
    "iris_dtc_model.fit(X_train, y_train)"
   ]
  },
  {
   "cell_type": "code",
   "execution_count": null,
   "id": "e1e4deac",
   "metadata": {},
   "outputs": [],
   "source": [
    "# 학습한 데이터를 테스트 데이터로 쓰게되면 롹률이 100% 되므로 머신러닝으로 적합하지 않음(과대적합)\n",
    "# y_pred = iris_dtc_model.predict(X_test)\n",
    "y_pred = iris_dtc_model.predict(X_train)\n",
    "print('y_test-', y_test) # 정답\n",
    "print('y_pred-', y_pred) # 예측결과"
   ]
  },
  {
   "cell_type": "code",
   "execution_count": null,
   "id": "8bd3549c",
   "metadata": {},
   "outputs": [],
   "source": [
    "print('step 04. 예측정확도 -')\n",
    "print()\n",
    "print('acc-', accuracy_score(y_train, y_pred))"
   ]
  },
  {
   "cell_type": "markdown",
   "id": "033c2c5a",
   "metadata": {},
   "source": [
    "### 교차검증(cross validation)\n",
    "- 과적합(overffiting)을 방지하기 위한 방법\n",
    "- 데이터의 편중을 막기위해서\n",
    "- KFold 방식"
   ]
  },
  {
   "cell_type": "code",
   "execution_count": null,
   "id": "787a6ac3",
   "metadata": {},
   "outputs": [],
   "source": [
    "from sklearn.model_selection import KFold, StratifiedKFold, cross_val_score, cross_validate"
   ]
  },
  {
   "cell_type": "code",
   "execution_count": null,
   "id": "0a0434d8",
   "metadata": {},
   "outputs": [],
   "source": [
    "fold_iris = load_iris()\n",
    "\n",
    "features = fold_iris.data\n",
    "label = fold_iris.target\n"
   ]
  },
  {
   "cell_type": "code",
   "execution_count": null,
   "id": "a2f7773c",
   "metadata": {
    "scrolled": true
   },
   "outputs": [],
   "source": [
    "features"
   ]
  },
  {
   "cell_type": "code",
   "execution_count": null,
   "id": "1daffa29",
   "metadata": {},
   "outputs": [],
   "source": [
    "label"
   ]
  },
  {
   "cell_type": "code",
   "execution_count": 73,
   "id": "0e8c7784",
   "metadata": {},
   "outputs": [
    {
     "name": "stdout",
     "output_type": "stream",
     "text": [
      "5개의 포더 세트를 분리하여 각 폴더 세트별 정확도를 확인해보자 -\n"
     ]
    }
   ],
   "source": [
    "print('5개의 포더 세트를 분리하여 각 폴더 세트별 정확도를 확인해보자 -')\n",
    "cv_acc = []\n",
    "kfold=KFold(n_splits=5)\n",
    "\n",
    "fold_dct_model = DecisionTreeClassifier()\n",
    "\n",
    "for train_idx, test_idx in kfold.split(features):\n",
    "#     print('train idx -', train_idx)\n",
    "#     print('test idx -', test_idx)\n",
    "    X_train, X_val = features[train_idx], features[test_idx]\n",
    "    y_train, y_val = label[train_idx], label[test_idx]\n",
    "#     print('X_train -',X_train)\n",
    "#     print('X_train -',X_val)\n",
    "    fold_dct_model.fit(X_train, y_train)\n",
    "    fold_pred = fold_dct_model.predict(X_val)\n",
    "\n",
    "    acc = accuracy_score(y_val,fold_pred)\n",
    "#     print('acc -',acc)\n",
    "    cv_acc.append(acc)"
   ]
  },
  {
   "cell_type": "code",
   "execution_count": 74,
   "id": "8589a6f6",
   "metadata": {},
   "outputs": [
    {
     "name": "stdout",
     "output_type": "stream",
     "text": [
      "교차검증 평균 정확도 - 0.9199999999999999\n"
     ]
    }
   ],
   "source": [
    "print('교차검증 평균 정확도 -',np.mean(cv_acc))"
   ]
  },
  {
   "cell_type": "code",
   "execution_count": 79,
   "id": "dda013eb",
   "metadata": {},
   "outputs": [
    {
     "name": "stdout",
     "output_type": "stream",
     "text": [
      "기존 KFold 방식의 문제점 확인 -\n",
      "\n"
     ]
    },
    {
     "data": {
      "text/html": [
       "<div>\n",
       "<style scoped>\n",
       "    .dataframe tbody tr th:only-of-type {\n",
       "        vertical-align: middle;\n",
       "    }\n",
       "\n",
       "    .dataframe tbody tr th {\n",
       "        vertical-align: top;\n",
       "    }\n",
       "\n",
       "    .dataframe thead th {\n",
       "        text-align: right;\n",
       "    }\n",
       "</style>\n",
       "<table border=\"1\" class=\"dataframe\">\n",
       "  <thead>\n",
       "    <tr style=\"text-align: right;\">\n",
       "      <th></th>\n",
       "      <th>sepal length (cm)</th>\n",
       "      <th>sepal width (cm)</th>\n",
       "      <th>petal length (cm)</th>\n",
       "      <th>petal width (cm)</th>\n",
       "      <th>target</th>\n",
       "    </tr>\n",
       "  </thead>\n",
       "  <tbody>\n",
       "    <tr>\n",
       "      <th>0</th>\n",
       "      <td>5.1</td>\n",
       "      <td>3.5</td>\n",
       "      <td>1.4</td>\n",
       "      <td>0.2</td>\n",
       "      <td>0</td>\n",
       "    </tr>\n",
       "    <tr>\n",
       "      <th>1</th>\n",
       "      <td>4.9</td>\n",
       "      <td>3.0</td>\n",
       "      <td>1.4</td>\n",
       "      <td>0.2</td>\n",
       "      <td>0</td>\n",
       "    </tr>\n",
       "    <tr>\n",
       "      <th>2</th>\n",
       "      <td>4.7</td>\n",
       "      <td>3.2</td>\n",
       "      <td>1.3</td>\n",
       "      <td>0.2</td>\n",
       "      <td>0</td>\n",
       "    </tr>\n",
       "    <tr>\n",
       "      <th>3</th>\n",
       "      <td>4.6</td>\n",
       "      <td>3.1</td>\n",
       "      <td>1.5</td>\n",
       "      <td>0.2</td>\n",
       "      <td>0</td>\n",
       "    </tr>\n",
       "    <tr>\n",
       "      <th>4</th>\n",
       "      <td>5.0</td>\n",
       "      <td>3.6</td>\n",
       "      <td>1.4</td>\n",
       "      <td>0.2</td>\n",
       "      <td>0</td>\n",
       "    </tr>\n",
       "    <tr>\n",
       "      <th>...</th>\n",
       "      <td>...</td>\n",
       "      <td>...</td>\n",
       "      <td>...</td>\n",
       "      <td>...</td>\n",
       "      <td>...</td>\n",
       "    </tr>\n",
       "    <tr>\n",
       "      <th>145</th>\n",
       "      <td>6.7</td>\n",
       "      <td>3.0</td>\n",
       "      <td>5.2</td>\n",
       "      <td>2.3</td>\n",
       "      <td>2</td>\n",
       "    </tr>\n",
       "    <tr>\n",
       "      <th>146</th>\n",
       "      <td>6.3</td>\n",
       "      <td>2.5</td>\n",
       "      <td>5.0</td>\n",
       "      <td>1.9</td>\n",
       "      <td>2</td>\n",
       "    </tr>\n",
       "    <tr>\n",
       "      <th>147</th>\n",
       "      <td>6.5</td>\n",
       "      <td>3.0</td>\n",
       "      <td>5.2</td>\n",
       "      <td>2.0</td>\n",
       "      <td>2</td>\n",
       "    </tr>\n",
       "    <tr>\n",
       "      <th>148</th>\n",
       "      <td>6.2</td>\n",
       "      <td>3.4</td>\n",
       "      <td>5.4</td>\n",
       "      <td>2.3</td>\n",
       "      <td>2</td>\n",
       "    </tr>\n",
       "    <tr>\n",
       "      <th>149</th>\n",
       "      <td>5.9</td>\n",
       "      <td>3.0</td>\n",
       "      <td>5.1</td>\n",
       "      <td>1.8</td>\n",
       "      <td>2</td>\n",
       "    </tr>\n",
       "  </tbody>\n",
       "</table>\n",
       "<p>150 rows × 5 columns</p>\n",
       "</div>"
      ],
      "text/plain": [
       "     sepal length (cm)  sepal width (cm)  petal length (cm)  petal width (cm)  \\\n",
       "0                  5.1               3.5                1.4               0.2   \n",
       "1                  4.9               3.0                1.4               0.2   \n",
       "2                  4.7               3.2                1.3               0.2   \n",
       "3                  4.6               3.1                1.5               0.2   \n",
       "4                  5.0               3.6                1.4               0.2   \n",
       "..                 ...               ...                ...               ...   \n",
       "145                6.7               3.0                5.2               2.3   \n",
       "146                6.3               2.5                5.0               1.9   \n",
       "147                6.5               3.0                5.2               2.0   \n",
       "148                6.2               3.4                5.4               2.3   \n",
       "149                5.9               3.0                5.1               1.8   \n",
       "\n",
       "     target  \n",
       "0         0  \n",
       "1         0  \n",
       "2         0  \n",
       "3         0  \n",
       "4         0  \n",
       "..      ...  \n",
       "145       2  \n",
       "146       2  \n",
       "147       2  \n",
       "148       2  \n",
       "149       2  \n",
       "\n",
       "[150 rows x 5 columns]"
      ]
     },
     "execution_count": 79,
     "metadata": {},
     "output_type": "execute_result"
    }
   ],
   "source": [
    "print('기존 KFold 방식의 문제점 확인 -')\n",
    "print()\n",
    "fold_iris_frm = pd.DataFrame(data = fold_iris.data,\n",
    "                            columns= fold_iris.feature_names)\n",
    "fold_iris_frm['target'] = fold_iris.target\n",
    "fold_iris_frm"
   ]
  },
  {
   "cell_type": "code",
   "execution_count": 84,
   "id": "3de48b39",
   "metadata": {},
   "outputs": [
    {
     "data": {
      "text/plain": [
       "0    50\n",
       "1    50\n",
       "2    50\n",
       "Name: target, dtype: int64"
      ]
     },
     "execution_count": 84,
     "metadata": {},
     "output_type": "execute_result"
    }
   ],
   "source": [
    "fold_iris_frm['target'].value_counts()"
   ]
  },
  {
   "cell_type": "code",
   "execution_count": 87,
   "id": "14b0de41",
   "metadata": {
    "scrolled": true
   },
   "outputs": [
    {
     "name": "stdout",
     "output_type": "stream",
     "text": [
      "교차검증 횟수 - 1\n",
      "\n",
      "학습 레이블 데이터 분포 - \n",
      " 30     0\n",
      "31     0\n",
      "32     0\n",
      "33     0\n",
      "34     0\n",
      "      ..\n",
      "145    2\n",
      "146    2\n",
      "147    2\n",
      "148    2\n",
      "149    2\n",
      "Name: target, Length: 120, dtype: int32\n",
      "검증 레이블 데이터 분포 - \n",
      " 0     0\n",
      "1     0\n",
      "2     0\n",
      "3     0\n",
      "4     0\n",
      "5     0\n",
      "6     0\n",
      "7     0\n",
      "8     0\n",
      "9     0\n",
      "10    0\n",
      "11    0\n",
      "12    0\n",
      "13    0\n",
      "14    0\n",
      "15    0\n",
      "16    0\n",
      "17    0\n",
      "18    0\n",
      "19    0\n",
      "20    0\n",
      "21    0\n",
      "22    0\n",
      "23    0\n",
      "24    0\n",
      "25    0\n",
      "26    0\n",
      "27    0\n",
      "28    0\n",
      "29    0\n",
      "Name: target, dtype: int32\n",
      "교차검증 횟수 - 2\n",
      "\n",
      "학습 레이블 데이터 분포 - \n",
      " 0      0\n",
      "1      0\n",
      "2      0\n",
      "3      0\n",
      "4      0\n",
      "      ..\n",
      "145    2\n",
      "146    2\n",
      "147    2\n",
      "148    2\n",
      "149    2\n",
      "Name: target, Length: 120, dtype: int32\n",
      "검증 레이블 데이터 분포 - \n",
      " 30    0\n",
      "31    0\n",
      "32    0\n",
      "33    0\n",
      "34    0\n",
      "35    0\n",
      "36    0\n",
      "37    0\n",
      "38    0\n",
      "39    0\n",
      "40    0\n",
      "41    0\n",
      "42    0\n",
      "43    0\n",
      "44    0\n",
      "45    0\n",
      "46    0\n",
      "47    0\n",
      "48    0\n",
      "49    0\n",
      "50    1\n",
      "51    1\n",
      "52    1\n",
      "53    1\n",
      "54    1\n",
      "55    1\n",
      "56    1\n",
      "57    1\n",
      "58    1\n",
      "59    1\n",
      "Name: target, dtype: int32\n",
      "교차검증 횟수 - 3\n",
      "\n",
      "학습 레이블 데이터 분포 - \n",
      " 0      0\n",
      "1      0\n",
      "2      0\n",
      "3      0\n",
      "4      0\n",
      "      ..\n",
      "145    2\n",
      "146    2\n",
      "147    2\n",
      "148    2\n",
      "149    2\n",
      "Name: target, Length: 120, dtype: int32\n",
      "검증 레이블 데이터 분포 - \n",
      " 60    1\n",
      "61    1\n",
      "62    1\n",
      "63    1\n",
      "64    1\n",
      "65    1\n",
      "66    1\n",
      "67    1\n",
      "68    1\n",
      "69    1\n",
      "70    1\n",
      "71    1\n",
      "72    1\n",
      "73    1\n",
      "74    1\n",
      "75    1\n",
      "76    1\n",
      "77    1\n",
      "78    1\n",
      "79    1\n",
      "80    1\n",
      "81    1\n",
      "82    1\n",
      "83    1\n",
      "84    1\n",
      "85    1\n",
      "86    1\n",
      "87    1\n",
      "88    1\n",
      "89    1\n",
      "Name: target, dtype: int32\n",
      "교차검증 횟수 - 4\n",
      "\n",
      "학습 레이블 데이터 분포 - \n",
      " 0      0\n",
      "1      0\n",
      "2      0\n",
      "3      0\n",
      "4      0\n",
      "      ..\n",
      "145    2\n",
      "146    2\n",
      "147    2\n",
      "148    2\n",
      "149    2\n",
      "Name: target, Length: 120, dtype: int32\n",
      "검증 레이블 데이터 분포 - \n",
      " 90     1\n",
      "91     1\n",
      "92     1\n",
      "93     1\n",
      "94     1\n",
      "95     1\n",
      "96     1\n",
      "97     1\n",
      "98     1\n",
      "99     1\n",
      "100    2\n",
      "101    2\n",
      "102    2\n",
      "103    2\n",
      "104    2\n",
      "105    2\n",
      "106    2\n",
      "107    2\n",
      "108    2\n",
      "109    2\n",
      "110    2\n",
      "111    2\n",
      "112    2\n",
      "113    2\n",
      "114    2\n",
      "115    2\n",
      "116    2\n",
      "117    2\n",
      "118    2\n",
      "119    2\n",
      "Name: target, dtype: int32\n",
      "교차검증 횟수 - 5\n",
      "\n",
      "학습 레이블 데이터 분포 - \n",
      " 0      0\n",
      "1      0\n",
      "2      0\n",
      "3      0\n",
      "4      0\n",
      "      ..\n",
      "115    2\n",
      "116    2\n",
      "117    2\n",
      "118    2\n",
      "119    2\n",
      "Name: target, Length: 120, dtype: int32\n",
      "검증 레이블 데이터 분포 - \n",
      " 120    2\n",
      "121    2\n",
      "122    2\n",
      "123    2\n",
      "124    2\n",
      "125    2\n",
      "126    2\n",
      "127    2\n",
      "128    2\n",
      "129    2\n",
      "130    2\n",
      "131    2\n",
      "132    2\n",
      "133    2\n",
      "134    2\n",
      "135    2\n",
      "136    2\n",
      "137    2\n",
      "138    2\n",
      "139    2\n",
      "140    2\n",
      "141    2\n",
      "142    2\n",
      "143    2\n",
      "144    2\n",
      "145    2\n",
      "146    2\n",
      "147    2\n",
      "148    2\n",
      "149    2\n",
      "Name: target, dtype: int32\n"
     ]
    }
   ],
   "source": [
    "bad_fold_iris = KFold(n_splits = 3)\n",
    "n_iter=0\n",
    "\n",
    "fold_dct_model = DecisionTreeClassifier()\n",
    "\n",
    "for train_idx, test_idx in kfold.split(fold_iris_frm):\n",
    "    n_iter += 1\n",
    "    \n",
    "    label_train = fold_iris_frm['target'].iloc[train_idx]\n",
    "    label_val = fold_iris_frm['target'].iloc[test_idx]\n",
    "    print('교차검증 횟수 -',n_iter)\n",
    "    print()\n",
    "    print('학습 레이블 데이터 분포 - \\n',label_train)\n",
    "    print('검증 레이블 데이터 분포 - \\n',label_val)"
   ]
  },
  {
   "cell_type": "markdown",
   "id": "5bef3423",
   "metadata": {},
   "source": [
    "### [실습]\n",
    "- 아이리스 데이터를 이용하여 StratifiedKFold 교차검증을 진행해 보자\n",
    "- random_state = 200\n",
    "- StratifiedKFold(3, 5) 평균 정확도 확인"
   ]
  },
  {
   "cell_type": "code",
   "execution_count": 88,
   "id": "3fe145ac",
   "metadata": {},
   "outputs": [],
   "source": [
    "from sklearn.model_selection import KFold, StratifiedKFold, cross_val_score, cross_validate\n",
    "from sklearn.tree import DecisionTreeClassifier\n",
    "from sklearn.metrics import accuracy_score"
   ]
  },
  {
   "cell_type": "code",
   "execution_count": 91,
   "id": "ee019729",
   "metadata": {},
   "outputs": [
    {
     "name": "stdout",
     "output_type": "stream",
     "text": [
      "train idx - [ 17  18  19  20  21  22  23  24  25  26  27  28  29  30  31  32  33  34\n",
      "  35  36  37  38  39  40  41  42  43  44  45  46  47  48  49  67  68  69\n",
      "  70  71  72  73  74  75  76  77  78  79  80  81  82  83  84  85  86  87\n",
      "  88  89  90  91  92  93  94  95  96  97  98  99 116 117 118 119 120 121\n",
      " 122 123 124 125 126 127 128 129 130 131 132 133 134 135 136 137 138 139\n",
      " 140 141 142 143 144 145 146 147 148 149]\n",
      "test idx - [  0   1   2   3   4   5   6   7   8   9  10  11  12  13  14  15  16  50\n",
      "  51  52  53  54  55  56  57  58  59  60  61  62  63  64  65  66 100 101\n",
      " 102 103 104 105 106 107 108 109 110 111 112 113 114 115]\n",
      "train idx - [  0   1   2   3   4   5   6   7   8   9  10  11  12  13  14  15  16  34\n",
      "  35  36  37  38  39  40  41  42  43  44  45  46  47  48  49  50  51  52\n",
      "  53  54  55  56  57  58  59  60  61  62  63  64  65  66  83  84  85  86\n",
      "  87  88  89  90  91  92  93  94  95  96  97  98  99 100 101 102 103 104\n",
      " 105 106 107 108 109 110 111 112 113 114 115 133 134 135 136 137 138 139\n",
      " 140 141 142 143 144 145 146 147 148 149]\n",
      "test idx - [ 17  18  19  20  21  22  23  24  25  26  27  28  29  30  31  32  33  67\n",
      "  68  69  70  71  72  73  74  75  76  77  78  79  80  81  82 116 117 118\n",
      " 119 120 121 122 123 124 125 126 127 128 129 130 131 132]\n",
      "train idx - [  0   1   2   3   4   5   6   7   8   9  10  11  12  13  14  15  16  17\n",
      "  18  19  20  21  22  23  24  25  26  27  28  29  30  31  32  33  50  51\n",
      "  52  53  54  55  56  57  58  59  60  61  62  63  64  65  66  67  68  69\n",
      "  70  71  72  73  74  75  76  77  78  79  80  81  82 100 101 102 103 104\n",
      " 105 106 107 108 109 110 111 112 113 114 115 116 117 118 119 120 121 122\n",
      " 123 124 125 126 127 128 129 130 131 132]\n",
      "test idx - [ 34  35  36  37  38  39  40  41  42  43  44  45  46  47  48  49  83  84\n",
      "  85  86  87  88  89  90  91  92  93  94  95  96  97  98  99 133 134 135\n",
      " 136 137 138 139 140 141 142 143 144 145 146 147 148 149]\n",
      "교차검증 평균 정확도 - nan\n"
     ]
    },
    {
     "name": "stderr",
     "output_type": "stream",
     "text": [
      "C:\\ProgramData\\Anaconda3\\lib\\site-packages\\numpy\\core\\fromnumeric.py:3419: RuntimeWarning: Mean of empty slice.\n",
      "  return _methods._mean(a, axis=axis, dtype=dtype,\n",
      "C:\\ProgramData\\Anaconda3\\lib\\site-packages\\numpy\\core\\_methods.py:188: RuntimeWarning: invalid value encountered in double_scalars\n",
      "  ret = ret.dtype.type(ret / rcount)\n"
     ]
    }
   ],
   "source": [
    "cv_acc = []\n",
    "skf=StratifiedKFold(n_splits=3)\n",
    "\n",
    "iris_dtc_model=DecisionTreeClassifier(random_state=200) #디시전 트리 형식으로 학습\n",
    "iris_dtc_model.fit(X_train, y_train)\n",
    "\n",
    "n_iter=0\n",
    "\n",
    "for train_idx, test_idx in kfold.split(features, label):\n",
    "    n_iter += 1\n",
    "    \n",
    "#     print('train idx -', train_idx)\n",
    "#     print('test idx -', test_idx)\n",
    "    X_train, X_val = features[train_idx], features[test_idx]\n",
    "    y_train, y_val = label[train_idx], label[test_idx]\n",
    "# #     print('X_train -',X_train)\n",
    "# #     print('X_train -',X_val)\n",
    "    fold_dct_model.fit(X_train, y_train)\n",
    "    fold_pred = fold_dct_model.predict(X_val)\n",
    "\n",
    "    acc = accuracy_score(y_val,fold_pred)\n",
    "#     print('acc -',acc)\n",
    "    cv_acc.append(acc)\n",
    "\n",
    "\n",
    "print('교차검증 평균 정확도 -',np.mean(cv_acc))"
   ]
  },
  {
   "cell_type": "code",
   "execution_count": null,
   "id": "92a5c7b9",
   "metadata": {},
   "outputs": [],
   "source": []
  },
  {
   "cell_type": "code",
   "execution_count": null,
   "id": "4b53ddc9",
   "metadata": {},
   "outputs": [],
   "source": []
  },
  {
   "cell_type": "code",
   "execution_count": null,
   "id": "887b5905",
   "metadata": {},
   "outputs": [],
   "source": []
  }
 ],
 "metadata": {
  "kernelspec": {
   "display_name": "Python 3 (ipykernel)",
   "language": "python",
   "name": "python3"
  },
  "language_info": {
   "codemirror_mode": {
    "name": "ipython",
    "version": 3
   },
   "file_extension": ".py",
   "mimetype": "text/x-python",
   "name": "python",
   "nbconvert_exporter": "python",
   "pygments_lexer": "ipython3",
   "version": "3.9.7"
  }
 },
 "nbformat": 4,
 "nbformat_minor": 5
}
