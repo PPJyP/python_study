{
 "cells": [
  {
   "cell_type": "code",
   "execution_count": 2,
   "id": "2f48027b",
   "metadata": {},
   "outputs": [],
   "source": [
    "import numpy as np"
   ]
  },
  {
   "cell_type": "code",
   "execution_count": null,
   "id": "19da4b59",
   "metadata": {},
   "outputs": [],
   "source": []
  },
  {
   "cell_type": "code",
   "execution_count": null,
   "id": "75f8cee7",
   "metadata": {},
   "outputs": [],
   "source": []
  },
  {
   "cell_type": "code",
   "execution_count": 10,
   "id": "00c95f8e",
   "metadata": {},
   "outputs": [
    {
     "name": "stdout",
     "output_type": "stream",
     "text": [
      "[[ 0  1  2  3  4]\n",
      " [ 5  6  7  8  9]\n",
      " [10 11 12 13 14]] 2\n",
      "(3, 5) 15 int32\n",
      "4\n"
     ]
    }
   ],
   "source": [
    "arr=np.arange(15)\n",
    "type(arr)\n",
    "# arr\n",
    "\n",
    "arr=arr.reshape(3,5) # 배열 재정의\n",
    "print(arr,arr.ndim) #몇차원인가?\n",
    "print(arr.shape,arr.size,arr.dtype.name) # shape(3*5)\n",
    "print(arr.dtype.itemsize) # 데이터의 저장 공간 사이즈 : 4byte"
   ]
  },
  {
   "cell_type": "code",
   "execution_count": 5,
   "id": "0aebe88b",
   "metadata": {},
   "outputs": [
    {
     "data": {
      "text/plain": [
       "list"
      ]
     },
     "execution_count": 5,
     "metadata": {},
     "output_type": "execute_result"
    }
   ],
   "source": [
    "a_list=list(range(15))\n",
    "type(a_list)\n",
    "# a_list"
   ]
  },
  {
   "cell_type": "code",
   "execution_count": 11,
   "id": "40502622",
   "metadata": {},
   "outputs": [
    {
     "name": "stdout",
     "output_type": "stream",
     "text": [
      "[[-5.  -4.5 -4.  -3.5 -3. ]\n",
      " [-2.5 -2.  -1.5 -1.  -0.5]\n",
      " [ 0.   0.5  1.   1.5  2. ]\n",
      " [ 2.5  3.   3.5  4.   4.5]]\n"
     ]
    },
    {
     "data": {
      "text/plain": [
       "1"
      ]
     },
     "execution_count": 11,
     "metadata": {},
     "output_type": "execute_result"
    }
   ],
   "source": [
    "# 숫자로 변경하면 배열로 처리 가능함\n",
    "arr=np.arange(-5,5,0.5)\n",
    "arr=arr.reshape(4,int(arr.size/4))\n",
    "print(arr)\n",
    "arr1=arr.flatten()\n",
    "arr1.ndim"
   ]
  },
  {
   "cell_type": "code",
   "execution_count": 14,
   "id": "1b6b3763",
   "metadata": {},
   "outputs": [
    {
     "name": "stdout",
     "output_type": "stream",
     "text": [
      "list_a : [1 2 3], list_a의 type : <class 'numpy.ndarray'>\n",
      "list_b : [[1 2 3]\n",
      " [4 5 6]], list_b의 type : <class 'numpy.ndarray'>\n",
      "list_a dim : 1, list_a의 shape : (3,)\n",
      "list_b dim : 2, list_b의 shape : (2, 3)\n",
      "list_a의 size 3, list_a의 dtype int32\n"
     ]
    }
   ],
   "source": [
    "#기존의 파이썬 리스트로 array 생성\n",
    "list_a=np.array([1,2,3])\n",
    "list_b=np.array([[1,2,3],[4,5,6]])\n",
    "print(\"list_a : {}, list_a의 type : {}\".format(list_a,type(list_a)))\n",
    "print(\"list_b : {}, list_b의 type : {}\".format(list_b,type(list_b)))\n",
    "print(\"list_a dim : {}, list_a의 shape : {}\".format(list_a.ndim,list_a.shape))\n",
    "print(\"list_b dim : {}, list_b의 shape : {}\".format(list_b.ndim,list_b.shape))\n",
    "print(\"list_a의 size {}, list_a의 dtype {}\".format(list_a.size, list_a.dtype))"
   ]
  },
  {
   "cell_type": "code",
   "execution_count": null,
   "id": "7791b861",
   "metadata": {},
   "outputs": [],
   "source": [
    "# np.arang([start],stop,[step])\n",
    "# np.array.reshape(차수,..), np.flatten()->1차원으로 변경\n",
    "# np.ndim, np.shape, np.dtype, np.ndim, np.dtype.name, np.size"
   ]
  },
  {
   "cell_type": "code",
   "execution_count": 14,
   "id": "aa35fc57",
   "metadata": {},
   "outputs": [
    {
     "name": "stdout",
     "output_type": "stream",
     "text": [
      "[0. 0. 0. 0. 0.]\n",
      "[[0. 0. 0.]\n",
      " [0. 0. 0.]]\n",
      "[[0 0]\n",
      " [0 0]\n",
      " [0 0]\n",
      " [0 0]\n",
      " [0 0]]\n",
      "['' '' '' '' '']\n",
      "[[[1 1 1 1]\n",
      "  [1 1 1 1]\n",
      "  [1 1 1 1]]\n",
      "\n",
      " [[1 1 1 1]\n",
      "  [1 1 1 1]\n",
      "  [1 1 1 1]]]\n",
      "[[1. 1. 1.]\n",
      " [1. 1. 1.]]\n",
      "[[7.24198094e-312 3.16202013e-322 0.00000000e+000]\n",
      " [0.00000000e+000 1.42419937e-306 3.11421648e-032]\n",
      " [2.04123459e+184 2.23138559e+180 6.74668591e-067]\n",
      " [5.63893361e-038 4.12653693e-061 2.83181850e-056]]\n",
      "[  0.  inf -inf  nan]\n"
     ]
    },
    {
     "name": "stderr",
     "output_type": "stream",
     "text": [
      "C:\\Users\\JYP\\AppData\\Local\\Temp/ipykernel_6776/3052825749.py:10: RuntimeWarning: divide by zero encountered in true_divide\n",
      "  print(np.array([0,1,-1,0])/np.array([1,0,0,0]))\n",
      "C:\\Users\\JYP\\AppData\\Local\\Temp/ipykernel_6776/3052825749.py:10: RuntimeWarning: invalid value encountered in true_divide\n",
      "  print(np.array([0,1,-1,0])/np.array([1,0,0,0]))\n"
     ]
    }
   ],
   "source": [
    "a=np.zeros(5)\n",
    "print(a)\n",
    "b=np.zeros((2,3))\n",
    "print(b)\n",
    "print(np.zeros((5,2), dtype='i'))\n",
    "print(np.zeros(5,dtype='U4'))\n",
    "print(np.ones((2,3,4),dtype='i8'))\n",
    "print(np.ones_like(b, dtype='f'))\n",
    "print(np.empty((4,3)))\n",
    "print(np.array([0,1,-1,0])/np.array([1,0,0,0])) # [0, 양의 무한대, 음의 무한대, nan]"
   ]
  },
  {
   "cell_type": "code",
   "execution_count": 15,
   "id": "721d395c",
   "metadata": {},
   "outputs": [
    {
     "data": {
      "text/plain": [
       "array([[ 4.,  3.],\n",
       "       [ 9.,  8.],\n",
       "       [14., 13.]])"
      ]
     },
     "execution_count": 15,
     "metadata": {},
     "output_type": "execute_result"
    }
   ],
   "source": [
    "x2= np.array([-1.0,-2.0])\n",
    "z2= np.array([[5.0],[10.0],[15.0]])\n",
    "x2+z2"
   ]
  },
  {
   "cell_type": "code",
   "execution_count": 24,
   "id": "9be6ff43",
   "metadata": {},
   "outputs": [
    {
     "name": "stdout",
     "output_type": "stream",
     "text": [
      "[ 0  1  4  9 16 25 36 49 64 81]\n",
      "4\n",
      "[ 9 16]\n",
      "[  0   1  -4   9 -16  25  36  49  64  81]\n",
      "[ 81  64  49  36  25 -16   9  -4   1   0]\n",
      "\n",
      "0\t1\t-4\t9\t-16\t25\t36\t49\t64\t81\t\n",
      "[[ 1  2  3  4  5]\n",
      " [ 6  7  8  9 10]\n",
      " [11 12 13 14 15]\n",
      " [16 17 18 19 20]]\n",
      "20\n",
      "\n",
      "[[ 2  3  4  5]\n",
      " [ 7  8  9 10]\n",
      " [12 13 14 15]]\n",
      "\n",
      "[ 6  7  8  9 10]\n",
      "\n",
      "[16 17 18 19 20]\n"
     ]
    }
   ],
   "source": [
    "# list는 콤마가 있고 array는 콤마가 없음\n",
    "# numpy indexing, slicing, iterating\n",
    "arr=np.arange(10)**2\n",
    "print(arr)\n",
    "print(arr[2])\n",
    "print(arr[3:5])\n",
    "arr[0:6:2]=-arr[0:6:2] # 0, 2(-4), 4(-16)\n",
    "print(arr)\n",
    "print(arr[ : : -1]) #뒤에서 부터 출력\n",
    "print()\n",
    "for i in arr:\n",
    "    print(i,end='\\t')\n",
    "print()\n",
    "arr=np.arange(1,21,1).reshape(4,5)\n",
    "print(arr)\n",
    "print(arr[3,4])\n",
    "print()\n",
    "print(arr[0:3,1:]) #0행부터 2행까지\n",
    "print()\n",
    "print(arr[1,]) #1행 출력\n",
    "print()\n",
    "print(arr[-1,]) #마지막 행 출력"
   ]
  },
  {
   "cell_type": "code",
   "execution_count": 27,
   "id": "dc67dcae",
   "metadata": {},
   "outputs": [
    {
     "name": "stdout",
     "output_type": "stream",
     "text": [
      "[0 1 2 3 4 5] [ 1.          0.54030231 -0.41614684 -0.9899925  -0.65364362  0.28366219] [ 0.          0.84147098  0.90929743  0.14112001 -0.7568025  -0.95892427]\n",
      "\n",
      "[0.01 0.06 0.11 0.16 0.21 0.26 0.31 0.36 0.41 0.46 0.51 0.56 0.61 0.66\n",
      " 0.71 0.76 0.81 0.86 0.91 0.96] [-4.60517019 -2.81341072 -2.20727491 -1.83258146 -1.56064775 -1.34707365\n",
      " -1.17118298 -1.02165125 -0.89159812 -0.77652879 -0.67334455 -0.5798185\n",
      " -0.49429632 -0.41551544 -0.34249031 -0.27443685 -0.21072103 -0.15082289\n",
      " -0.09431068 -0.04082199]\n"
     ]
    }
   ],
   "source": [
    "arr=np.arange(0,6,1)\n",
    "print(arr,np.cos(arr),np.sin(arr))\n",
    "print()\n",
    "arr=np.arange(0.01,1,0.05)\n",
    "print(arr,np.log(arr))"
   ]
  },
  {
   "cell_type": "code",
   "execution_count": 34,
   "id": "e9328b89",
   "metadata": {},
   "outputs": [
    {
     "name": "stdout",
     "output_type": "stream",
     "text": [
      "[5 3 6]\n",
      "[2 1 4]\n",
      "9\n",
      "[67 84 88 12 76]\n",
      "[[0.58798134 0.0136129  0.73126562]\n",
      " [0.39665863 0.12060115 0.96597075]]\n",
      "[[-0.46629302 -0.0801766   1.15326579]\n",
      " [-0.73006359 -0.14289368 -0.86062602]]\n"
     ]
    }
   ],
   "source": [
    "arr1=np.array([2,3,4])\n",
    "arr2=np.array([5,1,6])\n",
    "print(np.maximum(arr1,arr2))\n",
    "print(np.minimum(arr1,arr2))\n",
    "print(np.sum(arr1))\n",
    "print(np.random.choice(100,5)) #0부터 100사이 숫자 중 5개\n",
    "print(np.random.rand(2,3)) #2,3행렬의 랜덤 출력\n",
    "print(np.random.randn(2,3)) #표준정규분포"
   ]
  },
  {
   "cell_type": "code",
   "execution_count": null,
   "id": "7050b918",
   "metadata": {},
   "outputs": [],
   "source": []
  },
  {
   "cell_type": "code",
   "execution_count": null,
   "id": "0f21ed65",
   "metadata": {},
   "outputs": [],
   "source": [
    "\n",
    "arr= np.array([18, 5, 10, 23, 19, -8, 10, 0, 0, 5, 2, 15, 8,\n",
    "               2, 5, 4, 15, -1, 4, -7, -24, 7, 9, -6, 23, -13])"
   ]
  },
  {
   "cell_type": "code",
   "execution_count": 39,
   "id": "ee684416",
   "metadata": {},
   "outputs": [
    {
     "data": {
      "text/plain": [
       "array([0.4359949 , 0.02592623, 0.54966248, 0.43532239, 0.4203678 ])"
      ]
     },
     "execution_count": 39,
     "metadata": {},
     "output_type": "execute_result"
    }
   ],
   "source": [
    "#랜덤 함수에서 seed 값이 같으면 같은 값이 출현\n",
    "np.random.seed(2)\n",
    "np.random.rand(5) #5개 랜덤 선택"
   ]
  },
  {
   "cell_type": "code",
   "execution_count": 41,
   "id": "f0f22208",
   "metadata": {},
   "outputs": [
    {
     "data": {
      "text/plain": [
       "array([3, 3, 2, 3, 1, 2, 1, 2, 1, 2])"
      ]
     },
     "execution_count": 41,
     "metadata": {},
     "output_type": "execute_result"
    }
   ],
   "source": [
    "np.random.choice(5,10, p=[0,0.1,0.6,0.3,0]) #0~4 번호중 출현 확률선택(0과 4는 출현되지 않음)\n",
    "# replace=False 옵션은 중복 불가능"
   ]
  },
  {
   "cell_type": "code",
   "execution_count": 56,
   "id": "b98ffbb9",
   "metadata": {},
   "outputs": [
    {
     "name": "stdout",
     "output_type": "stream",
     "text": [
      "[ 1  2  3  4  5  6  7  8  9 10 11 12 13 14 15 16 17 18 19 20]\n",
      "[ 3  6  9 12 15 18]\n",
      "[ 1  5  9 13 17]\n"
     ]
    },
    {
     "data": {
      "text/plain": [
       "array([9])"
      ]
     },
     "execution_count": 56,
     "metadata": {},
     "output_type": "execute_result"
    }
   ],
   "source": [
    "#연습문제\n",
    "x=np.arange(1,21)\n",
    "print(x)\n",
    "\n",
    "#3의 배수를 찾아라\n",
    "#x1=x%3==0\n",
    "print(x[x%3==0])\n",
    "\n",
    "#4로 나눴을 때 1이 남는 것\n",
    "print(x[x%4==1])\n",
    "\n",
    "#3의 배수이면서 4로 나누면 나머지가 1인 수\n",
    "# x1&x2\n",
    "x[(x%3==0)&(x%4==1)]"
   ]
  }
 ],
 "metadata": {
  "kernelspec": {
   "display_name": "Python 3 (ipykernel)",
   "language": "python",
   "name": "python3"
  },
  "language_info": {
   "codemirror_mode": {
    "name": "ipython",
    "version": 3
   },
   "file_extension": ".py",
   "mimetype": "text/x-python",
   "name": "python",
   "nbconvert_exporter": "python",
   "pygments_lexer": "ipython3",
   "version": "3.9.7"
  }
 },
 "nbformat": 4,
 "nbformat_minor": 5
}
