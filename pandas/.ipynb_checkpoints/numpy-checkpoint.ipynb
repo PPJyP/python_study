{
 "cells": [
  {
   "cell_type": "code",
   "execution_count": null,
   "id": "2f48027b",
   "metadata": {},
   "outputs": [],
   "source": [
    "import numpy as np"
   ]
  },
  {
   "cell_type": "code",
   "execution_count": 10,
   "id": "00c95f8e",
   "metadata": {},
   "outputs": [
    {
     "name": "stdout",
     "output_type": "stream",
     "text": [
      "[[ 0  1  2  3  4]\n",
      " [ 5  6  7  8  9]\n",
      " [10 11 12 13 14]] 2\n",
      "(3, 5) 15 int32\n",
      "4\n"
     ]
    }
   ],
   "source": [
    "arr=np.arange(15)\n",
    "type(arr)\n",
    "# arr\n",
    "\n",
    "arr=arr.reshape(3,5) # 배열 재정의\n",
    "print(arr,arr.ndim) #몇차원인가?\n",
    "print(arr.shape,arr.size,arr.dtype.name) # shape(3*5)\n",
    "print(arr.dtype.itemsize) # 데이터의 저장 공간 사이즈 : 4byte"
   ]
  },
  {
   "cell_type": "code",
   "execution_count": 5,
   "id": "0aebe88b",
   "metadata": {},
   "outputs": [
    {
     "data": {
      "text/plain": [
       "list"
      ]
     },
     "execution_count": 5,
     "metadata": {},
     "output_type": "execute_result"
    }
   ],
   "source": [
    "a_list=list(range(15))\n",
    "type(a_list)\n",
    "# a_list"
   ]
  },
  {
   "cell_type": "code",
   "execution_count": 11,
   "id": "40502622",
   "metadata": {},
   "outputs": [
    {
     "name": "stdout",
     "output_type": "stream",
     "text": [
      "[[-5.  -4.5 -4.  -3.5 -3. ]\n",
      " [-2.5 -2.  -1.5 -1.  -0.5]\n",
      " [ 0.   0.5  1.   1.5  2. ]\n",
      " [ 2.5  3.   3.5  4.   4.5]]\n"
     ]
    },
    {
     "data": {
      "text/plain": [
       "1"
      ]
     },
     "execution_count": 11,
     "metadata": {},
     "output_type": "execute_result"
    }
   ],
   "source": [
    "# 숫자로 변경하면 배열로 처리 가능함\n",
    "arr=np.arange(-5,5,0.5)\n",
    "arr=arr.reshape(4,int(arr.size/4))\n",
    "print(arr)\n",
    "arr1=arr.flatten()\n",
    "arr1.ndim"
   ]
  },
  {
   "cell_type": "code",
   "execution_count": 14,
   "id": "1b6b3763",
   "metadata": {},
   "outputs": [
    {
     "name": "stdout",
     "output_type": "stream",
     "text": [
      "list_a : [1 2 3], list_a의 type : <class 'numpy.ndarray'>\n",
      "list_b : [[1 2 3]\n",
      " [4 5 6]], list_b의 type : <class 'numpy.ndarray'>\n",
      "list_a dim : 1, list_a의 shape : (3,)\n",
      "list_b dim : 2, list_b의 shape : (2, 3)\n",
      "list_a의 size 3, list_a의 dtype int32\n"
     ]
    }
   ],
   "source": [
    "#기존의 파이썬 리스트로 array 생성\n",
    "list_a=np.array([1,2,3])\n",
    "list_b=np.array([[1,2,3],[4,5,6]])\n",
    "print(\"list_a : {}, list_a의 type : {}\".format(list_a,type(list_a)))\n",
    "print(\"list_b : {}, list_b의 type : {}\".format(list_b,type(list_b)))\n",
    "print(\"list_a dim : {}, list_a의 shape : {}\".format(list_a.ndim,list_a.shape))\n",
    "print(\"list_b dim : {}, list_b의 shape : {}\".format(list_b.ndim,list_b.shape))\n",
    "print(\"list_a의 size {}, list_a의 dtype {}\".format(list_a.size, list_a.dtype))"
   ]
  },
  {
   "cell_type": "code",
   "execution_count": null,
   "id": "7791b861",
   "metadata": {},
   "outputs": [],
   "source": [
    "# np.arang([start],stop,[step])\n",
    "# np.array.reshape(차수,..), np.flatten()->1차원으로 변경\n",
    "# np.ndim, np.shape, np.dtype, np.ndim, np.dtype.name, np.size"
   ]
  }
 ],
 "metadata": {
  "kernelspec": {
   "display_name": "Python 3 (ipykernel)",
   "language": "python",
   "name": "python3"
  },
  "language_info": {
   "codemirror_mode": {
    "name": "ipython",
    "version": 3
   },
   "file_extension": ".py",
   "mimetype": "text/x-python",
   "name": "python",
   "nbconvert_exporter": "python",
   "pygments_lexer": "ipython3",
   "version": "3.9.7"
  }
 },
 "nbformat": 4,
 "nbformat_minor": 5
}
