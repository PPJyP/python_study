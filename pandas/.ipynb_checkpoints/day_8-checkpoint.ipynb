{
 "cells": [
  {
   "cell_type": "code",
   "execution_count": 1,
   "id": "5ccc413d",
   "metadata": {},
   "outputs": [],
   "source": [
    "#데이터프레임의 행과 열을 바꿈\n",
    "import pandas as pd"
   ]
  },
  {
   "cell_type": "code",
   "execution_count": 5,
   "id": "6d88fbd3",
   "metadata": {},
   "outputs": [
    {
     "name": "stdout",
     "output_type": "stream",
     "text": [
      "   이름  수학  영어\n",
      "0  서준  90  98\n",
      "1  우현  80  89\n",
      "2  인아  70  95\n",
      "    수학  영어\n",
      "이름        \n",
      "서준  90  98\n",
      "우현  80  89\n",
      "인아  70  95\n"
     ]
    }
   ],
   "source": [
    "exam_data={'이름':['서준','우현','인아'],\n",
    "           '수학':[90,80,70],\n",
    "           '영어':[98,89,95]}\n",
    "df =pd.DataFrame(exam_data)\n",
    "print(df)\n",
    "\n",
    "df.set_index('이름',inplace=True) #이름을 기준으로 이덱스 변경(shift+Tab으로 확인)\n",
    "print(df)"
   ]
  },
  {
   "cell_type": "code",
   "execution_count": null,
   "id": "f37bdf97",
   "metadata": {},
   "outputs": [],
   "source": []
  },
  {
   "cell_type": "code",
   "execution_count": 10,
   "id": "ec7b47fb",
   "metadata": {},
   "outputs": [
    {
     "name": "stdout",
     "output_type": "stream",
     "text": [
      "이름  서준  우현  인아\n",
      "수학  90  80  70\n",
      "영어  98  89  95\n"
     ]
    }
   ],
   "source": [
    "df=df.T\n",
    "print(df)"
   ]
  },
  {
   "cell_type": "code",
   "execution_count": 22,
   "id": "816f466e",
   "metadata": {},
   "outputs": [
    {
     "data": {
      "text/html": [
       "<div>\n",
       "<style scoped>\n",
       "    .dataframe tbody tr th:only-of-type {\n",
       "        vertical-align: middle;\n",
       "    }\n",
       "\n",
       "    .dataframe tbody tr th {\n",
       "        vertical-align: top;\n",
       "    }\n",
       "\n",
       "    .dataframe thead th {\n",
       "        text-align: right;\n",
       "    }\n",
       "</style>\n",
       "<table border=\"1\" class=\"dataframe\">\n",
       "  <thead>\n",
       "    <tr style=\"text-align: right;\">\n",
       "      <th></th>\n",
       "      <th>c0</th>\n",
       "      <th>c1</th>\n",
       "      <th>c2</th>\n",
       "      <th>c3</th>\n",
       "    </tr>\n",
       "  </thead>\n",
       "  <tbody>\n",
       "    <tr>\n",
       "      <th>r1</th>\n",
       "      <td>1</td>\n",
       "      <td>1</td>\n",
       "      <td>1</td>\n",
       "      <td>1</td>\n",
       "    </tr>\n",
       "    <tr>\n",
       "      <th>r2</th>\n",
       "      <td>2</td>\n",
       "      <td>2</td>\n",
       "      <td>2</td>\n",
       "      <td>2</td>\n",
       "    </tr>\n",
       "    <tr>\n",
       "      <th>r3</th>\n",
       "      <td>3</td>\n",
       "      <td>3</td>\n",
       "      <td>3</td>\n",
       "      <td>3</td>\n",
       "    </tr>\n",
       "  </tbody>\n",
       "</table>\n",
       "</div>"
      ],
      "text/plain": [
       "    c0  c1  c2  c3\n",
       "r1   1   1   1   1\n",
       "r2   2   2   2   2\n",
       "r3   3   3   3   3"
      ]
     },
     "execution_count": 22,
     "metadata": {},
     "output_type": "execute_result"
    }
   ],
   "source": [
    "#reindex(새로운 인덱스 배열):기존의 자료변경 안함, 새로운 데이터프레임 반환\n",
    "dict_data={'c0':[1,2,3],'c1':[1,2,3],'c2':[1,2,3],'c3':[1,2,3]}\n",
    "df=pd.DataFrame(dict_data,index=['r1','r2','r3'])\n",
    "df"
   ]
  },
  {
   "cell_type": "code",
   "execution_count": 21,
   "id": "1e0548fb",
   "metadata": {},
   "outputs": [
    {
     "name": "stdout",
     "output_type": "stream",
     "text": [
      "    c0  c1  c2  c3\n",
      "r0 NaN NaN NaN NaN\n",
      "r1 NaN NaN NaN NaN\n",
      "r2 NaN NaN NaN NaN\n",
      "r3 NaN NaN NaN NaN\n",
      "r4 NaN NaN NaN NaN\n"
     ]
    },
    {
     "data": {
      "text/html": [
       "<div>\n",
       "<style scoped>\n",
       "    .dataframe tbody tr th:only-of-type {\n",
       "        vertical-align: middle;\n",
       "    }\n",
       "\n",
       "    .dataframe tbody tr th {\n",
       "        vertical-align: top;\n",
       "    }\n",
       "\n",
       "    .dataframe thead th {\n",
       "        text-align: right;\n",
       "    }\n",
       "</style>\n",
       "<table border=\"1\" class=\"dataframe\">\n",
       "  <thead>\n",
       "    <tr style=\"text-align: right;\">\n",
       "      <th></th>\n",
       "      <th>c0</th>\n",
       "      <th>c1</th>\n",
       "      <th>c2</th>\n",
       "      <th>c3</th>\n",
       "    </tr>\n",
       "  </thead>\n",
       "  <tbody>\n",
       "    <tr>\n",
       "      <th>r0</th>\n",
       "      <td>0</td>\n",
       "      <td>0</td>\n",
       "      <td>0</td>\n",
       "      <td>0</td>\n",
       "    </tr>\n",
       "    <tr>\n",
       "      <th>r1</th>\n",
       "      <td>0</td>\n",
       "      <td>0</td>\n",
       "      <td>0</td>\n",
       "      <td>0</td>\n",
       "    </tr>\n",
       "    <tr>\n",
       "      <th>r2</th>\n",
       "      <td>0</td>\n",
       "      <td>0</td>\n",
       "      <td>0</td>\n",
       "      <td>0</td>\n",
       "    </tr>\n",
       "    <tr>\n",
       "      <th>r3</th>\n",
       "      <td>0</td>\n",
       "      <td>0</td>\n",
       "      <td>0</td>\n",
       "      <td>0</td>\n",
       "    </tr>\n",
       "    <tr>\n",
       "      <th>r4</th>\n",
       "      <td>0</td>\n",
       "      <td>0</td>\n",
       "      <td>0</td>\n",
       "      <td>0</td>\n",
       "    </tr>\n",
       "  </tbody>\n",
       "</table>\n",
       "</div>"
      ],
      "text/plain": [
       "    c0  c1  c2  c3\n",
       "r0   0   0   0   0\n",
       "r1   0   0   0   0\n",
       "r2   0   0   0   0\n",
       "r3   0   0   0   0\n",
       "r4   0   0   0   0"
      ]
     },
     "execution_count": 21,
     "metadata": {},
     "output_type": "execute_result"
    }
   ],
   "source": [
    "#index를['r0','r1','r2','r3','r4']\n",
    "new_index=['r0','r1','r2','r3','r4']\n",
    "ndf=df.reindex(new_index)\n",
    "print(ndf)\n",
    "\n",
    "#존재하지 않는 인덱스의 값을 0으로 채워줌\n",
    "ndf1=df.reindex(new_index,fill_value=0)\n",
    "ndf1\n",
    "\n",
    "#뒤에 있는 행을 따름('bfill') / 앞에 있는 행을 따름('ffill')\n",
    "ndf1=df.reindex(new_index,method='bfill')\n",
    "ndf1\n"
   ]
  },
  {
   "cell_type": "code",
   "execution_count": 24,
   "id": "45f875ac",
   "metadata": {},
   "outputs": [
    {
     "name": "stdout",
     "output_type": "stream",
     "text": [
      "   c0  c1  c2  c3\n",
      "0   1   1   1   1\n",
      "1   2   2   2   2\n",
      "2   3   3   3   3\n",
      "   index  c0  c1  c2  c3\n",
      "0      0   1   1   1   1\n",
      "1      1   2   2   2   2\n",
      "2      2   3   3   3   3\n",
      "   c0  c1  c2  c3\n",
      "0   1   1   1   1\n",
      "1   2   2   2   2\n",
      "2   3   3   3   3\n"
     ]
    }
   ],
   "source": [
    "#reset_index():인덱스 초기화\n",
    "print(df)\n",
    "print(df.reset_index()) #기존의 인덱스가 컬럼으로 변환, 인덱스는 초기화\n",
    "print(df.reset_index(drop=True))# 기존의 인덱스를 삭제, 인덱스는 초기화"
   ]
  },
  {
   "cell_type": "code",
   "execution_count": 25,
   "id": "934b46e1",
   "metadata": {},
   "outputs": [
    {
     "data": {
      "text/html": [
       "<div>\n",
       "<style scoped>\n",
       "    .dataframe tbody tr th:only-of-type {\n",
       "        vertical-align: middle;\n",
       "    }\n",
       "\n",
       "    .dataframe tbody tr th {\n",
       "        vertical-align: top;\n",
       "    }\n",
       "\n",
       "    .dataframe thead th {\n",
       "        text-align: right;\n",
       "    }\n",
       "</style>\n",
       "<table border=\"1\" class=\"dataframe\">\n",
       "  <thead>\n",
       "    <tr style=\"text-align: right;\">\n",
       "      <th></th>\n",
       "      <th>c0</th>\n",
       "      <th>c1</th>\n",
       "      <th>c2</th>\n",
       "      <th>c3</th>\n",
       "    </tr>\n",
       "  </thead>\n",
       "  <tbody>\n",
       "    <tr>\n",
       "      <th>2</th>\n",
       "      <td>3</td>\n",
       "      <td>3</td>\n",
       "      <td>3</td>\n",
       "      <td>3</td>\n",
       "    </tr>\n",
       "    <tr>\n",
       "      <th>1</th>\n",
       "      <td>2</td>\n",
       "      <td>2</td>\n",
       "      <td>2</td>\n",
       "      <td>2</td>\n",
       "    </tr>\n",
       "    <tr>\n",
       "      <th>0</th>\n",
       "      <td>1</td>\n",
       "      <td>1</td>\n",
       "      <td>1</td>\n",
       "      <td>1</td>\n",
       "    </tr>\n",
       "  </tbody>\n",
       "</table>\n",
       "</div>"
      ],
      "text/plain": [
       "   c0  c1  c2  c3\n",
       "2   3   3   3   3\n",
       "1   2   2   2   2\n",
       "0   1   1   1   1"
      ]
     },
     "execution_count": 25,
     "metadata": {},
     "output_type": "execute_result"
    }
   ],
   "source": [
    "#인덱스를 기준으로 정렬\n",
    "df.sort_index(ascending=False)"
   ]
  },
  {
   "cell_type": "code",
   "execution_count": 29,
   "id": "80eb8f0e",
   "metadata": {},
   "outputs": [
    {
     "data": {
      "text/html": [
       "<div>\n",
       "<style scoped>\n",
       "    .dataframe tbody tr th:only-of-type {\n",
       "        vertical-align: middle;\n",
       "    }\n",
       "\n",
       "    .dataframe tbody tr th {\n",
       "        vertical-align: top;\n",
       "    }\n",
       "\n",
       "    .dataframe thead th {\n",
       "        text-align: right;\n",
       "    }\n",
       "</style>\n",
       "<table border=\"1\" class=\"dataframe\">\n",
       "  <thead>\n",
       "    <tr style=\"text-align: right;\">\n",
       "      <th></th>\n",
       "      <th>c0</th>\n",
       "      <th>c1</th>\n",
       "      <th>c2</th>\n",
       "      <th>c3</th>\n",
       "    </tr>\n",
       "  </thead>\n",
       "  <tbody>\n",
       "    <tr>\n",
       "      <th>2</th>\n",
       "      <td>3</td>\n",
       "      <td>3</td>\n",
       "      <td>3</td>\n",
       "      <td>3</td>\n",
       "    </tr>\n",
       "    <tr>\n",
       "      <th>0</th>\n",
       "      <td>2</td>\n",
       "      <td>1</td>\n",
       "      <td>4</td>\n",
       "      <td>1</td>\n",
       "    </tr>\n",
       "    <tr>\n",
       "      <th>1</th>\n",
       "      <td>2</td>\n",
       "      <td>2</td>\n",
       "      <td>2</td>\n",
       "      <td>2</td>\n",
       "    </tr>\n",
       "  </tbody>\n",
       "</table>\n",
       "</div>"
      ],
      "text/plain": [
       "   c0  c1  c2  c3\n",
       "2   3   3   3   3\n",
       "0   2   1   4   1\n",
       "1   2   2   2   2"
      ]
     },
     "execution_count": 29,
     "metadata": {},
     "output_type": "execute_result"
    }
   ],
   "source": [
    "#컬럼을 기준으로 정렬\n",
    "df.loc[0,'c0']=2\n",
    "df.loc[0,'c2']=4\n",
    "df.sort_values(by=['c0','c2'],ascending=False) #c0기준으로 내림차순 정리하다가 동일한 값은 c2 기준으로 내림차순 정렬"
   ]
  },
  {
   "cell_type": "code",
   "execution_count": null,
   "id": "edd37ce4",
   "metadata": {},
   "outputs": [],
   "source": [
    "#인덱스를 설정 df.index=[]\n",
    "#컬럼명을 설정 df.columns=[]\n",
    "#인덱스의 이름을 변경 df.rename({기존인덱스:새로운인덱스,..},inplace=True)\n",
    "#컬럼명을 변경 df.rename({기존컬럼:새로운컬럼},inplace=True)\n",
    "#인덱스를 삭제 df.drop([인덱스명], axis=0)\n",
    "#컬럼 삭제 df.drop([컬럼명],axis=1)\n",
    "#새로운 인덱스 이름 부여: ndf=df.reindex(new_index,[fill_value=0])\n"
   ]
  }
 ],
 "metadata": {
  "kernelspec": {
   "display_name": "Python 3 (ipykernel)",
   "language": "python",
   "name": "python3"
  },
  "language_info": {
   "codemirror_mode": {
    "name": "ipython",
    "version": 3
   },
   "file_extension": ".py",
   "mimetype": "text/x-python",
   "name": "python",
   "nbconvert_exporter": "python",
   "pygments_lexer": "ipython3",
   "version": "3.9.7"
  }
 },
 "nbformat": 4,
 "nbformat_minor": 5
}
