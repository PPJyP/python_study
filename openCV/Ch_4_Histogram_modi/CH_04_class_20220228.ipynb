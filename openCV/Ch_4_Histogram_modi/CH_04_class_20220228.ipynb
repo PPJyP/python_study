{
 "cells": [
  {
   "cell_type": "code",
   "execution_count": 1,
   "id": "2fd154a8",
   "metadata": {},
   "outputs": [],
   "source": [
    "import numpy as np\n",
    "import cv2\n",
    "import sys"
   ]
  },
  {
   "cell_type": "code",
   "execution_count": 7,
   "id": "d6c56783",
   "metadata": {},
   "outputs": [],
   "source": [
    "dst = cv2.imread('./fig/chromakey.png')\n",
    "src = cv2.imread('./fig/autumn.jpg')\n",
    "\n",
    "h, w = dst.shape[:2]\n",
    "src = cv2.resize(src, (w,h), interpolation=cv2.INTER_AREA)\n",
    "\n",
    "# cv2.imshow('src', src)\n",
    "\n",
    "dst_hsv = cv2.cvtColor(dst, cv2.COLOR_BGR2HSV)\n",
    "mask = cv2.inRange(dst_hsv,(50,150,0),(80,255,255))\n",
    "cv2.imshow('img_2', mask)\n",
    "\n",
    "cv2.copyTo(src, mask, dst)\n",
    "\n",
    "if src is None:\n",
    "    print('Image load failed!')\n",
    "    sys.exit()\n",
    "\n",
    "cv2.imshow('img_1', dst)\n",
    "\n",
    "\n",
    "cv2.waitKey()\n",
    "cv2.destroyAllWindows()\n"
   ]
  }
 ],
 "metadata": {
  "kernelspec": {
   "display_name": "cancan",
   "language": "python",
   "name": "cancan"
  },
  "language_info": {
   "codemirror_mode": {
    "name": "ipython",
    "version": 3
   },
   "file_extension": ".py",
   "mimetype": "text/x-python",
   "name": "python",
   "nbconvert_exporter": "python",
   "pygments_lexer": "ipython3",
   "version": "3.8.12"
  }
 },
 "nbformat": 4,
 "nbformat_minor": 5
}
