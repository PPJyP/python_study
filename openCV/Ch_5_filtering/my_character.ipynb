{
 "cells": [
  {
   "cell_type": "code",
   "execution_count": 28,
   "id": "48910948",
   "metadata": {},
   "outputs": [
    {
     "data": {
      "text/plain": [
       "True"
      ]
     },
     "execution_count": 28,
     "metadata": {},
     "output_type": "execute_result"
    }
   ],
   "source": [
    "import numpy as np\n",
    "import cv2\n",
    "import sys\n",
    "\n",
    "time = cv2.TickMeter()\n",
    "time.start()\n",
    "\n",
    "img = cv2.imread('./fig/me.jpg')\n",
    "\n",
    "if img is None:\n",
    "    print('image read failed')\n",
    "    sys.exit()\n",
    "    \n",
    "blr = cv2.GaussianBlur(img, (0, 0), 2)\n",
    "edge = 255 - cv2.Canny(img, 100, 100)\n",
    "edge = cv2.cvtColor(edge, cv2.COLOR_GRAY2BGR)\n",
    "\n",
    "dst = cv2.bitwise_and(blr, edge)\n",
    "\n",
    "cv2.imshow('img', blr)\n",
    "cv2.imshow('img', edge)\n",
    "cv2.imshow('dst', dst)\n",
    "\n",
    "# time.stop()\n",
    "\n",
    "# print(time.getTimeMilli(), 'ms')\n",
    "\n",
    "\n",
    "cv2.waitKey()\n",
    "cv2.destroyAllWindows()\n",
    "\n",
    "cv2.imwrite('./fig/me_character.jpg', dst)"
   ]
  }
 ],
 "metadata": {
  "kernelspec": {
   "display_name": "cancan",
   "language": "python",
   "name": "cancan"
  },
  "language_info": {
   "codemirror_mode": {
    "name": "ipython",
    "version": 3
   },
   "file_extension": ".py",
   "mimetype": "text/x-python",
   "name": "python",
   "nbconvert_exporter": "python",
   "pygments_lexer": "ipython3",
   "version": "3.8.12"
  }
 },
 "nbformat": 4,
 "nbformat_minor": 5
}
