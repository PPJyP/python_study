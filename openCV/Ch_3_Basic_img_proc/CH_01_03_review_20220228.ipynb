{
 "cells": [
  {
   "cell_type": "code",
   "execution_count": 1,
   "id": "33409e6c",
   "metadata": {},
   "outputs": [],
   "source": [
    "import numpy as np\n",
    "import cv2\n",
    "import sys"
   ]
  },
  {
   "cell_type": "code",
   "execution_count": 18,
   "id": "4780bf60",
   "metadata": {},
   "outputs": [
    {
     "name": "stdout",
     "output_type": "stream",
     "text": [
      "(256, 256, 3) (256, 256, 4) (3507, 2480, 4)\n"
     ]
    }
   ],
   "source": [
    "img_alpha = cv2.imread('./fig/imgbin_hat.png', cv2.IMREAD_UNCHANGED)\n",
    "img1 = cv2.imread('./fig/lenna256.bmp')\n",
    "img4 = cv2.resize(img_alpha,(256,256), interpolation=cv2.INTER_AREA)\n",
    "print(img1.shape, img4.shape, img_alpha.shape)\n",
    "\n",
    "img2 = img4[:,:,0:3]\n",
    "mask = img4[:,:, -1]\n",
    "\n",
    "img3 = cv2.copyTo(img2, mask, img1)\n",
    "\n",
    "\n",
    "\n",
    "def onChange(x):\n",
    "    alpha = x/100\n",
    "    dst = cv2.addWeighted(img1, 1-alpha, img3, alpha, 0) \n",
    "    cv2.imshow('change', dst)\n",
    "    \n",
    "cv2.imshow('change', img1)\n",
    "cv2.createTrackbar('trackbar', 'change', 0, 100, onChange)\n",
    "\n",
    "cv2.waitKey()\n",
    "cv2.destroyAllWindows()"
   ]
  },
  {
   "cell_type": "code",
   "execution_count": null,
   "id": "fab464e3",
   "metadata": {},
   "outputs": [],
   "source": []
  }
 ],
 "metadata": {
  "kernelspec": {
   "display_name": "cancan",
   "language": "python",
   "name": "cancan"
  },
  "language_info": {
   "codemirror_mode": {
    "name": "ipython",
    "version": 3
   },
   "file_extension": ".py",
   "mimetype": "text/x-python",
   "name": "python",
   "nbconvert_exporter": "python",
   "pygments_lexer": "ipython3",
   "version": "3.8.12"
  }
 },
 "nbformat": 4,
 "nbformat_minor": 5
}
