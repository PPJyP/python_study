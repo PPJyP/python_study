{
 "cells": [
  {
   "cell_type": "code",
   "execution_count": 1,
   "id": "50e08eef",
   "metadata": {},
   "outputs": [],
   "source": [
    "import numpy as np\n",
    "import sys\n",
    "import cv2"
   ]
  },
  {
   "cell_type": "code",
   "execution_count": 3,
   "id": "4cb498b0",
   "metadata": {},
   "outputs": [
    {
     "name": "stdout",
     "output_type": "stream",
     "text": [
      "(480, 640) (853, 1280, 3)\n"
     ]
    }
   ],
   "source": [
    "img = cv2.imread('./fig/puppy.bmp',0)\n",
    "img2 = cv2.imread('./fig/puppy_1280_853.jpg',1)\n",
    "\n",
    "\n",
    "print(img.shape, img2.shape)\n",
    "\n",
    "# cv2.imshow('img',img)\n",
    "# cv2.imshow('img2',img2)\n",
    "\n",
    "# cv2.waitKey()\n",
    "\n",
    "# cv2.destroyAllWindows()"
   ]
  },
  {
   "cell_type": "code",
   "execution_count": 4,
   "id": "cc11a1a0",
   "metadata": {},
   "outputs": [],
   "source": [
    "h, w = img.shape[:2]\n"
   ]
  },
  {
   "cell_type": "code",
   "execution_count": 15,
   "id": "88c1bc1e",
   "metadata": {},
   "outputs": [],
   "source": [
    "# cv는 BGR이고, (열W,행H) 순서이다.\n",
    "\n",
    "img = cv2.imread('./fig/puppy.bmp',0)\n",
    "img2 = cv2.imread('./fig/puppy_1280_853.jpg',1)\n",
    "\n",
    "x=200\n",
    "y=300\n",
    "\n",
    "img1[10:y, 30:x] = 0 #BGR\n",
    "img2[10:y, 30:x] = (0, 0, 255) #BGR\n",
    "\n",
    "\n",
    "if img is None or img2 is None:\n",
    "    print('이미지 없음')\n",
    "    sys.exti()\n",
    "    \n",
    "cv2.imshow('img2', img2)\n",
    "cv2.waitKey()\n",
    "\n",
    "cv2.destroyAllWindows()"
   ]
  },
  {
   "cell_type": "code",
   "execution_count": 17,
   "id": "a19c6db4",
   "metadata": {},
   "outputs": [],
   "source": [
    "##영상 생성\n",
    "\n",
    "img1=np.ones((400,600), dtype=np.uint8)*137 #회색\n",
    "img2=np.full((400,600,3), 255, dtype=np.uint8) #흰색\n",
    "img3=np.zeros((400,600,3), dtype=np.uint8) #검정\n",
    "img4=np.random.randint(0,255,(400,600), dtype=np.uint8) #랜덤\n",
    "\n",
    "cv2.imshow('img1',img1)\n",
    "cv2.imshow('img2',img2)\n",
    "cv2.imshow('img3',img3)\n",
    "cv2.imshow('img4',img4)\n",
    "\n",
    "cv2.waitKey()\n",
    "cv2.destroyAllWindows()"
   ]
  },
  {
   "cell_type": "code",
   "execution_count": 31,
   "id": "fc62f24f",
   "metadata": {},
   "outputs": [],
   "source": [
    "#강아지 눈 가리기\n",
    "img = cv2.imread('./fig/puppy.bmp')\n",
    "\n",
    "\n",
    "img[150:250, 250:500] = 0\n",
    "\n",
    "\n",
    "if img is None or img2 is None:\n",
    "    print('이미지 없음')\n",
    "    sys.exti()\n",
    "    \n",
    "cv2.imshow('img', img)\n",
    "cv2.waitKey()\n",
    "\n",
    "cv2.destroyAllWindows()"
   ]
  },
  {
   "cell_type": "code",
   "execution_count": 35,
   "id": "76f034a9",
   "metadata": {},
   "outputs": [],
   "source": [
    "img = cv2.imread('./fig/puppy.bmp')\n",
    "\n",
    "img1=img #img 주소를 가져가기 때문에 이미지가 변함\n",
    "img[150:250, 250:500] = (0,0,255)\n",
    "\n",
    "\n",
    "if img is None or img2 is None:\n",
    "    print('이미지 없음')\n",
    "    sys.exti()\n",
    "    \n",
    "cv2.imshow('img1', img1)\n",
    "cv2.waitKey()\n",
    "\n",
    "cv2.destroyAllWindows()"
   ]
  },
  {
   "cell_type": "code",
   "execution_count": 36,
   "id": "ae314032",
   "metadata": {},
   "outputs": [],
   "source": [
    "img = cv2.imread('./fig/puppy.bmp')\n",
    "\n",
    "img1=img.copy() #이미지 변화 없음\n",
    "img[150:250, 250:500] = (0,0,255)\n",
    "\n",
    "\n",
    "if img is None or img2 is None:\n",
    "    print('이미지 없음')\n",
    "    sys.exti()\n",
    "    \n",
    "cv2.imshow('img1', img1)\n",
    "cv2.waitKey()\n",
    "\n",
    "cv2.destroyAllWindows()"
   ]
  },
  {
   "cell_type": "code",
   "execution_count": 50,
   "id": "97865767",
   "metadata": {},
   "outputs": [],
   "source": [
    "#특정 부위만 이미지 저장 (원본 이미지가 변하면 데이터가 변함)\n",
    "img = cv2.imread('./fig/puppy.bmp')\n",
    "\n",
    "img1=img[150:250, 250:500]\n",
    "cv2.circle(img1,(50,50),50,(0,0,255),5,cv2.LINE_AA)\n",
    "\n",
    "if img is None or img2 is None:\n",
    "    print('이미지 없음')\n",
    "    sys.exti()\n",
    "    \n",
    "cv2.imshow('img1', img)\n",
    "cv2.waitKey()\n",
    "\n",
    "cv2.destroyAllWindows()"
   ]
  },
  {
   "cell_type": "code",
   "execution_count": 49,
   "id": "a195f69b",
   "metadata": {},
   "outputs": [],
   "source": [
    "#특정 부위만 이미지 저장 (데이터가 변하지 않음)\n",
    "img = cv2.imread('./fig/puppy.bmp')\n",
    "\n",
    "img2=img[150:250, 250:500].copy()\n",
    "cv2.circle(img2,(50,50),50,(0,0,255),5)\n",
    "\n",
    "if img is None or img2 is None:\n",
    "    print('이미지 없음')\n",
    "    sys.exti()\n",
    "    \n",
    "cv2.imshow('img2', img)\n",
    "cv2.waitKey()\n",
    "\n",
    "cv2.destroyAllWindows()"
   ]
  },
  {
   "cell_type": "code",
   "execution_count": 67,
   "id": "63bedcfc",
   "metadata": {},
   "outputs": [],
   "source": [
    "#루돌프 코 \n",
    "img = cv2.imread('./fig/rudolf.png')\n",
    "\n",
    "img1=img[420:620, 410:610]\n",
    "cv2.circle(img1,(100,100),70,(0,0,255),-1) # 원 색갈 채우기\n",
    "\n",
    "if img is None or img2 is None:\n",
    "    print('이미지 없음')\n",
    "    sys.exti()\n",
    "    \n",
    "cv2.imshow('img', img)\n",
    "cv2.imshow('img1', img1)\n",
    "cv2.waitKey()\n",
    "\n",
    "cv2.destroyAllWindows()"
   ]
  },
  {
   "cell_type": "code",
   "execution_count": 71,
   "id": "9d44b786",
   "metadata": {},
   "outputs": [],
   "source": [
    "src = cv2.imread('./fig/airplane.bmp')\n",
    "mask=cv2.imread('./fig/mask_plane.bmp', cv2.IMREAD_GRAYSCALE)\n",
    "dst=cv2.imread('./fig/field.bmp')\n",
    "\n",
    "cv2.copyTo(src,mask,dst)\n",
    "# dst[mask>0]=src[mask>0] #넘파이로도 mask 가능\n",
    "\n",
    "# cv2.imshow('src',src)\n",
    "# cv2.imshow('mask',mask)\n",
    "cv2.imshow('dst',dst)\n",
    "\n",
    "cv2.waitKey()\n",
    "cv2.destroyAllWindows()"
   ]
  }
 ],
 "metadata": {
  "kernelspec": {
   "display_name": "cancan",
   "language": "python",
   "name": "cancan"
  },
  "language_info": {
   "codemirror_mode": {
    "name": "ipython",
    "version": 3
   },
   "file_extension": ".py",
   "mimetype": "text/x-python",
   "name": "python",
   "nbconvert_exporter": "python",
   "pygments_lexer": "ipython3",
   "version": "3.8.12"
  }
 },
 "nbformat": 4,
 "nbformat_minor": 5
}
