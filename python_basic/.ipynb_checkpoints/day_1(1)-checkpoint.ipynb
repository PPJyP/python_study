{
 "cells": [
  {
   "cell_type": "code",
   "execution_count": 3,
   "id": "70e7b09e",
   "metadata": {},
   "outputs": [
    {
     "name": "stdout",
     "output_type": "stream",
     "text": [
      "in1 >1\n",
      "in2 >2\n"
     ]
    },
    {
     "data": {
      "text/plain": [
       "3"
      ]
     },
     "execution_count": 3,
     "metadata": {},
     "output_type": "execute_result"
    }
   ],
   "source": [
    "# input 기본 변수는 문자이기 때문에 정수 입력은 변경이 필요함\n",
    "num1=int(input(\"in1 >\")) \n",
    "num2=int(input(\"in2 >\"))\n",
    "num1+num2"
   ]
  },
  {
   "cell_type": "code",
   "execution_count": 7,
   "id": "ec8348e3",
   "metadata": {},
   "outputs": [
    {
     "name": "stdout",
     "output_type": "stream",
     "text": [
      "10 test add\n",
      "10 10.000000 10.000\n"
     ]
    }
   ],
   "source": [
    "a_str=\"{} test {}\".format(10,'add')\n",
    "print(a_str)\n",
    "print(\"{:d} {:f} {:.3f}\".format(10,10.0,10.0))\n",
    "\n"
   ]
  },
  {
   "cell_type": "code",
   "execution_count": 10,
   "id": "3fae3d22",
   "metadata": {},
   "outputs": [
    {
     "name": "stdout",
     "output_type": "stream",
     "text": [
      "  TEST STR 10 NUM ABC DEF   \n",
      "  test str 10 num abc def   \n",
      "test str 10 num abc deF\n",
      "test str 10 num abc deF   \n",
      "  test str 10 num abc deF\n",
      "/test str 10 num abc deF/\n"
     ]
    }
   ],
   "source": [
    "a_str=\"  test str 10 num abc deF   \"\n",
    "print(a_str.upper())\n",
    "print(a_str.lower())\n",
    "print(a_str.strip()) # 양쪽 공백 제거\n",
    "print(a_str.lstrip())\n",
    "print(a_str.rstrip())\n",
    "\n",
    "print(\"/{}/\".format(a_str.strip()))"
   ]
  },
  {
   "cell_type": "code",
   "execution_count": 22,
   "id": "2707954a",
   "metadata": {},
   "outputs": [
    {
     "name": "stdout",
     "output_type": "stream",
     "text": [
      "입력 >10 20\n",
      "합 :  30\n",
      "차 :  -10\n"
     ]
    }
   ],
   "source": [
    "b_list=input(\"입력 >\")\n",
    "c=b_list.split()\n",
    "num1=int(c[0])\n",
    "num2=int(c[1])\n",
    "\n",
    "print(\"합 : \", num1 + num2)\n",
    "print(\"차 : \", num1 - num2)"
   ]
  },
  {
   "cell_type": "code",
   "execution_count": 30,
   "id": "756a8d75",
   "metadata": {},
   "outputs": [
    {
     "name": "stdout",
     "output_type": "stream",
     "text": [
      "영문자 입력 > abCD\n",
      "대문자 :  ABCD \n",
      "소문자 : abcd\n",
      "abCD 는 True 입니다\n",
      "\n",
      "숫자 입력 > 123\n",
      "123 는 True 입니다\n",
      "\n",
      "문자 5개 입력 > one two th fo fi\n",
      "3번째 문자열의 처음 문자 :  f \n",
      "5번째 문자의 마지막 문자 :  i \n",
      "문자열의 길이 :  5\n",
      "False\n"
     ]
    }
   ],
   "source": [
    "eng=input(\"영문자 입력 > \")\n",
    "print(\"대문자 : \",eng.upper(),\"\\n소문자 :\",eng.lower())\n",
    "print(\"{} 는 {} 입니다\\n\".format(eng, eng.isalpha()))\n",
    "\n",
    "num=input(\"숫자 입력 > \")\n",
    "print(\"{} 는 {} 입니다\\n\".format(num, num.isdigit()))\n",
    "\n",
    "f=input(\"문자 5개 입력 > \")\n",
    "f1=f.split()\n",
    "print(\"3번째 문자열의 처음 문자 : \",f1[2][0],\"\\n5번째 문자의 마지막 문자 : \",f1[4][-1],\"\\n문자열의 길이 : \",len(f1))\n",
    "print(\"문자열에 test가 포함 되었는가? \" \"test\" in f1)\n"
   ]
  },
  {
   "cell_type": "code",
   "execution_count": null,
   "id": "56752ad2",
   "metadata": {},
   "outputs": [],
   "source": [
    "f=input(\"문자 5개 입력 > \")\n",
    "f1=f.split()\n",
    "print(\"3번째 문자열의 처음 문자 : \",f1[2][0],\"\\n5번째 문자의 마지막 문자 : \",f1[4][-1],\"\\n문자열의 길이 : \",len(f1))\n",
    "print(\"문자열에 test가 포함 되었는가? \", 'test' in f1)"
   ]
  },
  {
   "cell_type": "code",
   "execution_count": 41,
   "id": "512ebd83",
   "metadata": {},
   "outputs": [
    {
     "name": "stdout",
     "output_type": "stream",
     "text": [
      "3개 숫자 입력 > 1 2 3\n",
      "4\n",
      "3\n"
     ]
    }
   ],
   "source": [
    "number=input(\"3개 숫자 입력 > \").split()\n",
    "n11=int(number[0])\n",
    "n22=int(number[1])\n",
    "n33=int(number[2])\n",
    "\n",
    "print(n11+n33)\n",
    "print(n11*n33)\n"
   ]
  }
 ],
 "metadata": {
  "kernelspec": {
   "display_name": "Python 3 (ipykernel)",
   "language": "python",
   "name": "python3"
  },
  "language_info": {
   "codemirror_mode": {
    "name": "ipython",
    "version": 3
   },
   "file_extension": ".py",
   "mimetype": "text/x-python",
   "name": "python",
   "nbconvert_exporter": "python",
   "pygments_lexer": "ipython3",
   "version": "3.9.7"
  }
 },
 "nbformat": 4,
 "nbformat_minor": 5
}
