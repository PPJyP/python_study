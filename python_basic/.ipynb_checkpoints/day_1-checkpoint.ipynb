{
 "cells": [
  {
   "cell_type": "markdown",
   "id": "039ed816",
   "metadata": {},
   "source": [
    "# python\n",
    "### 기본 문법 1일차\n"
   ]
  },
  {
   "cell_type": "code",
   "execution_count": null,
   "id": "70e0edfd",
   "metadata": {},
   "outputs": [],
   "source": []
  },
  {
   "cell_type": "code",
   "execution_count": 5,
   "id": "e29e9d6d",
   "metadata": {
    "scrolled": true
   },
   "outputs": [
    {
     "name": "stdout",
     "output_type": "stream",
     "text": [
      "hello\n",
      "3\n"
     ]
    },
    {
     "data": {
      "text/plain": [
       "5"
      ]
     },
     "execution_count": 5,
     "metadata": {},
     "output_type": "execute_result"
    }
   ],
   "source": [
    "print('hello')\n",
    "print(1+2)\n",
    "2+3"
   ]
  },
  {
   "cell_type": "code",
   "execution_count": 3,
   "id": "8b5f9ef3",
   "metadata": {},
   "outputs": [
    {
     "data": {
      "text/plain": [
       "30"
      ]
     },
     "execution_count": 3,
     "metadata": {},
     "output_type": "execute_result"
    }
   ],
   "source": [
    "10+20"
   ]
  },
  {
   "cell_type": "code",
   "execution_count": null,
   "id": "eb34965a",
   "metadata": {},
   "outputs": [],
   "source": [
    "import keyword\n",
    "print(keyword.kwlist)"
   ]
  },
  {
   "cell_type": "code",
   "execution_count": 24,
   "id": "0727f374",
   "metadata": {},
   "outputs": [
    {
     "name": "stdout",
     "output_type": "stream",
     "text": [
      "테스트\n",
      "\n",
      "테스\n",
      "hello python\n",
      "연산식 :  30\n",
      "라인\n"
     ]
    }
   ],
   "source": [
    "print(\"테스트\\n\")\n",
    "print(\"테스\")\n",
    "\n",
    "print('hello python')\n",
    "print(\"연산식 : \", 10+20)\n",
    "print(\"라인\")"
   ]
  },
  {
   "cell_type": "code",
   "execution_count": 31,
   "id": "09bbf0ee",
   "metadata": {},
   "outputs": [
    {
     "name": "stdout",
     "output_type": "stream",
     "text": [
      "<class 'str'>\n",
      "<class 'int'>\n",
      "<class 'bool'>\n",
      "<class 'str'>\n",
      "<class 'float'>\n"
     ]
    }
   ],
   "source": [
    "#자료형 확인\n",
    "print(type('문자열 10'))\n",
    "print(type(10))\n",
    "print(type(True))\n",
    "print(type(\"문자열 확인\"))\n",
    "print(type(10.1))\n"
   ]
  },
  {
   "cell_type": "code",
   "execution_count": null,
   "id": "dbf98d09",
   "metadata": {},
   "outputs": [],
   "source": []
  },
  {
   "cell_type": "code",
   "execution_count": 37,
   "id": "54de3813",
   "metadata": {
    "scrolled": true
   },
   "outputs": [
    {
     "name": "stdout",
     "output_type": "stream",
     "text": [
      "\"안녕하세요\"ㅇㅇ\n",
      "\\n\n"
     ]
    }
   ],
   "source": [
    "print(\"\\\"안녕하세요\\\"ㅇㅇ\")\n",
    "# \\n : 줄바꿈, \\t : tab(4칸 띄움), \\n을 출력하려면 \"\\\\n\"으로 표시\n",
    "print(\"\\\\n\")\n"
   ]
  },
  {
   "cell_type": "code",
   "execution_count": 41,
   "id": "1fc9204e",
   "metadata": {},
   "outputs": [
    {
     "name": "stdout",
     "output_type": "stream",
     "text": [
      "이름\t나이\t지역\n",
      "박준영\t30\t안양\n"
     ]
    }
   ],
   "source": [
    "print(\"이름\\t나이\\t지역\\n박준영\\t30\\t안양\")"
   ]
  },
  {
   "cell_type": "code",
   "execution_count": 44,
   "id": "3c7600d1",
   "metadata": {},
   "outputs": [
    {
     "data": {
      "text/plain": [
       "30"
      ]
     },
     "execution_count": 44,
     "metadata": {},
     "output_type": "execute_result"
    }
   ],
   "source": [
    "10+\\\n",
    "20\n",
    "#역슬러시는 아래 라인과 연결시켜줌"
   ]
  },
  {
   "cell_type": "code",
   "execution_count": 46,
   "id": "c4752ede",
   "metadata": {},
   "outputs": [
    {
     "name": "stdout",
     "output_type": "stream",
     "text": [
      "test test\n",
      "test test \n"
     ]
    }
   ],
   "source": [
    "print(\"test \"+\"test\")\n",
    "print(\"test \" *2)\n"
   ]
  },
  {
   "cell_type": "code",
   "execution_count": 60,
   "id": "4ff4be5b",
   "metadata": {},
   "outputs": [
    {
     "name": "stdout",
     "output_type": "stream",
     "text": [
      "b\n",
      "bc\n",
      "abc\n",
      "bced\n",
      "d\n",
      "abc\n",
      "ab\n"
     ]
    }
   ],
   "source": [
    "print(\"abcde\"[1])\n",
    "print(\"abcde\"[1:3]) # 마지막 숫자는 포함하지 않음\n",
    "print(\"abcde\"[:3])\n",
    "print(\"abced\"[1:])\n",
    "print(\"abced\"[-1])\n",
    "print(\"abcde\"[:-2])\n",
    "print(\"abcde\"[-5:-3])"
   ]
  },
  {
   "cell_type": "code",
   "execution_count": 61,
   "id": "eb432420",
   "metadata": {},
   "outputs": [
    {
     "name": "stdout",
     "output_type": "stream",
     "text": [
      "5\n"
     ]
    }
   ],
   "source": [
    "print(len(\"abcde\"))"
   ]
  },
  {
   "cell_type": "code",
   "execution_count": 63,
   "id": "5c7487ce",
   "metadata": {},
   "outputs": [
    {
     "name": "stdout",
     "output_type": "stream",
     "text": [
      "3\n",
      "1\n",
      "1000\n"
     ]
    }
   ],
   "source": [
    "print(10//3)\n",
    "print(10%3)\n",
    "print(10**3)"
   ]
  },
  {
   "cell_type": "code",
   "execution_count": 69,
   "id": "db6a01c5",
   "metadata": {},
   "outputs": [
    {
     "name": "stdout",
     "output_type": "stream",
     "text": [
      "3.14\n",
      "7.140000000000001\n",
      "<class 'float'>\n",
      "stirng test\n",
      "<class 'str'>\n",
      "<class 'int'>\n"
     ]
    }
   ],
   "source": [
    "# 변수 활용\n",
    "pi = 3.14\n",
    "print(pi)\n",
    "print(pi+4)\n",
    "print(type(pi))\n",
    "\n",
    "pi='stirng test'\n",
    "print(pi)\n",
    "print(type(pi))\n",
    "\n",
    "a='str'\n",
    "a=10\n",
    "print(type(a))"
   ]
  },
  {
   "cell_type": "code",
   "execution_count": 71,
   "id": "2ed59d7f",
   "metadata": {},
   "outputs": [
    {
     "name": "stdout",
     "output_type": "stream",
     "text": [
      "160\n"
     ]
    }
   ],
   "source": [
    "num=100\n",
    "num+=10\n",
    "num+=20\n",
    "num+=30\n",
    "print(num)"
   ]
  },
  {
   "cell_type": "code",
   "execution_count": null,
   "id": "c8646134",
   "metadata": {},
   "outputs": [],
   "source": [
    "num1=int(input(\"in1 >\")) \n",
    "num2=int(input(\"in2 >\"))\n",
    "print(num1+num2)"
   ]
  },
  {
   "cell_type": "code",
   "execution_count": null,
   "id": "75d40e68",
   "metadata": {},
   "outputs": [],
   "source": [
    "input(\"in1 >\") "
   ]
  },
  {
   "cell_type": "code",
   "execution_count": null,
   "id": "421089e6",
   "metadata": {},
   "outputs": [],
   "source": []
  },
  {
   "cell_type": "code",
   "execution_count": null,
   "id": "32c8523d",
   "metadata": {},
   "outputs": [],
   "source": [
    "input(\"입력 > \") "
   ]
  }
 ],
 "metadata": {
  "kernelspec": {
   "display_name": "Python 3 (ipykernel)",
   "language": "python",
   "name": "python3"
  },
  "language_info": {
   "codemirror_mode": {
    "name": "ipython",
    "version": 3
   },
   "file_extension": ".py",
   "mimetype": "text/x-python",
   "name": "python",
   "nbconvert_exporter": "python",
   "pygments_lexer": "ipython3",
   "version": "3.9.7"
  }
 },
 "nbformat": 4,
 "nbformat_minor": 5
}
