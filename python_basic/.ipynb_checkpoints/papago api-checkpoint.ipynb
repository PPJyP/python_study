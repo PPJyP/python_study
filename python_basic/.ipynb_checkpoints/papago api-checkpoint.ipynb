{
 "cells": [
  {
   "cell_type": "code",
   "execution_count": 15,
   "id": "9939c22a",
   "metadata": {},
   "outputs": [],
   "source": [
    "# 파파고 api를 활용한 번역 프로그램 작성\n",
    "text='I keep on dreaming I keep on searching I need some air now Ive been down a little bit too long Ive been sad you know you hurt me bad'"
   ]
  },
  {
   "cell_type": "code",
   "execution_count": 1,
   "id": "afea3316",
   "metadata": {},
   "outputs": [],
   "source": [
    "import requests"
   ]
  },
  {
   "cell_type": "code",
   "execution_count": 26,
   "id": "57b5e601",
   "metadata": {},
   "outputs": [],
   "source": [
    "requests_url=\"https://openapi.naver.com/v1/papago/n2mt\"\n",
    "headers={\"Content-Type\": \"application/x-www-form-urlencoded; charset=UTF-8\", \n",
    "        \"X-Naver-Client-Id\": \"e3umBZ0mb9XDOHp89rJs\",\n",
    "        \"X-Naver-Client-Secret\": \"NTwzLZx6TI\"}\n",
    "\n",
    "params={\"source\" : \"en\", \"target\" : \"ko\", \"text\" : text}\n"
   ]
  },
  {
   "cell_type": "code",
   "execution_count": 44,
   "id": "b845d9b3",
   "metadata": {},
   "outputs": [
    {
     "name": "stdout",
     "output_type": "stream",
     "text": [
      "<class 'requests.models.Response'>\n",
      "{\"message\":{\"@type\":\"response\",\"@service\":\"naverservice.nmt.proxy\",\"@version\":\"1.0.0\",\"result\":{\"srcLangType\":\"en\",\"tarLangType\":\"ko\",\"translatedText\":\"계속 꿈을 꾸고 있어 계속 찾아 헤매고 있어 바람 좀 쐬고 있어 너무 우울했어 네가 날 아프게 한 거 알잖아\",\"engineType\":\"N2MT\",\"pivot\":null}}}\n",
      "\n",
      "\n",
      "<class 'dict'>\n",
      "{'message': {'@type': 'response', '@service': 'naverservice.nmt.proxy', '@version': '1.0.0', 'result': {'srcLangType': 'en', 'tarLangType': 'ko', 'translatedText': '계속 꿈을 꾸고 있어 계속 찾아 헤매고 있어 바람 좀 쐬고 있어 너무 우울했어 네가 날 아프게 한 거 알잖아', 'engineType': 'N2MT', 'pivot': None}}}\n"
     ]
    }
   ],
   "source": [
    "response=requests.post(requests_url, headers=headers, data=params)\n",
    "print(type(response))\n",
    "print(response.text+\"\\n\\n\")\n",
    "res=response.json() #json 형태로 변경하면 dic 으로 바뀜\n",
    "print(type(res))\n",
    "print(res)"
   ]
  },
  {
   "cell_type": "code",
   "execution_count": 43,
   "id": "2fa347a2",
   "metadata": {},
   "outputs": [
    {
     "name": "stdout",
     "output_type": "stream",
     "text": [
      "계속 꿈을 꾸고 있어 계속 찾아 헤매고 있어 바람 좀 쐬고 있어 너무 우울했어 네가 날 아프게 한 거 알잖아\n"
     ]
    }
   ],
   "source": [
    "print(res['message']['result']['translatedText'])\n",
    "#json 형식으로 바꿔야만 문자열로 출력가능?"
   ]
  },
  {
   "cell_type": "code",
   "execution_count": null,
   "id": "377be369",
   "metadata": {},
   "outputs": [],
   "source": []
  }
 ],
 "metadata": {
  "kernelspec": {
   "display_name": "Python 3 (ipykernel)",
   "language": "python",
   "name": "python3"
  },
  "language_info": {
   "codemirror_mode": {
    "name": "ipython",
    "version": 3
   },
   "file_extension": ".py",
   "mimetype": "text/x-python",
   "name": "python",
   "nbconvert_exporter": "python",
   "pygments_lexer": "ipython3",
   "version": "3.9.7"
  }
 },
 "nbformat": 4,
 "nbformat_minor": 5
}
