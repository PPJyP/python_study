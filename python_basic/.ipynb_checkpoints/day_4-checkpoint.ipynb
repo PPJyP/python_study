{
 "cells": [
  {
   "cell_type": "code",
   "execution_count": null,
   "id": "757fbc81",
   "metadata": {},
   "outputs": [],
   "source": [
    "def factorial(n):\n",
    "    output=1\n",
    "    \n",
    "    for i in range(1,n+1):\n",
    "        output*=i\n",
    "    \n",
    "    return output"
   ]
  },
  {
   "cell_type": "code",
   "execution_count": 6,
   "id": "2b909f15",
   "metadata": {},
   "outputs": [],
   "source": [
    "def factorial1(n):\n",
    "    if n == 0:\n",
    "        return 1\n",
    "    else:\n",
    "        return n*factorial(n-1)\n",
    "#재귀함수는 속도가 느리기 때문에 메모화를 사용함(계산이 완료된 값을 가져옴) = 딕셔너리를 이용하면 메모화 가능"
   ]
  },
  {
   "cell_type": "code",
   "execution_count": null,
   "id": "4bb74356",
   "metadata": {},
   "outputs": [],
   "source": [
    "factorial1(5)"
   ]
  },
  {
   "cell_type": "code",
   "execution_count": 8,
   "id": "197fd4a5",
   "metadata": {},
   "outputs": [],
   "source": [
    "def fibo(n):\n",
    "    global count=0\n",
    "    count+=1\n",
    "    if n== 1 or n==2:\n",
    "        return 1\n",
    "    else:\n",
    "        return fibo(n-1)+fibo(n-2)"
   ]
  },
  {
   "cell_type": "code",
   "execution_count": null,
   "id": "29fa0cc0",
   "metadata": {},
   "outputs": [],
   "source": [
    "fibo(5)"
   ]
  },
  {
   "cell_type": "code",
   "execution_count": 21,
   "id": "d94e120a",
   "metadata": {},
   "outputs": [],
   "source": [
    "dic={1:1,2:1}\n",
    "def fibo_m(n):\n",
    "    \n",
    "    if n in dic:\n",
    "        return dic[n]\n",
    "    else:\n",
    "        output =fibo_m(n-1)+fibo_m(n-2)\n",
    "        dic[n]=output\n",
    "        return output\n",
    "    "
   ]
  },
  {
   "cell_type": "code",
   "execution_count": 23,
   "id": "1a13d838",
   "metadata": {},
   "outputs": [
    {
     "name": "stdout",
     "output_type": "stream",
     "text": [
      "{1: 1, 2: 1, 3: 2, 4: 3, 5: 5, 6: 8, 7: 13, 8: 21, 9: 34, 10: 55, 11: 89, 12: 144, 13: 233, 14: 377, 15: 610, 16: 987, 17: 1597, 18: 2584, 19: 4181, 20: 6765, 21: 10946, 22: 17711, 23: 28657, 24: 46368, 25: 75025, 26: 121393, 27: 196418, 28: 317811, 29: 514229, 30: 832040, 31: 1346269, 32: 2178309, 33: 3524578, 34: 5702887, 35: 9227465, 36: 14930352, 37: 24157817, 38: 39088169, 39: 63245986, 40: 102334155, 41: 165580141, 42: 267914296, 43: 433494437, 44: 701408733, 45: 1134903170, 46: 1836311903, 47: 2971215073, 48: 4807526976, 49: 7778742049, 50: 12586269025, 51: 20365011074, 52: 32951280099, 53: 53316291173, 54: 86267571272, 55: 139583862445, 56: 225851433717, 57: 365435296162, 58: 591286729879, 59: 956722026041, 60: 1548008755920, 61: 2504730781961, 62: 4052739537881, 63: 6557470319842, 64: 10610209857723, 65: 17167680177565, 66: 27777890035288, 67: 44945570212853, 68: 72723460248141, 69: 117669030460994, 70: 190392490709135, 71: 308061521170129, 72: 498454011879264, 73: 806515533049393, 74: 1304969544928657, 75: 2111485077978050, 76: 3416454622906707, 77: 5527939700884757, 78: 8944394323791464, 79: 14472334024676221, 80: 23416728348467685, 81: 37889062373143906, 82: 61305790721611591, 83: 99194853094755497, 84: 160500643816367088, 85: 259695496911122585, 86: 420196140727489673, 87: 679891637638612258, 88: 1100087778366101931, 89: 1779979416004714189, 90: 2880067194370816120, 91: 4660046610375530309, 92: 7540113804746346429, 93: 12200160415121876738, 94: 19740274219868223167, 95: 31940434634990099905, 96: 51680708854858323072, 97: 83621143489848422977, 98: 135301852344706746049, 99: 218922995834555169026, 100: 354224848179261915075}\n"
     ]
    }
   ],
   "source": [
    "fibo_m(100)\n",
    "print(dic)"
   ]
  },
  {
   "cell_type": "code",
   "execution_count": 29,
   "id": "78437b5f",
   "metadata": {},
   "outputs": [
    {
     "name": "stdout",
     "output_type": "stream",
     "text": [
      "10\n",
      "20\n",
      "30\n",
      "40\n",
      "10\n",
      "10\n",
      "before a:10, b:20\n",
      "after a:20, b:10\n"
     ]
    }
   ],
   "source": [
    "#tuple:수정할 수 없는 자료(),\n",
    "tuple_test=(10,20,30,40)\n",
    "for value in tuple_test:\n",
    "    print(value)\n",
    "print(tuple_test[0])\n",
    "#튜플은 수정 불가\n",
    "\n",
    "a,b,c=10,20,30\n",
    "print(a)\n",
    "\n",
    "a,b=10,20\n",
    "print(\"before a:{}, b:{}\".format(a,b))\n",
    "\n",
    "a,b=b,a #교환 가능\n",
    "print(\"after a:{}, b:{}\".format(a,b))"
   ]
  },
  {
   "cell_type": "code",
   "execution_count": 30,
   "id": "afbb7f2b",
   "metadata": {},
   "outputs": [
    {
     "name": "stdout",
     "output_type": "stream",
     "text": [
      "0번째 값 : 1\n",
      "1번째 값 : 2\n",
      "2번째 값 : 3\n",
      "3번째 값 : 4\n",
      "4번째 값 : 5\n",
      "88/3= 29, 1\n"
     ]
    }
   ],
   "source": [
    "for idx, value in enumerate([1,2,3,4,5]):\n",
    "    print(\"{}번째 값 : {}\".format(idx,value))\n",
    "    \n",
    "a,b=divmod(88,3)\n",
    "print(\"88/3= {}, {}\".format(a,b))"
   ]
  },
  {
   "cell_type": "code",
   "execution_count": 34,
   "id": "03d547a1",
   "metadata": {},
   "outputs": [
    {
     "name": "stdout",
     "output_type": "stream",
     "text": [
      "[1, 4, 9, 16, 25]\n",
      "\n",
      " [1, 2]\n"
     ]
    }
   ],
   "source": [
    "#map과 filter 함수 => map(함수, 리스트), filter(함수, 리스트)\n",
    "# def power(n):\n",
    "#     return n*n\n",
    "# def under_3(n):\n",
    "#     return n<3\n",
    "\n",
    "#lambda 매개변수 : 리턴값\n",
    "power=lambda x:x*x\n",
    "under_3=lambda x:x<3\n",
    "\n",
    "a_list=[1,2,3,4,5]\n",
    "b_list=list(map(power,a_list))\n",
    "print(b_list)\n",
    "\n",
    "c_list=list(filter(under_3,a_list))\n",
    "print(\"\\n\",c_list)"
   ]
  },
  {
   "cell_type": "code",
   "execution_count": 36,
   "id": "614b5e05",
   "metadata": {},
   "outputs": [
    {
     "data": {
      "text/plain": [
       "[1, 4, 9, 16, 25]"
      ]
     },
     "execution_count": 36,
     "metadata": {},
     "output_type": "execute_result"
    }
   ],
   "source": [
    "#간단한 작성법\n",
    "\n",
    "b_list=list(map(lambda x:x*x,a_list))\n",
    "b_list"
   ]
  },
  {
   "cell_type": "code",
   "execution_count": null,
   "id": "de004956",
   "metadata": {},
   "outputs": [],
   "source": []
  },
  {
   "cell_type": "code",
   "execution_count": 35,
   "id": "03653ca4",
   "metadata": {},
   "outputs": [
    {
     "data": {
      "text/plain": [
       "[1, 2]"
      ]
     },
     "execution_count": 35,
     "metadata": {},
     "output_type": "execute_result"
    }
   ],
   "source": [
    "c_list=list(filter(lambda x:x<3,a_list))\n",
    "c_list"
   ]
  },
  {
   "cell_type": "code",
   "execution_count": 41,
   "id": "51b1fadd",
   "metadata": {},
   "outputs": [],
   "source": [
    "#file 처리 : open, close, write, read...\n",
    "file=open(\"a.txt\",\"w\")\n",
    "file.write(\"Hello Python file write !!\")\n",
    "file.close()\n"
   ]
  },
  {
   "cell_type": "code",
   "execution_count": 44,
   "id": "9070b247",
   "metadata": {},
   "outputs": [
    {
     "name": "stdout",
     "output_type": "stream",
     "text": [
      "Hello Python file write !!\n"
     ]
    }
   ],
   "source": [
    "#file 처리 : open, close, write, read...\n",
    "file=open(\"a.txt\",\"r\")\n",
    "print(file.read())\n",
    "file.close()"
   ]
  },
  {
   "cell_type": "code",
   "execution_count": 47,
   "id": "ff0a3d56",
   "metadata": {},
   "outputs": [],
   "source": [
    "#파일을 자동으로 close() 시킴\n",
    "with open(\"a.txt\",\"w\") as file:\n",
    "    file.write(\"with python file open!!\\n\")\n",
    "    file.write(\"with python file open!!\\n\")\n",
    "    file.write(\"with python file open!!\\n\")\n",
    "#with 구문이 끝나게 되면 파일은 자동으로 close 되기 때문에 불러오면 에러 발생\n",
    "# file_data=file.read()\n"
   ]
  },
  {
   "cell_type": "code",
   "execution_count": 48,
   "id": "314d61ce",
   "metadata": {},
   "outputs": [
    {
     "name": "stdout",
     "output_type": "stream",
     "text": [
      "with python file open!!\n",
      "\n",
      "with python file open!!\n",
      "\n",
      "with python file open!!\n",
      "\n"
     ]
    }
   ],
   "source": [
    "#저장된 파일의 내용을 라인 단위로 읽어옴\n",
    "with open(\"a.txt\", \"r\") as file:\n",
    "    for line in file:\n",
    "        print(line)"
   ]
  },
  {
   "cell_type": "code",
   "execution_count": null,
   "id": "f4200748",
   "metadata": {},
   "outputs": [],
   "source": [
    "#키보드에서 이름 성적을 입력받아 파일에 저장\n",
    "with open(\"score.txt\", \"w\") as file:\n",
    "    name, score = input(\"이름 성정 입력 : \").split() #튜플로 받기\n",
    "    file.write(name+','+score)\n",
    "#저장 경로 C:\\Users\\JYP\\Documents\\python_basic"
   ]
  },
  {
   "cell_type": "code",
   "execution_count": 92,
   "id": "655b7fcf",
   "metadata": {},
   "outputs": [
    {
     "name": "stdout",
     "output_type": "stream",
     "text": [
      "이름 성정 입력 : a,10,20,30\n"
     ]
    }
   ],
   "source": [
    "#키보드에서 이름 성적을 입력받아 파일에 저장\n",
    "with open(\"test.txt\", \"w\") as file:\n",
    "    name = input(\"이름 성정 입력 : \")\n",
    "    file.write(name)"
   ]
  },
  {
   "cell_type": "code",
   "execution_count": 54,
   "id": "a60cedef",
   "metadata": {},
   "outputs": [
    {
     "name": "stdout",
     "output_type": "stream",
     "text": [
      "cd : 70\n",
      "\n"
     ]
    }
   ],
   "source": [
    "with open(\"score.txt\",\"r\") as file:\n",
    "    for line in file:\n",
    "        name, score = line.split(',')\n",
    "        print(name,':',score)"
   ]
  },
  {
   "cell_type": "code",
   "execution_count": 55,
   "id": "ba6e59d9",
   "metadata": {},
   "outputs": [
    {
     "name": "stdout",
     "output_type": "stream",
     "text": [
      "이름 성적 입력 : abc 88\n",
      "cd : 70\n",
      "\n",
      "abc : 88\n",
      "\n"
     ]
    }
   ],
   "source": [
    "file=open(\"score.txt\",\"a+\") #a+를 입력해야 파일이 추가됨\n",
    "name,score=input(\"이름 성적 입력 : \").split()\n",
    "file.write(name+','+score+'\\n')\n",
    "\n",
    "file.seek(0,0) #파일의 처음 위치로 이동\n",
    "for line in file:\n",
    "    name, score=line.split(',')\n",
    "    print(name,':',score)\n",
    "file.close()"
   ]
  },
  {
   "cell_type": "code",
   "execution_count": 117,
   "id": "6e5ee1ce",
   "metadata": {},
   "outputs": [],
   "source": [
    "#이름, 국어, 영어, 수학 성적을 입력받아 파일 저장한 후 (file_write())\n",
    "#검색할 이름을 입력받아 파일에서 데이터 검색 (file_search())\n",
    "#검색한 이름과 성적 출력\n",
    "#전체 학생의 인원수와 총점 평균을ㄹ 구함 (file_total())\n",
    "\n",
    "def file_write(file):\n",
    "    while True:\n",
    "        name=input(\"이름 : \")\n",
    "        if name=='q':\n",
    "            print(\"입력 종료\")\n",
    "            break\n",
    "\n",
    "            \n",
    "        score=','.join(input(\"국어 영어 수학 점수 : \").split())\n",
    "        #score=list(map(int,score))\n",
    "        file.write(name+','+score+\"\\n\")\n",
    "               \n",
    "\n",
    "def file_search(file):\n",
    "    search=input(\"검색할 이름 : \")\n",
    "    file.seek(0,0)\n",
    "    for i in file:\n",
    "        f_data=i.split(',')\n",
    "        if f_data[0]==search:\n",
    "            return f_data\n",
    "    return None\n",
    "\n",
    "def file_total(file):\n",
    "    total=0\n",
    "    count=0\n",
    "    file.seek(0,0)\n",
    "    for line in file:\n",
    "        count+=1\n",
    "        f_data=line.split(',')\n",
    "        f_score=list(map(int,[x for x in f_data[1:]])) # 이 형태로만 리스트로 뽑아낼 수 있다\n",
    "        total+=sum(f_score)\n",
    "    return total, count"
   ]
  },
  {
   "cell_type": "code",
   "execution_count": 101,
   "id": "400edae6",
   "metadata": {},
   "outputs": [
    {
     "name": "stdout",
     "output_type": "stream",
     "text": [
      "이름 : fg\n",
      "국어 영어 수학 점수 : 45 87 99\n",
      "이름 : q\n",
      "입력 종료\n"
     ]
    }
   ],
   "source": [
    "file =open(\"score.txt\",\"a+\")\n",
    "file_write(file)"
   ]
  },
  {
   "cell_type": "code",
   "execution_count": 115,
   "id": "ff364fe8",
   "metadata": {},
   "outputs": [
    {
     "name": "stdout",
     "output_type": "stream",
     "text": [
      "검색할 이름 : fg\n",
      "fg의 성적은 45, 87, 99\n",
      "\n",
      "총 인원수 : 3\t 총점 : 433.00, 평균 :48.11\n"
     ]
    }
   ],
   "source": [
    "name_search=file_search(file)\n",
    "if name:\n",
    "    print(\"{}의 성적은 {}, {}, {}\".format(name_search[0],name_search[1],name_search[2],name_search[3]))\n",
    "else:\n",
    "    print('검색된 자료 없음')\n",
    "\n",
    "total, count = file_total(file)\n",
    "print(\"총 인원수 : {}\\t 총점 : {:5.2f}, 평균 :{:5.2f}\".format(count,total,total/3/count))"
   ]
  },
  {
   "cell_type": "code",
   "execution_count": 124,
   "id": "8aaaff66",
   "metadata": {},
   "outputs": [
    {
     "name": "stdout",
     "output_type": "stream",
     "text": [
      "first call function\n",
      "second call function\n",
      "함수 호출 !!\n",
      "test\n",
      "next\n",
      "함수 호출 22\n",
      "222\n"
     ]
    }
   ],
   "source": [
    "# 제너레이터 함수 실행 : next(함수명), 함수 내부에 return 대신 yield 사용\n",
    "def test():\n",
    "    print(\"함수 호출 !!\")\n",
    "    yield \"test\"\n",
    "    \n",
    "    print(\"함수 호출 22\")\n",
    "    yield \"222\"\n",
    "    \n",
    "#함수호출\n",
    "print(\"first call function\")\n",
    "test()\n",
    "\n",
    "print(\"second call function\")\n",
    "test()\n",
    "\n",
    "#제너레이터는 디버깅용으로 사용\n",
    "a=test()\n",
    "c=next(a)\n",
    "print(c)\n",
    "\n",
    "print(\"next\")\n",
    "\n",
    "d=next(a)\n",
    "print(d)"
   ]
  },
  {
   "cell_type": "code",
   "execution_count": 126,
   "id": "e5d1e9d3",
   "metadata": {},
   "outputs": [
    {
     "name": "stdout",
     "output_type": "stream",
     "text": [
      "홀수만 출력\n",
      "[1, 3, 5, 7, 9]\n",
      "3이상 7미만 자료만 출력\n",
      "[3, 4, 5, 6]\n",
      "제곱해서 50미만 자료만 출력\n",
      "[1, 2, 3, 4, 5, 6, 7]\n"
     ]
    }
   ],
   "source": [
    "#269p 연습문제2\n",
    "numbers=list(range(1,10+1))\n",
    "print(\"홀수만 출력\")\n",
    "print(list(filter(lambda x:x%2,numbers)))\n",
    "\n",
    "print(\"3이상 7미만 자료만 출력\")\n",
    "print(list(filter(lambda x:3<=x<7,numbers)))\n",
    "\n",
    "print(\"제곱해서 50미만 자료만 출력\")\n",
    "print(list(filter(lambda x:x*x<50,numbers)))"
   ]
  },
  {
   "cell_type": "code",
   "execution_count": 129,
   "id": "4c61ec0d",
   "metadata": {},
   "outputs": [
    {
     "name": "stdout",
     "output_type": "stream",
     "text": [
      "정수 입력 :s\n"
     ]
    }
   ],
   "source": [
    "#예외상황 발생시 처리\n",
    "try:\n",
    "    input_number=int(input(\"정수 입력 :\"))\n",
    "    print(\"원의 반지름 : \",input_number)\n",
    "    print(\"원의 둘레 : \",input_number*3.14*2)\n",
    "    print(\"원의 넒이 : \",input_number*input_number*3.14)\n",
    "# except:\n",
    "#     print(\"입력 오류\")\n",
    "except:\n",
    "    pass"
   ]
  },
  {
   "cell_type": "code",
   "execution_count": 133,
   "id": "43803cf9",
   "metadata": {},
   "outputs": [
    {
     "name": "stdout",
     "output_type": "stream",
     "text": [
      "['52', '2', '123', '44']\n"
     ]
    }
   ],
   "source": [
    "#try except:pass\n",
    "list_data=['52','2','test','123','44']\n",
    "#숫자만 리스트에 추가\n",
    "list_number=[]\n",
    "for item in list_data:\n",
    "    try:\n",
    "        int(item) #float or int\n",
    "        list_number.append(item)\n",
    "    except:\n",
    "        pass\n",
    "    \n",
    "#     try: #에러 발생 가능 코드구현\n",
    "#         int(item) #float or int\n",
    "        \n",
    "#     except:#에러 발생시 실행하는 코드\n",
    "#         pass #그냥 넘어감\n",
    "#         Exception as e: print(e) #에러를 보여줘라\n",
    "    \n",
    "#     else: #에러가 발생하지 않으면 실행하는 코드\n",
    "#         list_number.append(item)\n",
    "\n",
    "#     finally: #무조건 실행하는 구간이라 에러가 발생하더라도 파일을 닫고 끝내려면 여기에 작성\n",
    "#         print(\"무조건 실행!!\")\n",
    "\n",
    "print(list_number)\n"
   ]
  },
  {
   "cell_type": "code",
   "execution_count": 150,
   "id": "7e8c17bb",
   "metadata": {},
   "outputs": [
    {
     "name": "stdout",
     "output_type": "stream",
     "text": [
      "not readable\n",
      "True\n"
     ]
    }
   ],
   "source": [
    "#try~except~finally\n",
    "try:\n",
    "    file=open(\"info.txt\",\"w\")\n",
    "    file.read()\n",
    "    file.close()\n",
    "except Exception as e:\n",
    "    print(e)\n",
    "finally:\n",
    "    file.close()\n",
    "\n",
    "print(file.closed)"
   ]
  },
  {
   "cell_type": "code",
   "execution_count": 141,
   "id": "6c1245c0",
   "metadata": {},
   "outputs": [
    {
     "name": "stdout",
     "output_type": "stream",
     "text": [
      "test 함수 시작 !!\n",
      "test try start\n",
      "finally 구문\n"
     ]
    }
   ],
   "source": [
    "def test():\n",
    "    print(\"test 함수 시작 !!\")\n",
    "    try:\n",
    "        print(\"test try start\")\n",
    "        return\n",
    "        print(\"try 구문 return 다음 문장\")\n",
    "    except:\n",
    "        print(\"except 구문\")\n",
    "    finally:\n",
    "        print(\"finally 구문\") #위에서 return 되더라도 finally 구문은 무조건 실행\n",
    "    print(\"test 함수 end\")\n",
    "    \n",
    "test()"
   ]
  },
  {
   "cell_type": "code",
   "execution_count": 142,
   "id": "7d68ce1a",
   "metadata": {},
   "outputs": [
    {
     "name": "stdout",
     "output_type": "stream",
     "text": [
      "test 함수 시작 !!\n",
      "test try start\n",
      "finally 구문\n",
      "while end\n"
     ]
    }
   ],
   "source": [
    "while True:\n",
    "    print(\"test 함수 시작 !!\")\n",
    "    try:\n",
    "        print(\"test try start\")\n",
    "        break #break 구문을 만나도 finally는 실행된다\n",
    "        print(\"try 구문 return 다음 문장\")\n",
    "    except:\n",
    "        print(\"except 구문\")\n",
    "    finally:\n",
    "        print(\"finally 구문\")\n",
    "    print(\"test 함수 end\")\n",
    "    \n",
    "print(\"while end\")"
   ]
  },
  {
   "cell_type": "code",
   "execution_count": 7,
   "id": "2b4e5d11",
   "metadata": {},
   "outputs": [
    {
     "name": "stdout",
     "output_type": "stream",
     "text": [
      "정수 입력 : q\n",
      "정수를 입력 : invalid literal for int() with base 10: 'q'\n"
     ]
    }
   ],
   "source": [
    "list_number=[52, 2, 33, 123, 44]\n",
    "#숫자만 리스트에 추가\n",
    "try:\n",
    "    input_num=int(input(\"정수 입력 : \"))\n",
    "    print(\"{}번째 요소 : {}\".format(input_num,list_number[input_num]))\n",
    "except ValueError as ex:\n",
    "    print(\"정수를 입력 :\",ex)\n",
    "except IndexError as ex:\n",
    "    print(\"리스트의 인덱스 범위 오류 :\",ex)\n",
    "except Exception as ex:\n",
    "    print(\"알 수 없는 오류\",ex)"
   ]
  },
  {
   "cell_type": "code",
   "execution_count": 5,
   "id": "f26208f9",
   "metadata": {},
   "outputs": [],
   "source": [
    "#이름 전화번호를 파일에 저장하는 프로그램 작성\n",
    "#파일 이름은 \"dataset/elno.txt\", 기존에 파일이 존재하면 데이터 추가로\n",
    "#전화번호 입력은 숫자 3개를 입력받아 123-456-789 형식으로 저장,\n",
    "#이름과 전화번호는 ' ' 분리해서 저장\n",
    "#저장이 끝나면 파일을 닫고\n",
    "#다시 파일을 open->'r'\n",
    "#파일의 내용을 화면에 출력\n",
    "#-- 홍길동 123-456-7899\n",
    "#try ~ except ~ finally 사용해서 작성\n",
    "\n",
    "def input_open(path,file_name,file_mode):\n",
    "    try:\n",
    "        f_name=path+file_name\n",
    "        file=open(f_name,file_mode)\n",
    "        return file\n",
    "    except Exception as ex: # ./dataset 경로가 없으면 mkdir로 생성\n",
    "        import os #os.getcwd()=현재경로확인 , os.listdir()=현재 경로 파일 확인\n",
    "        os.mkdir(path)\n",
    "        file=open(f_name,file_mode)\n",
    "        return file\n",
    "    \n",
    "\n",
    "def file_write(file):\n",
    "    try:\n",
    "        while True:\n",
    "            name=input(\"이름:\")\n",
    "            if 'q'==name:\n",
    "                break\n",
    "\n",
    "            call='-'.join(input(\"전화번호(123 456 7890):\").split())\n",
    "            file.write(name+\" \"+call+'\\n')\n",
    "    finally:\n",
    "        file.close()\n",
    "\n",
    "def file_read(file):\n",
    "    try:\n",
    "        print(file.read())\n",
    "    finally:\n",
    "        file.close()\n",
    "        \n",
    "            "
   ]
  },
  {
   "cell_type": "code",
   "execution_count": 6,
   "id": "3a647b13",
   "metadata": {},
   "outputs": [
    {
     "name": "stdout",
     "output_type": "stream",
     "text": [
      "이름:a\n",
      "전화번호(123 456 7890):123 1234 1234\n",
      "이름:q\n"
     ]
    },
    {
     "ename": "NameError",
     "evalue": "name 'file' is not defined",
     "output_type": "error",
     "traceback": [
      "\u001b[1;31m---------------------------------------------------------------------------\u001b[0m",
      "\u001b[1;31mNameError\u001b[0m                                 Traceback (most recent call last)",
      "\u001b[1;32m~\\AppData\\Local\\Temp/ipykernel_1384/1348442258.py\u001b[0m in \u001b[0;36m<module>\u001b[1;34m\u001b[0m\n\u001b[0;32m      4\u001b[0m \u001b[1;33m\u001b[0m\u001b[0m\n\u001b[0;32m      5\u001b[0m \u001b[0minput_open\u001b[0m\u001b[1;33m(\u001b[0m\u001b[1;34m\"dataset\"\u001b[0m\u001b[1;33m,\u001b[0m\u001b[1;34m\"/elno.txt\"\u001b[0m\u001b[1;33m,\u001b[0m\u001b[1;34m'r'\u001b[0m\u001b[1;33m)\u001b[0m\u001b[1;33m\u001b[0m\u001b[1;33m\u001b[0m\u001b[0m\n\u001b[1;32m----> 6\u001b[1;33m \u001b[0mfile_read\u001b[0m\u001b[1;33m(\u001b[0m\u001b[0mfile\u001b[0m\u001b[1;33m)\u001b[0m\u001b[1;33m\u001b[0m\u001b[1;33m\u001b[0m\u001b[0m\n\u001b[0m",
      "\u001b[1;31mNameError\u001b[0m: name 'file' is not defined"
     ]
    }
   ],
   "source": [
    "# 읽고 쓰기에 모두 open 설정을 해야함\n",
    "#input_open(\"dataset\",\"/elno.txt\",\"a+\")\n",
    "file_write(input_open('dataset','/elno.txt','a+'))\n",
    "\n",
    "input_open(\"dataset\",\"/elno.txt\",'r')\n",
    "file_read(file)"
   ]
  },
  {
   "cell_type": "code",
   "execution_count": null,
   "id": "b6df9e21",
   "metadata": {},
   "outputs": [],
   "source": []
  }
 ],
 "metadata": {
  "kernelspec": {
   "display_name": "Python 3 (ipykernel)",
   "language": "python",
   "name": "python3"
  },
  "language_info": {
   "codemirror_mode": {
    "name": "ipython",
    "version": 3
   },
   "file_extension": ".py",
   "mimetype": "text/x-python",
   "name": "python",
   "nbconvert_exporter": "python",
   "pygments_lexer": "ipython3",
   "version": "3.9.7"
  }
 },
 "nbformat": 4,
 "nbformat_minor": 5
}
