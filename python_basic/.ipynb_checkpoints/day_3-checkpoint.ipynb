{
 "cells": [
  {
   "cell_type": "code",
   "execution_count": 1,
   "id": "c4b03bc8",
   "metadata": {},
   "outputs": [
    {
     "name": "stdout",
     "output_type": "stream",
     "text": [
      "0=반복변수\n",
      "1=반복변수\n",
      "2=반복변수\n",
      "3=반복변수\n",
      "4=반복변수\n",
      "\n",
      "5=반복변수\n",
      "6=반복변수\n",
      "7=반복변수\n",
      "8=반복변수\n",
      "9=반복변수\n",
      "\n",
      "0=반복변수\n",
      "3=반복변수\n",
      "6=반복변수\n",
      "9=반복변수\n",
      "\n"
     ]
    }
   ],
   "source": [
    "#178p\n",
    "\n",
    "for i in range(5):\n",
    "    print(str(i) + \"=반복변수\")\n",
    "print()\n",
    "\n",
    "for i in range(5,10):\n",
    "    print(str(i) + \"=반복변수\")\n",
    "print()\n",
    "\n",
    "for i in range(0,10,3):\n",
    "    print(str(i) + \"=반복변수\")\n",
    "print()\n"
   ]
  },
  {
   "cell_type": "code",
   "execution_count": null,
   "id": "2e90353a",
   "metadata": {},
   "outputs": [],
   "source": [
    "while True:"
   ]
  },
  {
   "cell_type": "code",
   "execution_count": 4,
   "id": "5e9b354a",
   "metadata": {},
   "outputs": [],
   "source": [
    "list_a=[273,50,40,11,7]"
   ]
  },
  {
   "cell_type": "code",
   "execution_count": 7,
   "id": "03e6be6d",
   "metadata": {},
   "outputs": [
    {
     "name": "stdout",
     "output_type": "stream",
     "text": [
      "0 번째 값 : 273\n",
      "1 번째 값 : 50\n",
      "2 번째 값 : 40\n",
      "3 번째 값 : 11\n",
      "4 번째 값 : 7\n"
     ]
    }
   ],
   "source": [
    "#리스트의 인덱스와 값을 같이 출력(익셔너리의 .items와 같음)\n",
    "for idx, value in enumerate(list_a):\n",
    "    print(\"{} 번째 값 : {}\".format(idx,value))"
   ]
  },
  {
   "cell_type": "code",
   "execution_count": 6,
   "id": "04d0a3d8",
   "metadata": {},
   "outputs": [
    {
     "name": "stdout",
     "output_type": "stream",
     "text": [
      "273\n",
      "50\n",
      "40\n",
      "11\n",
      "7\n"
     ]
    }
   ],
   "source": [
    "i=0\n",
    "while i<len(list_a):\n",
    "    print(list_a[i])\n",
    "    i+=1"
   ]
  },
  {
   "cell_type": "code",
   "execution_count": 11,
   "id": "f8d1b551",
   "metadata": {},
   "outputs": [
    {
     "name": "stdout",
     "output_type": "stream",
     "text": [
      "이름/점수 입력(종료 시 'q') : a 10\n",
      "이름/점수 입력(종료 시 'q') : b 20\n",
      "이름/점수 입력(종료 시 'q') : c 100\n",
      "이름/점수 입력(종료 시 'q') : q\n",
      "검색할 이름 : c\n",
      "c의 성적은 100점\n"
     ]
    }
   ],
   "source": [
    "#이름과 점수를 입력 받아 딕셔너리에 저장\n",
    "#이름에 'q'가 입력되면 종료\n",
    "#검색할 이름을 입력 받아 이름과 점수 출력\n",
    "#이름이 없으면 '자료없음' 출력\n",
    "dic={}\n",
    "while True:\n",
    "    input_score=input(\"이름/점수 입력(종료 시 'q') : \").split()\n",
    "    \n",
    "    if 'q'==input_score[0]:\n",
    "        break;\n",
    "    \n",
    "    dic[input_score[0]]=input_score[1]\n",
    "    \n",
    "\n",
    "search_name=input(\"검색할 이름 : \")\n",
    "if search_name in dic:\n",
    "    print(\"{}의 성적은 {}점\".format(search_name,dic[search_name]))\n",
    "    \n",
    "else:\n",
    "    print(\"없음\")"
   ]
  },
  {
   "cell_type": "code",
   "execution_count": 18,
   "id": "62642cc1",
   "metadata": {},
   "outputs": [
    {
     "name": "stdout",
     "output_type": "stream",
     "text": [
      "계산 식을 입력하시오(Ex. 10 + 20) : q\n"
     ]
    }
   ],
   "source": [
    "#계산식을 입력 받아 계산 결과를 출력하는 시스템\n",
    "#'q'가 입력되면 입력 종료\n",
    "#+ - * / // % 계산 가능\n",
    "\n",
    "while True:\n",
    "    num_list=input(\"계산 식을 입력하시오(Ex. 10 + 20) : \").split()\n",
    "    \n",
    "    if num_list[0]=='q':\n",
    "        break\n",
    "    \n",
    "    num1=int(num_list[0])\n",
    "    num2=int(num_list[2])\n",
    "\n",
    "    \n",
    "    if num_list[1]== '+':\n",
    "        print(\"{} {} {} = {}\".format(num_list[0],num_list[1],num_list[2],num1+num2))\n",
    "    \n",
    "    elif num_list[1]== '-':\n",
    "        print(\"{} {} {} = {}\".format(num_list[0],num_list[1],num_list[2],num1-num2))\n",
    "    \n",
    "    elif num_list[1]== '*':\n",
    "        print(\"{} {} {} = {}\".format(num_list[0],num_list[1],num_list[2],num1*num2))\n",
    "    \n",
    "    elif num_list[1]== '/':\n",
    "        print(\"{} {} {} = {}\".format(num_list[0],num_list[1],num_list[2],num1/num2))\n",
    "    \n",
    "    elif num_list[1]== '//':\n",
    "        print(\"{} {} {} = {}\".format(num_list[0],num_list[1],num_list[2],num1//num2))\n",
    "    \n",
    "    elif num_list[1]== '%':\n",
    "        print(\"{} {} {} = {}\".format(num_list[0],num_list[1],num_list[2],num1%num2))\n",
    "        \n",
    "    else:\n",
    "        print(\"잘못된 수식\")"
   ]
  },
  {
   "cell_type": "code",
   "execution_count": 22,
   "id": "17f5c2dc",
   "metadata": {},
   "outputs": [
    {
     "name": "stdout",
     "output_type": "stream",
     "text": [
      "5초 동안 4661541번 실행\n"
     ]
    },
    {
     "ename": "KeyboardInterrupt",
     "evalue": "",
     "output_type": "error",
     "traceback": [
      "\u001b[1;31m---------------------------------------------------------------------------\u001b[0m",
      "\u001b[1;31mKeyboardInterrupt\u001b[0m                         Traceback (most recent call last)",
      "\u001b[1;32m~\\AppData\\Local\\Temp/ipykernel_3256/2910436250.py\u001b[0m in \u001b[0;36m<module>\u001b[1;34m\u001b[0m\n\u001b[0;32m     10\u001b[0m \u001b[1;33m\u001b[0m\u001b[0m\n\u001b[0;32m     11\u001b[0m \u001b[1;33m\u001b[0m\u001b[0m\n\u001b[1;32m---> 12\u001b[1;33m \u001b[1;32mwhile\u001b[0m \u001b[0mtime\u001b[0m\u001b[1;33m.\u001b[0m\u001b[0mtime\u001b[0m\u001b[1;33m(\u001b[0m\u001b[1;33m)\u001b[0m\u001b[1;33m<\u001b[0m\u001b[0mtime\u001b[0m\u001b[1;33m.\u001b[0m\u001b[0mtime\u001b[0m\u001b[1;33m(\u001b[0m\u001b[1;33m)\u001b[0m\u001b[1;33m+\u001b[0m\u001b[1;36m1\u001b[0m\u001b[1;33m:\u001b[0m\u001b[1;33m\u001b[0m\u001b[1;33m\u001b[0m\u001b[0m\n\u001b[0m\u001b[0;32m     13\u001b[0m     \u001b[0mnumber\u001b[0m\u001b[1;33m+=\u001b[0m\u001b[1;36m1\u001b[0m\u001b[1;33m\u001b[0m\u001b[1;33m\u001b[0m\u001b[0m\n\u001b[0;32m     14\u001b[0m \u001b[0mprint\u001b[0m\u001b[1;33m(\u001b[0m\u001b[1;34m\"5초 동안 {}번 실행\"\u001b[0m\u001b[1;33m.\u001b[0m\u001b[0mformat\u001b[0m\u001b[1;33m(\u001b[0m\u001b[0mnumber\u001b[0m\u001b[1;33m)\u001b[0m\u001b[1;33m)\u001b[0m\u001b[1;33m\u001b[0m\u001b[1;33m\u001b[0m\u001b[0m\n",
      "\u001b[1;31mKeyboardInterrupt\u001b[0m: "
     ]
    }
   ],
   "source": [
    "import time\n",
    "\n",
    "number=0\n",
    "\n",
    "target_t=time.time()+1\n",
    "while time.time()<target_t:\n",
    "    number+=1\n",
    "\n",
    "print(\"1초 동안 {}번 실행\".format(number))\n",
    "\n",
    "\n",
    "# while time.time()<time.time()+1:\n",
    "#     number+=1\n",
    "# print(\"1초 동안 {}번 실행\".format(number))\n",
    "# 왜 안될까?"
   ]
  },
  {
   "cell_type": "code",
   "execution_count": 25,
   "id": "4bdfff64",
   "metadata": {},
   "outputs": [
    {
     "name": "stdout",
     "output_type": "stream",
     "text": [
      "1::2::3::4\n",
      "['1', '2', '3', '4']\n"
     ]
    }
   ],
   "source": [
    "join_list=['1', '2', '3', '4']\n",
    "join_1=\"::\".join(join_list)\n",
    "\n",
    "print(join_1)\n",
    "print(join_1.split(\"::\"))"
   ]
  },
  {
   "cell_type": "code",
   "execution_count": 31,
   "id": "54227621",
   "metadata": {},
   "outputs": [
    {
     "name": "stdout",
     "output_type": "stream",
     "text": [
      "이름 전화번호 입력 : a 123 123 1234\n",
      "이름 전화번호 입력 : b 234 234 2345\n",
      "이름 전화번호 입력 : c 123 345 5678\n",
      "이름 전화번호 입력 : q\n"
     ]
    }
   ],
   "source": [
    "#전화번호부 작성\n",
    "#이름, 전화번호 입력 : 홍길동 123 456 7890\n",
    "#저장은 딕셔너리 형태로 전화번호는 123-456-7890 형태로\n",
    "#이름에 'q'가 입력되면 종료\n",
    "#검색할 이름 입력 시 검색 or '자료 없음'\n",
    "\n",
    "dic={}\n",
    "\n",
    "while True:\n",
    "    input_num=input(\"이름 전화번호 입력 : \").split()\n",
    "    \n",
    "    if 'q'==input_num[0]:\n",
    "        break\n",
    "    \n",
    "    number=\"-\".join(input_num[1:])\n",
    "    #number=\"{}-{}-{}\".format(input_num[1],input_num[2],input_num[3]) join으로 간단하게 사용 가능\n",
    "    dic[input_num[0]]=number"
   ]
  },
  {
   "cell_type": "code",
   "execution_count": 32,
   "id": "29701510",
   "metadata": {},
   "outputs": [
    {
     "name": "stdout",
     "output_type": "stream",
     "text": [
      "검색할 이름 : c\n",
      "123-345-5678\n"
     ]
    }
   ],
   "source": [
    "serch_name=input(\"검색할 이름 : \")\n",
    "if serch_name in dic:\n",
    "    print(dic[serch_name])\n",
    "else:\n",
    "    print(\"자료 업음\")"
   ]
  },
  {
   "cell_type": "code",
   "execution_count": 37,
   "id": "5710cc6a",
   "metadata": {},
   "outputs": [
    {
     "name": "stdout",
     "output_type": "stream",
     "text": [
      "안녕하세요\n",
      "안녕하세요\n",
      "안녕하세요\n",
      "hello\n",
      "hello\n",
      "hello\n",
      "hello\n",
      "hello\n"
     ]
    }
   ],
   "source": [
    "#211p\n",
    "def print_3_times():\n",
    "    print(\"안녕하세요\")\n",
    "    print(\"안녕하세요\")\n",
    "    print(\"안녕하세요\")\n",
    "    \n",
    "print_3_times()\n",
    "\n",
    "#매개변수\n",
    "def print_times(value, n):\n",
    "    for i in range(n):\n",
    "        print(value)\n",
    "        \n",
    "print_times(\"hello\",5)\n"
   ]
  },
  {
   "cell_type": "code",
   "execution_count": null,
   "id": "8fd5eb9c",
   "metadata": {},
   "outputs": [],
   "source": [
    "#계산 프로그램 작성\n",
    "# + - * / 함수로 각각 작성\n",
    "\n",
    "def add(n1, n2):\n",
    "    return(n1+n2)\n",
    "\n",
    "def sub(n1, n2):\n",
    "    return(n1-n2)\n",
    "    \n",
    "def mul(n1, n2):\n",
    "    return(n1*n2)\n",
    "    \n",
    "def div(n1, n2):\n",
    "    return(n1/n2)"
   ]
  },
  {
   "cell_type": "code",
   "execution_count": 47,
   "id": "29e16551",
   "metadata": {},
   "outputs": [
    {
     "name": "stdout",
     "output_type": "stream",
     "text": [
      "계산식 입력(EX. 10 + 5) : 1 + 5\n",
      "6\n"
     ]
    },
    {
     "ename": "KeyboardInterrupt",
     "evalue": "Interrupted by user",
     "output_type": "error",
     "traceback": [
      "\u001b[1;31m---------------------------------------------------------------------------\u001b[0m",
      "\u001b[1;31mKeyboardInterrupt\u001b[0m                         Traceback (most recent call last)",
      "\u001b[1;32m~\\AppData\\Local\\Temp/ipykernel_3256/3651907113.py\u001b[0m in \u001b[0;36m<module>\u001b[1;34m\u001b[0m\n\u001b[0;32m     15\u001b[0m \u001b[1;33m\u001b[0m\u001b[0m\n\u001b[0;32m     16\u001b[0m \u001b[1;32mwhile\u001b[0m \u001b[1;32mTrue\u001b[0m\u001b[1;33m:\u001b[0m\u001b[1;33m\u001b[0m\u001b[1;33m\u001b[0m\u001b[0m\n\u001b[1;32m---> 17\u001b[1;33m     \u001b[0minput_data\u001b[0m\u001b[1;33m=\u001b[0m\u001b[0minput\u001b[0m\u001b[1;33m(\u001b[0m\u001b[1;34m\"계산식 입력(EX. 10 + 5) : \"\u001b[0m\u001b[1;33m)\u001b[0m\u001b[1;33m.\u001b[0m\u001b[0msplit\u001b[0m\u001b[1;33m(\u001b[0m\u001b[1;33m)\u001b[0m\u001b[1;33m\u001b[0m\u001b[1;33m\u001b[0m\u001b[0m\n\u001b[0m\u001b[0;32m     18\u001b[0m \u001b[1;33m\u001b[0m\u001b[0m\n\u001b[0;32m     19\u001b[0m     \u001b[1;32mif\u001b[0m \u001b[1;34m'q'\u001b[0m\u001b[1;33m==\u001b[0m\u001b[0minput_data\u001b[0m\u001b[1;33m[\u001b[0m\u001b[1;36m0\u001b[0m\u001b[1;33m]\u001b[0m\u001b[1;33m:\u001b[0m\u001b[1;33m\u001b[0m\u001b[1;33m\u001b[0m\u001b[0m\n",
      "\u001b[1;32mC:\\ProgramData\\Anaconda3\\lib\\site-packages\\ipykernel\\kernelbase.py\u001b[0m in \u001b[0;36mraw_input\u001b[1;34m(self, prompt)\u001b[0m\n\u001b[0;32m   1004\u001b[0m                 \u001b[1;34m\"raw_input was called, but this frontend does not support input requests.\"\u001b[0m\u001b[1;33m\u001b[0m\u001b[1;33m\u001b[0m\u001b[0m\n\u001b[0;32m   1005\u001b[0m             )\n\u001b[1;32m-> 1006\u001b[1;33m         return self._input_request(\n\u001b[0m\u001b[0;32m   1007\u001b[0m             \u001b[0mstr\u001b[0m\u001b[1;33m(\u001b[0m\u001b[0mprompt\u001b[0m\u001b[1;33m)\u001b[0m\u001b[1;33m,\u001b[0m\u001b[1;33m\u001b[0m\u001b[1;33m\u001b[0m\u001b[0m\n\u001b[0;32m   1008\u001b[0m             \u001b[0mself\u001b[0m\u001b[1;33m.\u001b[0m\u001b[0m_parent_ident\u001b[0m\u001b[1;33m[\u001b[0m\u001b[1;34m\"shell\"\u001b[0m\u001b[1;33m]\u001b[0m\u001b[1;33m,\u001b[0m\u001b[1;33m\u001b[0m\u001b[1;33m\u001b[0m\u001b[0m\n",
      "\u001b[1;32mC:\\ProgramData\\Anaconda3\\lib\\site-packages\\ipykernel\\kernelbase.py\u001b[0m in \u001b[0;36m_input_request\u001b[1;34m(self, prompt, ident, parent, password)\u001b[0m\n\u001b[0;32m   1049\u001b[0m             \u001b[1;32mexcept\u001b[0m \u001b[0mKeyboardInterrupt\u001b[0m\u001b[1;33m:\u001b[0m\u001b[1;33m\u001b[0m\u001b[1;33m\u001b[0m\u001b[0m\n\u001b[0;32m   1050\u001b[0m                 \u001b[1;31m# re-raise KeyboardInterrupt, to truncate traceback\u001b[0m\u001b[1;33m\u001b[0m\u001b[1;33m\u001b[0m\u001b[0m\n\u001b[1;32m-> 1051\u001b[1;33m                 \u001b[1;32mraise\u001b[0m \u001b[0mKeyboardInterrupt\u001b[0m\u001b[1;33m(\u001b[0m\u001b[1;34m\"Interrupted by user\"\u001b[0m\u001b[1;33m)\u001b[0m \u001b[1;32mfrom\u001b[0m \u001b[1;32mNone\u001b[0m\u001b[1;33m\u001b[0m\u001b[1;33m\u001b[0m\u001b[0m\n\u001b[0m\u001b[0;32m   1052\u001b[0m             \u001b[1;32mexcept\u001b[0m \u001b[0mException\u001b[0m\u001b[1;33m:\u001b[0m\u001b[1;33m\u001b[0m\u001b[1;33m\u001b[0m\u001b[0m\n\u001b[0;32m   1053\u001b[0m                 \u001b[0mself\u001b[0m\u001b[1;33m.\u001b[0m\u001b[0mlog\u001b[0m\u001b[1;33m.\u001b[0m\u001b[0mwarning\u001b[0m\u001b[1;33m(\u001b[0m\u001b[1;34m\"Invalid Message:\"\u001b[0m\u001b[1;33m,\u001b[0m \u001b[0mexc_info\u001b[0m\u001b[1;33m=\u001b[0m\u001b[1;32mTrue\u001b[0m\u001b[1;33m)\u001b[0m\u001b[1;33m\u001b[0m\u001b[1;33m\u001b[0m\u001b[0m\n",
      "\u001b[1;31mKeyboardInterrupt\u001b[0m: Interrupted by user"
     ]
    },
    {
     "name": "stdout",
     "output_type": "stream",
     "text": [
      "계산식 입력(EX. 10 + 5) : q\n"
     ]
    }
   ],
   "source": [
    "while True:\n",
    "    input_data=input(\"계산식 입력(EX. 10 + 5) : \").split()\n",
    "\n",
    "    if 'q'==input_data[0]:\n",
    "        print(\"종료\")\n",
    "        break\n",
    "    if len(input_data)!=3 or not input_data[1] in '+-*/':\n",
    "        print(\"수식이 옳지 않음\")\n",
    "        continue\n",
    "\n",
    "    input_n1=int(input_data[0])\n",
    "    input_n2=int(input_data[2])\n",
    "\n",
    "    if '+'==input_data[1]:\n",
    "        print(add(input_n1,input_n2))\n",
    "    elif '-'==input_data[1]:\n",
    "        print(sub(input_n1,input_n2))\n",
    "    elif '*'==input_data[1]:\n",
    "        print(mul(input_n1,input_n2))\n",
    "    elif '/'==input_data[1]:\n",
    "        print(div(input_n1,input_n2))\n",
    "    else:\n",
    "        print(\"수식이 옳지 않음\")\n",
    "\n",
    "#강사님이 딕셔너리로 사용한 것이 가장 깔끔함(딕셔너리로 함수호출 가능)"
   ]
  },
  {
   "cell_type": "code",
   "execution_count": 69,
   "id": "481c89e9",
   "metadata": {},
   "outputs": [],
   "source": [
    "#이름 국어 영어 수학 점수를 입력 받아 딕셔너리에 저장한 후(함수)\n",
    "#각 사람의 합계와 평균 함수\n",
    "#학생 최고, 최저 점수를 가진 학생 이름과 점수\n",
    "#학생 전체의 평균(소수점 2자리), 총 인원수\n",
    "\n",
    "def per_s_a(name, dic, n):\n",
    "    p_sum=[]\n",
    "    p_sum=sum(dic[name])\n",
    "    p_avg=p_sum/n\n",
    "    return p_sum, p_avg"
   ]
  },
  {
   "cell_type": "code",
   "execution_count": 67,
   "id": "41a84da9",
   "metadata": {},
   "outputs": [],
   "source": [
    "def per_m_m(sum1):\n",
    "    return max(sum1), min(sum1)"
   ]
  },
  {
   "cell_type": "code",
   "execution_count": 74,
   "id": "a79b4b86",
   "metadata": {},
   "outputs": [
    {
     "name": "stdout",
     "output_type": "stream",
     "text": [
      "이름 국어 영어 수학 점수 입력 : a 10 20 30\n"
     ]
    },
    {
     "ename": "TypeError",
     "evalue": "int() argument must be a string, a bytes-like object or a number, not 'list'",
     "output_type": "error",
     "traceback": [
      "\u001b[1;31m---------------------------------------------------------------------------\u001b[0m",
      "\u001b[1;31mTypeError\u001b[0m                                 Traceback (most recent call last)",
      "\u001b[1;32m~\\AppData\\Local\\Temp/ipykernel_3256/3772026516.py\u001b[0m in \u001b[0;36m<module>\u001b[1;34m\u001b[0m\n\u001b[0;32m     12\u001b[0m \u001b[1;33m\u001b[0m\u001b[0m\n\u001b[0;32m     13\u001b[0m     \u001b[0mname\u001b[0m\u001b[1;33m.\u001b[0m\u001b[0mappend\u001b[0m\u001b[1;33m(\u001b[0m\u001b[0minput_data\u001b[0m\u001b[1;33m[\u001b[0m\u001b[1;36m0\u001b[0m\u001b[1;33m]\u001b[0m\u001b[1;33m)\u001b[0m\u001b[1;33m\u001b[0m\u001b[1;33m\u001b[0m\u001b[0m\n\u001b[1;32m---> 14\u001b[1;33m     \u001b[0mscore\u001b[0m\u001b[1;33m=\u001b[0m\u001b[0mlist\u001b[0m\u001b[1;33m(\u001b[0m\u001b[0mint\u001b[0m\u001b[1;33m(\u001b[0m\u001b[0minput_data\u001b[0m\u001b[1;33m[\u001b[0m\u001b[1;36m1\u001b[0m\u001b[1;33m:\u001b[0m\u001b[1;36m4\u001b[0m\u001b[1;33m]\u001b[0m\u001b[1;33m)\u001b[0m\u001b[1;33m)\u001b[0m\u001b[1;33m\u001b[0m\u001b[1;33m\u001b[0m\u001b[0m\n\u001b[0m\u001b[0;32m     15\u001b[0m     \u001b[0mdic\u001b[0m\u001b[1;33m[\u001b[0m\u001b[0minput_data\u001b[0m\u001b[1;33m[\u001b[0m\u001b[1;36m0\u001b[0m\u001b[1;33m]\u001b[0m\u001b[1;33m]\u001b[0m\u001b[1;33m=\u001b[0m\u001b[0minput_data\u001b[0m\u001b[1;33m[\u001b[0m\u001b[1;36m1\u001b[0m\u001b[1;33m:\u001b[0m\u001b[1;36m4\u001b[0m\u001b[1;33m]\u001b[0m\u001b[1;33m\u001b[0m\u001b[1;33m\u001b[0m\u001b[0m\n\u001b[0;32m     16\u001b[0m     \u001b[1;31m#p_sum.appand(sum(input_data[1:4]))\u001b[0m\u001b[1;33m\u001b[0m\u001b[1;33m\u001b[0m\u001b[0m\n",
      "\u001b[1;31mTypeError\u001b[0m: int() argument must be a string, a bytes-like object or a number, not 'list'"
     ]
    }
   ],
   "source": [
    "dic={}\n",
    "name=[]\n",
    "score=[]\n",
    "while True:\n",
    "    input_data=input(\"이름 국어 영어 수학 점수 입력 : \").split()\n",
    "    \n",
    "    if 'q'==input_data[0]:\n",
    "        break\n",
    "    \n",
    "    if len(input_data)!=4:\n",
    "        continue\n",
    "    \n",
    "    name.append(input_data[0])\n",
    "    score=list(map(int,score))# 무자열로 입력된 리스트를 정수로 형변한 할 때 유용(기존에는 for문을 통해 하나씩 형변환 해야함)\n",
    "    dic[input_data[0]]=input_data[1:4]\n",
    "    #p_sum.appand(sum(input_data[1:4]))\n",
    "    \n",
    "print(per_s_a(name,dic,len(name)))"
   ]
  },
  {
   "cell_type": "code",
   "execution_count": 75,
   "id": "411e3d47",
   "metadata": {},
   "outputs": [
    {
     "name": "stdout",
     "output_type": "stream",
     "text": [
      "{'name': '기사', 'hp': 200, 'mp': 30, 'level': 5}\n"
     ]
    }
   ],
   "source": [
    "#188p, 189p\n",
    "#2번 문제\n",
    "key_list=[\"name\",\"hp\",\"mp\",\"level\"]\n",
    "value_list=[\"기사\",200,30,5]\n",
    "character={}\n",
    "check=0\n",
    "for key in key_list:\n",
    "    character[key]=value_list[check]\n",
    "    check+=1\n",
    "\n",
    "print(character)"
   ]
  },
  {
   "cell_type": "code",
   "execution_count": 87,
   "id": "edde9f8c",
   "metadata": {},
   "outputs": [
    {
     "name": "stdout",
     "output_type": "stream",
     "text": [
      "45번을 더할 때 1000을 넘으며 그때의 값은 1035 입니다.\n"
     ]
    }
   ],
   "source": [
    "#3번문제\n",
    "limit=1000\n",
    "i=1\n",
    "sum_value=0\n",
    "for i in range(1000):\n",
    "    if sum_value<1000:\n",
    "        sum_value+=i\n",
    "    \n",
    "    else:\n",
    "        break\n",
    "print(\"{}번을 더할 때 {}을 넘으며 그때의 값은 {} 입니다.\".format(i-1,limit,sum_value))"
   ]
  },
  {
   "cell_type": "code",
   "execution_count": 96,
   "id": "f162246b",
   "metadata": {},
   "outputs": [
    {
     "name": "stdout",
     "output_type": "stream",
     "text": [
      "최대가 되는 경우 : 50 * 50 = 2500\n"
     ]
    }
   ],
   "source": [
    "max_value=0\n",
    "a=0\n",
    "b=0\n",
    "\n",
    "for i in range(1,100):\n",
    "    j=100-i\n",
    "    \n",
    "    if max_value<i*j:\n",
    "        a=i\n",
    "        b=j\n",
    "        max_value=i*j\n",
    "\n",
    "print(\"최대가 되는 경우 : {} * {} = {}\".format(a,b,max_value))"
   ]
  }
 ],
 "metadata": {
  "kernelspec": {
   "display_name": "Python 3 (ipykernel)",
   "language": "python",
   "name": "python3"
  },
  "language_info": {
   "codemirror_mode": {
    "name": "ipython",
    "version": 3
   },
   "file_extension": ".py",
   "mimetype": "text/x-python",
   "name": "python",
   "nbconvert_exporter": "python",
   "pygments_lexer": "ipython3",
   "version": "3.9.7"
  }
 },
 "nbformat": 4,
 "nbformat_minor": 5
}
