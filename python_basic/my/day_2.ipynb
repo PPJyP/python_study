{
 "cells": [
  {
   "cell_type": "code",
   "execution_count": 5,
   "id": "06c9922a",
   "metadata": {},
   "outputs": [
    {
     "name": "stdout",
     "output_type": "stream",
     "text": [
      "True\n",
      "False\n",
      "True\n",
      "False\n",
      "True\n",
      "True\n",
      "True\n"
     ]
    }
   ],
   "source": [
    "print(100==100)\n",
    "print(100<10)\n",
    "print(100>10)\n",
    "print(100<=10)\n",
    "print(100>=10)\n",
    "print(100!=10)\n",
    "print(not 100<10) # 결과의 반대"
   ]
  },
  {
   "cell_type": "code",
   "execution_count": 7,
   "id": "7c28db79",
   "metadata": {},
   "outputs": [
    {
     "name": "stdout",
     "output_type": "stream",
     "text": [
      "False\n"
     ]
    }
   ],
   "source": [
    "print('가방'=='하마') # 글자 우선순위 비교해서 결과값 도출"
   ]
  },
  {
   "cell_type": "code",
   "execution_count": 9,
   "id": "d7971129",
   "metadata": {},
   "outputs": [
    {
     "name": "stdout",
     "output_type": "stream",
     "text": [
      "True\n"
     ]
    }
   ],
   "source": [
    "x=10\n",
    "print(5<x<20) # 타 언어는 print(5<x && x<20) and연산자를 활용해야 함"
   ]
  },
  {
   "cell_type": "code",
   "execution_count": 13,
   "id": "ffed20e3",
   "metadata": {},
   "outputs": [
    {
     "name": "stdout",
     "output_type": "stream",
     "text": [
      "정수 입력 > 1\n",
      "양수입니다.\n"
     ]
    }
   ],
   "source": [
    "num=int(input(\"정수 입력 > \"))\n",
    "if num==0:\n",
    "    print(\"0입니다.\")\n",
    "if num<0:\n",
    "    print(\"음수입니다.\")\n",
    "if num>0:\n",
    "    print(\"양수입니다.\")\n",
    "    "
   ]
  },
  {
   "cell_type": "code",
   "execution_count": 15,
   "id": "cde76cfc",
   "metadata": {},
   "outputs": [
    {
     "name": "stdout",
     "output_type": "stream",
     "text": [
      "정수 입력 > 9\n",
      "홀수입니다.\n"
     ]
    }
   ],
   "source": [
    "num1=int(input(\"정수 입력 > \"))\n",
    "if num1%2==0:\n",
    "    print(\"짝수입니다.\")\n",
    "if num1%2==1:\n",
    "    print(\"홀수입니다.\")"
   ]
  },
  {
   "cell_type": "code",
   "execution_count": 18,
   "id": "3c3f4ed5",
   "metadata": {},
   "outputs": [
    {
     "name": "stdout",
     "output_type": "stream",
     "text": [
      "2021 4\n",
      "오전\n",
      "겨울\n"
     ]
    }
   ],
   "source": [
    "import datetime\n",
    "\n",
    "now=datetime.datetime.now()\n",
    "\n",
    "print(now.year,now.weekday())\n",
    "\n",
    "\n",
    "#오전, 오후d\n",
    "if now.hour<12:\n",
    "    print(\"오전\")\n",
    "if now.hour>=12:\n",
    "    print(\"오후\")\n",
    "    \n",
    "#4계절 구분\n",
    "if 3<=now.month<=5:\n",
    "    print(\"봄\")\n",
    "if 6<=now.month<=8:\n",
    "    print(\"여름\")\n",
    "if 9<=now.month<=11:\n",
    "    print(\"가을\")\n",
    "if 12<=now.month or now.month<=2:\n",
    "    print(\"겨울\")\n",
    "    "
   ]
  },
  {
   "cell_type": "code",
   "execution_count": 21,
   "id": "ffb8f26e",
   "metadata": {},
   "outputs": [
    {
     "name": "stdout",
     "output_type": "stream",
     "text": [
      "정수 입력 > 5\n",
      "홀수입니다.\n"
     ]
    }
   ],
   "source": [
    "num1=int(input(\"정수 입력 > \"))\n",
    "if num1%2==0:\n",
    "    print(\"짝수입니다.\")\n",
    "else:\n",
    "    print(\"홀수입니다.\")"
   ]
  },
  {
   "cell_type": "code",
   "execution_count": 38,
   "id": "03b4901a",
   "metadata": {},
   "outputs": [
    {
     "name": "stdout",
     "output_type": "stream",
     "text": [
      "계산식 입력 > 2*/\n",
      "계산불가\n"
     ]
    }
   ],
   "source": [
    "# 계산식을 입력받아 처음과 마지막이 숫자가 아니면 계산불가 출력\n",
    "a_list=input(\"계산식 입력 > \")\n",
    "c1=a_list[0]; c2=a_list[1]; c3=a_list[2]\n",
    "    \n",
    "if c1.isdigit() and c3.isdigit():\n",
    "    c1=int(a_list[0])\n",
    "    c3=int(a_list[2])\n",
    "    if c2=='+':\n",
    "        print(\"{} {} {} = {}\".format(c1,c2,c3,c1+c3))\n",
    "    elif c2=='-':\n",
    "        print(\"{} {} {} = {}\".format(c1,c2,c3,c1-c3))\n",
    "    elif c2=='*':\n",
    "        print(\"{} {} {} = {}\".format(c1,c2,c3,c1*c3))\n",
    "    elif c2=='/':\n",
    "        print(\"{} {} {} = {}\".format(c1,c2,c3,c1/c3))\n",
    "    else :\n",
    "        print(\"계산불가\")\n",
    "else :\n",
    "    print(\"계산불가\")\n",
    "    \n",
    "# if문은 무조건 내용이 있어야 하므로 나중에 구현할 예정이면 pass를 쓸 것\n",
    "# 또는 raise로 경고 문구를 띄워서 확인할 수 있게 해줌\n",
    "if True:\n",
    "    pass\n",
    "else :\n",
    "    raise NotImplementedError"
   ]
  },
  {
   "cell_type": "code",
   "execution_count": 42,
   "id": "b990572f",
   "metadata": {},
   "outputs": [
    {
     "name": "stdout",
     "output_type": "stream",
     "text": [
      "[1, 2, 3, 4, 5, 6]\n",
      "[1, 2, 3, 4, 5, 6]\n"
     ]
    }
   ],
   "source": [
    "list_a=[1,2,3]\n",
    "list_b=[4,5,6]\n",
    "print(list_a+list_b)\n",
    "\n",
    "#list_a.append(list_b)\n",
    "#print(list_a) # 결과 값 : [1, 2, 3, [4, 5, 6]]  >>  list_a에 list_b의 리스트가 삽입\n",
    "\n",
    "list_a.extend(list_b)\n",
    "print(list_a) # 결과 값 : [1, 2, 3, 4, 5, 6] >> list_b의 요소가 list_a 요소로 삽입"
   ]
  },
  {
   "cell_type": "code",
   "execution_count": 44,
   "id": "f1677d5a",
   "metadata": {},
   "outputs": [
    {
     "name": "stdout",
     "output_type": "stream",
     "text": [
      "a\n",
      "a\n"
     ]
    }
   ],
   "source": [
    "testa='a'\n",
    "testb='b'\n",
    "testc=testa\n",
    "print(testc)\n",
    "testc='d'\n",
    "print(testa)"
   ]
  },
  {
   "cell_type": "markdown",
   "id": "7f515c85",
   "metadata": {},
   "source": [
    "배열(list) 복사는 주소를 복사하게됨\n",
    "list_a=list_b >> list_a는 list_b의 주소를 가지고있음(list_a가 변하면 list_b도 변함)\n",
    "\n",
    "그래서 list_a=list_b.copy() 문법으로 복사해줘야 원본을 유지 가능함"
   ]
  },
  {
   "cell_type": "code",
   "execution_count": 54,
   "id": "0c72367a",
   "metadata": {},
   "outputs": [
    {
     "name": "stdout",
     "output_type": "stream",
     "text": [
      "두 정수를 입력 > 15 10\n",
      "75\n"
     ]
    }
   ],
   "source": [
    "#두 수를 입력 받아 사이값 합을 구하시오\n",
    "num=input(\"두 정수를 입력 > \").split()\n",
    "n1=int(num[0])\n",
    "n2=int(num[1])\n",
    "result=0\n",
    "\n",
    "if n1>n2:\n",
    "    for val in range(n2,n1+1):\n",
    "        result+=val\n",
    "else:\n",
    "    for val in range(n1,n2+1):\n",
    "        result+=val\n",
    "\n",
    "print(result)\n"
   ]
  },
  {
   "cell_type": "code",
   "execution_count": 59,
   "id": "8da6a4fb",
   "metadata": {},
   "outputs": [
    {
     "name": "stdout",
     "output_type": "stream",
     "text": [
      "1\n",
      "2\n",
      "3\n",
      "4\n",
      "5\n",
      "6\n",
      "7\n",
      "8\n",
      "9\n"
     ]
    }
   ],
   "source": [
    "#159p 문제4번\n",
    "list_of_list=[[1,2,3],[4,5,6,7],[8,9]]\n",
    "\n",
    "lol_1=len(list_of_list)\n",
    "\n",
    "for i in list_of_list:\n",
    "    for j in i:\n",
    "        print(j)\n",
    "        \n",
    "#개수만큼 알아서 반환?해줌\n"
   ]
  },
  {
   "cell_type": "code",
   "execution_count": 63,
   "id": "6db5052f",
   "metadata": {},
   "outputs": [
    {
     "name": "stdout",
     "output_type": "stream",
     "text": [
      "{'name': '박준영', 'type': '사람'}\n"
     ]
    }
   ],
   "source": [
    "dictionary={\n",
    "    \"name\": \"박준영\",\n",
    "    \"type\": \"사람\"\n",
    "}\n",
    "print(dictionary)"
   ]
  },
  {
   "cell_type": "code",
   "execution_count": 67,
   "id": "332edbcb",
   "metadata": {},
   "outputs": [
    {
     "name": "stdout",
     "output_type": "stream",
     "text": [
      "dict_items([('name', '박준영'), ('type', '사람')])\n",
      "name : 박준영\n",
      "type : 사람\n"
     ]
    }
   ],
   "source": [
    "print(dictionary.items())\n",
    "# items는 key와 value 둘다 가져오기 때문에 for문을 이용하면 변수를 두개 써줌\n",
    "for key, value in dictionary.items():\n",
    "    print(\"{} : {}\".format(key, value))\n"
   ]
  },
  {
   "cell_type": "code",
   "execution_count": 68,
   "id": "9b12a74b",
   "metadata": {},
   "outputs": [],
   "source": [
    "list_a=[]\n",
    "dic_a={}\n",
    "\n",
    "list_a.append(10)\n",
    "dic_a['name']='jhon'\n"
   ]
  },
  {
   "cell_type": "code",
   "execution_count": 70,
   "id": "9a482dba",
   "metadata": {},
   "outputs": [
    {
     "name": "stdout",
     "output_type": "stream",
     "text": [
      "점수 입력 : 10 20 30 40 50\n",
      "총합: 150\n"
     ]
    }
   ],
   "source": [
    "num=input(\"점수 입력 : \").split()\n",
    "result=0\n",
    "for rec in num:\n",
    "    result+=int(rec)\n",
    "print(\"총합:\",result)"
   ]
  },
  {
   "cell_type": "code",
   "execution_count": 82,
   "id": "f9b04ec3",
   "metadata": {},
   "outputs": [
    {
     "name": "stdout",
     "output_type": "stream",
     "text": [
      "이름, 국점수, 영점수, 수점수 입력 >준 10 20 30\n",
      "이름, 국점수, 영점수, 수점수 입력 >영 10 20 30\n",
      "이름, 국점수, 영점수, 수점수 입력 >quit\n",
      "종료\n",
      "{'이름': '영', '국어': 10, '영어': 20, '수학': 30, '합계': 60}\n"
     ]
    }
   ],
   "source": [
    "#이름 국 영 수 점수 입력 후 합계까지 딕셔너리에 추가\n",
    "dic={\n",
    "    \"이름\" : \"\",\n",
    "    \"국어\" : \"\",\n",
    "    \"영어\" : \"\",\n",
    "    \"수학\" : \"\",\n",
    "    \"합계\" : \"\"\n",
    "}\n",
    "\n",
    "while True:\n",
    "    pers=input(\"이름, 국점수, 영점수, 수점수 입력 >\").split()\n",
    "    if 'quit'!=pers[0]:\n",
    "        dic[\"이름\"]= pers[0]\n",
    "        dic[\"국어\"]= int(pers[1])\n",
    "        dic[\"영어\"]= int(pers[2])\n",
    "        dic[\"수학\"]= int(pers[3])\n",
    "        dic[\"합계\"]= int(pers[1])+int(pers[2])+int(pers[3])\n",
    "        \n",
    "    else:\n",
    "        print(\"종료\")\n",
    "        break;\n",
    "print(dic)"
   ]
  },
  {
   "cell_type": "code",
   "execution_count": 83,
   "id": "1fc86a4d",
   "metadata": {},
   "outputs": [
    {
     "name": "stdout",
     "output_type": "stream",
     "text": [
      "이름, 국점수, 영점수, 수점수 입력 >j 10 20 30\n"
     ]
    },
    {
     "ename": "KeyError",
     "evalue": "'이름'",
     "output_type": "error",
     "traceback": [
      "\u001b[1;31m---------------------------------------------------------------------------\u001b[0m",
      "\u001b[1;31mKeyError\u001b[0m                                  Traceback (most recent call last)",
      "\u001b[1;32m~\\AppData\\Local\\Temp/ipykernel_7256/3983889737.py\u001b[0m in \u001b[0;36m<module>\u001b[1;34m\u001b[0m\n\u001b[0;32m      5\u001b[0m     \u001b[0mpers\u001b[0m\u001b[1;33m=\u001b[0m\u001b[0minput\u001b[0m\u001b[1;33m(\u001b[0m\u001b[1;34m\"이름, 국점수, 영점수, 수점수 입력 >\"\u001b[0m\u001b[1;33m)\u001b[0m\u001b[1;33m.\u001b[0m\u001b[0msplit\u001b[0m\u001b[1;33m(\u001b[0m\u001b[1;33m)\u001b[0m\u001b[1;33m\u001b[0m\u001b[1;33m\u001b[0m\u001b[0m\n\u001b[0;32m      6\u001b[0m     \u001b[1;32mif\u001b[0m \u001b[1;34m'quit'\u001b[0m\u001b[1;33m!=\u001b[0m\u001b[0mpers\u001b[0m\u001b[1;33m[\u001b[0m\u001b[1;36m0\u001b[0m\u001b[1;33m]\u001b[0m\u001b[1;33m:\u001b[0m\u001b[1;33m\u001b[0m\u001b[1;33m\u001b[0m\u001b[0m\n\u001b[1;32m----> 7\u001b[1;33m         \u001b[0mdic\u001b[0m\u001b[1;33m[\u001b[0m\u001b[1;34m\"이름\"\u001b[0m\u001b[1;33m]\u001b[0m\u001b[1;33m.\u001b[0m\u001b[0mappend\u001b[0m\u001b[1;33m(\u001b[0m\u001b[0mpers\u001b[0m\u001b[1;33m[\u001b[0m\u001b[1;36m0\u001b[0m\u001b[1;33m]\u001b[0m\u001b[1;33m)\u001b[0m\u001b[1;33m\u001b[0m\u001b[1;33m\u001b[0m\u001b[0m\n\u001b[0m\u001b[0;32m      8\u001b[0m         \u001b[0mdic\u001b[0m\u001b[1;33m[\u001b[0m\u001b[1;34m\"국어\"\u001b[0m\u001b[1;33m]\u001b[0m\u001b[1;33m.\u001b[0m\u001b[0mappend\u001b[0m\u001b[1;33m(\u001b[0m\u001b[0mint\u001b[0m\u001b[1;33m(\u001b[0m\u001b[0mpers\u001b[0m\u001b[1;33m[\u001b[0m\u001b[1;36m1\u001b[0m\u001b[1;33m]\u001b[0m\u001b[1;33m)\u001b[0m\u001b[1;33m)\u001b[0m\u001b[1;33m\u001b[0m\u001b[1;33m\u001b[0m\u001b[0m\n\u001b[0;32m      9\u001b[0m         \u001b[0mdic\u001b[0m\u001b[1;33m[\u001b[0m\u001b[1;34m\"영어\"\u001b[0m\u001b[1;33m]\u001b[0m\u001b[1;33m.\u001b[0m\u001b[0mappend\u001b[0m\u001b[1;33m(\u001b[0m\u001b[0mint\u001b[0m\u001b[1;33m(\u001b[0m\u001b[0mpers\u001b[0m\u001b[1;33m[\u001b[0m\u001b[1;36m2\u001b[0m\u001b[1;33m]\u001b[0m\u001b[1;33m)\u001b[0m\u001b[1;33m)\u001b[0m\u001b[1;33m\u001b[0m\u001b[1;33m\u001b[0m\u001b[0m\n",
      "\u001b[1;31mKeyError\u001b[0m: '이름'"
     ]
    }
   ],
   "source": [
    "#딕셔너리는 개인키(키값)이 필요함 == 데이터베이스 기반?\n",
    "dic={}\n",
    "\n",
    "while True:\n",
    "    pers=input(\"이름, 국점수, 영점수, 수점수 입력 >\").split()\n",
    "    if 'quit'!=pers[0]:\n",
    "        dic[\"이름\"].append(pers[0])\n",
    "        dic[\"국어\"].append(int(pers[1]))\n",
    "        dic[\"영어\"].append(int(pers[2]))\n",
    "        dic[\"수학\"].append(int(pers[3]))\n",
    "        dic[\"합계\"].append(int(pers[1])+int(pers[2])+int(pers[3]))\n",
    "        \n",
    "    else:\n",
    "        print(\"종료\")\n",
    "        break;\n",
    "print(dic)"
   ]
  },
  {
   "cell_type": "code",
   "execution_count": 91,
   "id": "d78159d2",
   "metadata": {},
   "outputs": [
    {
     "name": "stdout",
     "output_type": "stream",
     "text": [
      "{1: 3, 2: 4, 6: 1, 8: 2, 4: 3, 3: 3, 9: 3, 5: 2, 7: 2}\n"
     ]
    }
   ],
   "source": [
    "#172p 문제 3, 4번\n",
    "numbers=[1,2,6,8,4,3,2,1,9,5,4,9,7,2,1,3,5,4,8,9,7,2,3]\n",
    "counter={}\n",
    "\n",
    "num=set(numbers)\n",
    "c=len(num)\n",
    "\n",
    "for number in numbers:\n",
    "    if number in counter:\n",
    "        counter[number] += 1\n",
    "    else:\n",
    "        counter[number]=1\n",
    "print(counter)\n",
    "        "
   ]
  }
 ],
 "metadata": {
  "kernelspec": {
   "display_name": "Python 3 (ipykernel)",
   "language": "python",
   "name": "python3"
  },
  "language_info": {
   "codemirror_mode": {
    "name": "ipython",
    "version": 3
   },
   "file_extension": ".py",
   "mimetype": "text/x-python",
   "name": "python",
   "nbconvert_exporter": "python",
   "pygments_lexer": "ipython3",
   "version": "3.9.7"
  }
 },
 "nbformat": 4,
 "nbformat_minor": 5
}
