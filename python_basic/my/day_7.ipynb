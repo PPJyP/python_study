{
 "cells": [
  {
   "cell_type": "code",
   "execution_count": 1,
   "id": "587dc4cd",
   "metadata": {},
   "outputs": [],
   "source": [
    "class Circle:\n",
    "    def __init__(self, radius):\n",
    "        self.__radius=radius\n",
    "        \n",
    "    def get_area(self):\n",
    "        return self.__radius*self.__radius\n",
    "    \n",
    "    @property\n",
    "    def radius(self):\n",
    "#     def get_radius(self):\n",
    "        return self.__radius\n",
    "    #setter\n",
    "    \n",
    "    @radius.setter\n",
    "    def radius(self, value):\n",
    "#     def set_radius(self,value):\n",
    "        self.__radius=value"
   ]
  },
  {
   "cell_type": "code",
   "execution_count": 3,
   "id": "8f0f00c6",
   "metadata": {},
   "outputs": [
    {
     "name": "stdout",
     "output_type": "stream",
     "text": [
      "circle.radius: 10\n",
      "circle.radius: 100\n"
     ]
    }
   ],
   "source": [
    "circle=Circle(10)\n",
    "print(\"circle.radius:\",circle.radius)\n",
    "circle.radius=100\n",
    "print(\"circle.radius:\", circle.radius)"
   ]
  },
  {
   "cell_type": "code",
   "execution_count": 7,
   "id": "182caf1a",
   "metadata": {},
   "outputs": [
    {
     "name": "stdout",
     "output_type": "stream",
     "text": [
      "Parent 클래스의 init 메서드 호출\n",
      "Child 클래스의 __init()__ 메서드가 호출\n",
      "child 재정의(오버라이드)\n",
      "테스트\n"
     ]
    }
   ],
   "source": [
    "#부모 클래스 상속\n",
    "class Parent:\n",
    "    def __init__(self):\n",
    "        self.value=\"테스트\"\n",
    "        print(\"Parent 클래스의 init 메서드 호출\")\n",
    "    def test(self):\n",
    "        print(\"Parent 클래스의 test() 메서드\")\n",
    "        \n",
    "class Child(Parent):\n",
    "    def __init__(self): #init은 무조건 실행함(print 확인)\n",
    "        Parent.__init__(self)\n",
    "        print(\"Child 클래스의 __init()__ 메서드가 호출\")\n",
    "    def test(self):\n",
    "        print(\"child 재정의(오버라이드)\")\n",
    "        \n",
    "child=Child()\n",
    "child.test()\n",
    "print(child.value)"
   ]
  }
 ],
 "metadata": {
  "kernelspec": {
   "display_name": "Python 3 (ipykernel)",
   "language": "python",
   "name": "python3"
  },
  "language_info": {
   "codemirror_mode": {
    "name": "ipython",
    "version": 3
   },
   "file_extension": ".py",
   "mimetype": "text/x-python",
   "name": "python",
   "nbconvert_exporter": "python",
   "pygments_lexer": "ipython3",
   "version": "3.9.7"
  }
 },
 "nbformat": 4,
 "nbformat_minor": 5
}
