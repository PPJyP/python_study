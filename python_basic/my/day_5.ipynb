{
 "cells": [
  {
   "cell_type": "code",
   "execution_count": 3,
   "id": "d1559952",
   "metadata": {},
   "outputs": [],
   "source": [
    "#표준모듈\n",
    "import math"
   ]
  },
  {
   "cell_type": "code",
   "execution_count": 5,
   "id": "54f396a3",
   "metadata": {},
   "outputs": [
    {
     "data": {
      "text/plain": [
       "5"
      ]
     },
     "execution_count": 5,
     "metadata": {},
     "output_type": "execute_result"
    }
   ],
   "source": [
    "math.cos(10)\n",
    "math.ceil(5.6) # 올림\n",
    "math.floor(5.6) # 버림"
   ]
  },
  {
   "cell_type": "code",
   "execution_count": 6,
   "id": "05dd83f3",
   "metadata": {},
   "outputs": [
    {
     "name": "stdout",
     "output_type": "stream",
     "text": [
      "-0.8390715290764524\n",
      "6\n",
      "5\n"
     ]
    }
   ],
   "source": [
    "from math import ceil, cos, floor #모듈명이 길면 이처럼 일부만 가져와서 사용가능\n",
    "\n",
    "print(cos(10))\n",
    "print(ceil(5.6))\n",
    "print(floor(5.6))"
   ]
  },
  {
   "cell_type": "code",
   "execution_count": 7,
   "id": "6aa53926",
   "metadata": {},
   "outputs": [
    {
     "data": {
      "text/plain": [
       "-0.8390715290764524"
      ]
     },
     "execution_count": 7,
     "metadata": {},
     "output_type": "execute_result"
    }
   ],
   "source": [
    "# as를 사용하여 별명(alias)으로 사용\n",
    "\n",
    "import math as m\n",
    "\n",
    "m.cos(10)"
   ]
  },
  {
   "cell_type": "code",
   "execution_count": 15,
   "id": "7f5b7f9e",
   "metadata": {},
   "outputs": [
    {
     "name": "stdout",
     "output_type": "stream",
     "text": [
      "random 모듈 :\n",
      "random() :  0.6082839078234723\n",
      "random() :  8\n",
      "random() :  [2, 6, 5, 4, 8, 7, 1, 0, 3, 9]\n",
      "random() :  [3, 8]\n"
     ]
    }
   ],
   "source": [
    "\n",
    "import random as r\n",
    "\n",
    "print(\"random 모듈 :\")\n",
    "print(\"random() : \", r.random())\n",
    "\n",
    "# float 리턴은 random.uniform(x,y)\n",
    "# int 리턴은 random.randrange(x,y) or random.randrange(x)\n",
    "\n",
    "\n",
    "# 1~10중 선택 // 아래와 같이 리스트를 작성할 수 있음\n",
    "a_list=list(range(10))\n",
    "print(\"random() : \", r.choice(a_list))\n",
    "\n",
    "#셔플\n",
    "b=r.shuffle(a_list)\n",
    "print(\"random() : \", a_list)\n",
    "\n",
    "#샘플\n",
    "print(\"random() : \", r.sample(a_list,k=2))"
   ]
  },
  {
   "cell_type": "code",
   "execution_count": 17,
   "id": "e74e691f",
   "metadata": {},
   "outputs": [
    {
     "name": "stdout",
     "output_type": "stream",
     "text": [
      "Copyright (c) 2001-2021 Python Software Foundation.\n",
      "All Rights Reserved.\n",
      "\n",
      "Copyright (c) 2000 BeOpen.com.\n",
      "All Rights Reserved.\n",
      "\n",
      "Copyright (c) 1995-2001 Corporation for National Research Initiatives.\n",
      "All Rights Reserved.\n",
      "\n",
      "Copyright (c) 1991-1995 Stichting Mathematisch Centrum, Amsterdam.\n",
      "All Rights Reserved.\n",
      "--구분--\n",
      "3.9.7 (default, Sep 16 2021, 16:59:28) [MSC v.1916 64 bit (AMD64)]\n"
     ]
    }
   ],
   "source": [
    "# sys 모듈\n",
    "import sys\n",
    "\n",
    "print(sys.copyright)\n",
    "print(\"--구분--\")\n",
    "print(sys.version)\n"
   ]
  },
  {
   "cell_type": "code",
   "execution_count": 22,
   "id": "40340cd5",
   "metadata": {},
   "outputs": [
    {
     "name": "stdout",
     "output_type": "stream",
     "text": [
      "현재 os 정보 : nt\n",
      "현재 경로 : C:\\Users\\JYP\\Documents\\python_basic\n",
      "현재 경로 파일 : ['.git', '.ipynb_checkpoints', 'a.txt', 'dataset', 'day_1', 'day_1(1).ipynb', 'day_1.ipynb', 'day_2', 'day_2.ipynb', 'day_3', 'day_3.ipynb', 'day_4', 'day_4.ipynb', 'day_4.py', 'day_5.ipynb', 'info.txt', 'score.txt', 'test.txt', 'Untitled.ipynb']\n"
     ]
    }
   ],
   "source": [
    "# os 모듈\n",
    "import os\n",
    "\n",
    "print(\"현재 os 정보 :\", os.name)\n",
    "print(\"현재 경로 :\", os.getcwd())\n",
    "print(\"현재 경로 파일 :\", os.listdir())"
   ]
  },
  {
   "cell_type": "code",
   "execution_count": 26,
   "id": "4ffb934e",
   "metadata": {},
   "outputs": [
    {
     "data": {
      "text/plain": [
       "['.git',\n",
       " '.ipynb_checkpoints',\n",
       " 'a.txt',\n",
       " 'dataset',\n",
       " 'day_1',\n",
       " 'day_1(1).ipynb',\n",
       " 'day_1.ipynb',\n",
       " 'day_2',\n",
       " 'day_2.ipynb',\n",
       " 'day_3',\n",
       " 'day_3.ipynb',\n",
       " 'day_4',\n",
       " 'day_4.ipynb',\n",
       " 'day_4.py',\n",
       " 'day_5.ipynb',\n",
       " 'info.txt',\n",
       " 'mkdir',\n",
       " 'mkdir test',\n",
       " 'mktest',\n",
       " 'score.txt',\n",
       " 'test.txt',\n",
       " 'Untitled.ipynb']"
      ]
     },
     "execution_count": 26,
     "metadata": {},
     "output_type": "execute_result"
    }
   ],
   "source": [
    "#디렉토리 생성\n",
    "os.mkdir(\"mktest\")\n",
    "os.listdir()"
   ]
  },
  {
   "cell_type": "code",
   "execution_count": 27,
   "id": "85034a0d",
   "metadata": {},
   "outputs": [
    {
     "data": {
      "text/plain": [
       "['.git',\n",
       " '.ipynb_checkpoints',\n",
       " 'a.txt',\n",
       " 'dataset',\n",
       " 'day_1',\n",
       " 'day_1(1).ipynb',\n",
       " 'day_1.ipynb',\n",
       " 'day_2',\n",
       " 'day_2.ipynb',\n",
       " 'day_3',\n",
       " 'day_3.ipynb',\n",
       " 'day_4',\n",
       " 'day_4.ipynb',\n",
       " 'day_4.py',\n",
       " 'day_5.ipynb',\n",
       " 'info.txt',\n",
       " 'mkdir test',\n",
       " 'mktest',\n",
       " 'nemkdir',\n",
       " 'score.txt',\n",
       " 'test.txt',\n",
       " 'Untitled.ipynb']"
      ]
     },
     "execution_count": 27,
     "metadata": {},
     "output_type": "execute_result"
    }
   ],
   "source": [
    "# 파일명 이름 변경\n",
    "os.rename('mkdir','nemkdir')\n",
    "os.listdir()"
   ]
  },
  {
   "cell_type": "code",
   "execution_count": 39,
   "id": "1c90f4b1",
   "metadata": {},
   "outputs": [
    {
     "data": {
      "text/plain": [
       "['.git',\n",
       " '.ipynb_checkpoints',\n",
       " 'a.txt',\n",
       " 'dataset',\n",
       " 'day_1',\n",
       " 'day_1(1).ipynb',\n",
       " 'day_1.ipynb',\n",
       " 'day_2',\n",
       " 'day_2.ipynb',\n",
       " 'day_3',\n",
       " 'day_3.ipynb',\n",
       " 'day_4',\n",
       " 'day_4.ipynb',\n",
       " 'day_4.py',\n",
       " 'day_5.ipynb',\n",
       " 'info.txt',\n",
       " 'score.txt',\n",
       " 'test.txt',\n",
       " 'Untitled.ipynb']"
      ]
     },
     "execution_count": 39,
     "metadata": {},
     "output_type": "execute_result"
    }
   ],
   "source": [
    "# 파일 삭제\n",
    "#os.remove('nemkdir.txt')\n",
    "# 폴더 삭제\n",
    "#os.removedirs('nemkdir')\n",
    "os.listdir()\n"
   ]
  },
  {
   "cell_type": "code",
   "execution_count": 40,
   "id": "1b556cfb",
   "metadata": {},
   "outputs": [
    {
     "name": "stdout",
     "output_type": "stream",
     "text": [
      " C 드라이브의 볼륨에는 이름이 없습니다.\n",
      " 볼륨 일련 번호: F62F-E035\n",
      "\n",
      " C:\\Users\\JYP\\Documents\\python_basic 디렉터리\n",
      "\n",
      "2021-12-29  오전 10:17    <DIR>          .\n",
      "2021-12-29  오전 10:17    <DIR>          ..\n",
      "2021-12-29  오전 09:03    <DIR>          .ipynb_checkpoints\n",
      "2021-12-28  오전 11:12                75 a.txt\n",
      "2021-12-28  오후 05:36    <DIR>          dataset\n",
      "2021-12-23  오후 05:39    <DIR>          day_1\n",
      "2021-12-23  오후 05:06             4,901 day_1(1).ipynb\n",
      "2021-12-23  오후 02:35             7,211 day_1.ipynb\n",
      "2021-12-27  오전 08:26    <DIR>          day_2\n",
      "2021-12-24  오후 06:45            15,010 day_2.ipynb\n",
      "2021-12-27  오후 05:37    <DIR>          day_3\n",
      "2021-12-27  오후 05:48            22,291 day_3.ipynb\n",
      "2021-12-28  오후 08:42    <DIR>          day_4\n",
      "2021-12-28  오후 08:41            24,095 day_4.ipynb\n",
      "2021-12-28  오후 04:44             8,562 day_4.py\n",
      "2021-12-29  오전 10:17             7,592 day_5.ipynb\n",
      "2021-12-28  오후 04:09                 0 info.txt\n",
      "2021-12-28  오후 02:46                39 score.txt\n",
      "2021-12-28  오후 02:13                10 test.txt\n",
      "2021-12-23  오전 11:14                72 Untitled.ipynb\n",
      "              12개 파일              89,858 바이트\n",
      "               8개 디렉터리  72,210,104,320 바이트 남음\n"
     ]
    }
   ],
   "source": [
    "# cmd 명령어도 사용가능\n",
    "!dir"
   ]
  },
  {
   "cell_type": "code",
   "execution_count": null,
   "id": "c87e5f27",
   "metadata": {},
   "outputs": [],
   "source": [
    "# datetime 모듈\n",
    "\n",
    "#datetime.datetime.now()와 .today()는 동일하다"
   ]
  },
  {
   "cell_type": "code",
   "execution_count": 41,
   "id": "5094ad42",
   "metadata": {},
   "outputs": [
    {
     "name": "stdout",
     "output_type": "stream",
     "text": [
      "time start\n",
      "time end\n"
     ]
    }
   ],
   "source": [
    "import time\n",
    "print(\"time start\")\n",
    "time.sleep(3)\n",
    "print(\"time end\")"
   ]
  },
  {
   "cell_type": "code",
   "execution_count": 80,
   "id": "2bcebe53",
   "metadata": {},
   "outputs": [
    {
     "name": "stdout",
     "output_type": "stream",
     "text": [
      "b'<!doctype html><html itemscope=\"\" itemtype=\"http://schema.org/WebPage\" lang=\"ko\"><head><meta content=\"text/html; charset=UTF-8\" http-equiv=\"Content-Type\"><meta content=\"/logos/doodles/2021/seasonal-holidays-2021-6753651837109324-6752733080595605-cst.gif\" itemprop=\"image\"><meta content=\"2021 &#50672;&#47568;&#50672;&#49884;\" property=\"twitter:title\"><meta content=\"&#46384;&#46907;&#54620; &#50672;&#47568; &#48372;&#45236;&#49464;&#50836; #GoogleDoodle\" property=\"twitter:description\"><meta content=\"&#46384;&#46907;&#54620; &#50672;&#47568; &#48372;&#45236;&#49464;&#50836; #GoogleDoodle\" property=\"og:description\"><meta content=\"summary_large_image\" property=\"twitter:card\"><meta content=\"@GoogleDoodles\" property=\"twitter:site\"><meta content=\"https://www.google.com/logos/doodles/2021/seasonal-holidays-2021-6753651837109324-2xa.gif\" property=\"twitter:image\"><meta content=\"https://www.google.com/logos/doodles/2021/seasonal-holidays-2021-6753651837109324-2xa.gif\" property=\"og:image\"><meta content=\"1000\" property=\"og:image:width\"><meta content=\"400\" property=\"og:image:height\"><meta content=\"https://www.google.com/logos/doodles/2021/seasonal-holidays-2021-6753651837109324-2xa.gif\" property=\"og:url\"><meta content=\"video.other\" property=\"og:type\"><title>Google</title><script nonce=\"X28dUgv/djUJmJ5PeNzDCw==\">(function(){window.google={kEI:\\'KyLMYeDQCKGn2roPxfi42AQ\\',kEXPI:\\'0,1302536,56873,6059,206,4804,2316,383,246,5,1353,4014,1237,1122516,1197716,685,380090,16114,19397,9287,17572,4858,1362,9290,3030,17579,4020,978,13228,3847,4192,6430,21822,919,5081,1593,1279,2212,530,149,1103,840,6297,109,3405,606,2023,1777,520,14670,3227,2845,7,5599,6755,5096,8102,8218,908,2,941,15756,3,576,6459,150,13974,4,1528,2304,7039,4683,3315,17075,2658,6701,654,32,13628,2305,2132,16786,2521,3276,2560,4094,17,3121,6,908,3,3541,1,16524,283,913,5991,18443,2,14022,1931,3909,1680,743,5853,8874,531,1058,1160,5678,1021,2381,2718,18297,2,6,4884,2835,4568,3929,1784,542,6720,3781,2,253,7875,4790,1249,13672,3427,3706,2850,66,1417,19,2751,257,1358,495,1109,100,1330,510,2,2,1,1407,102,254,1245,3952,182,8025,1152,216,2,61,621,409,2,1,2748,696,3,1556,744,6,2,389,363,257,233,606,12,444,2,702,116,1,121,320,727,997,1358,1933,440,2029,206,145,113,857,1325,286,2379,2,204,5,298,543,193,95,281,636,2,102,70,503,1925,10,315,808,3195,70,5510012,446,611,1802405,4193852,259,2800438,882,444,1,2,80,1,1796,1,9,2553,1,748,141,795,563,1,4265,1,1,2,1331,4142,2609,155,17,13,72,139,4,2,20,2,169,13,19,46,5,39,96,548,29,2,2,1,2,1,2,2,7,4,1,2,2,2,2,2,2,353,513,186,1,1,158,3,2,2,2,2,2,4,2,3,3,269,1601,106,24,2,4,1,4,64,2,4,40,2,2,2,9,2,2,2,1,23952849,2772894,1268457,338,3,2414,1491,9,1435,159,1358,1128,2,3596,3,2175,288,2006,1052,772884,57316\\',kBL:\\'4JUY\\'};google.sn=\\'webhp\\';google.kHL=\\'ko\\';})();(function(){\\nvar f=this||self;var h,k=[];function l(a){for(var b;a&&(!a.getAttribute||!(b=a.getAttribute(\"eid\")));)a=a.parentNode;return b||h}function m(a){for(var b=null;a&&(!a.getAttribute||!(b=a.getAttribute(\"leid\")));)a=a.parentNode;return b}\\nfunction n(a,b,c,d,g){var e=\"\";c||-1!==b.search(\"&ei=\")||(e=\"&ei=\"+l(d),-1===b.search(\"&lei=\")&&(d=m(d))&&(e+=\"&lei=\"+d));d=\"\";!c&&f._cshid&&-1===b.search(\"&cshid=\")&&\"slh\"!==a&&(d=\"&cshid=\"+f._cshid);c=c||\"/\"+(g||\"gen_204\")+\"?atyp=i&ct=\"+a+\"&cad=\"+b+e+\"&zx=\"+Date.now()+d;/^http:/i.test(c)&&\"https:\"===window.location.protocol&&(google.ml&&google.ml(Error(\"a\"),!1,{src:c,glmm:1}),c=\"\");return c};h=google.kEI;google.getEI=l;google.getLEI=m;google.ml=function(){return null};google.log=function(a,b,c,d,g){if(c=n(a,b,c,d,g)){a=new Image;var e=k.length;k[e]=a;a.onerror=a.onload=a.onabort=function(){delete k[e]};a.src=c}};google.logUrl=n;}).call(this);(function(){\\ngoogle.y={};google.sy=[];google.x=function(a,b){if(a)var c=a.id;else{do c=Math.random();while(google.y[c])}google.y[c]=[a,b];return!1};google.sx=function(a){google.sy.push(a)};google.lm=[];google.plm=function(a){google.lm.push.apply(google.lm,a)};google.lq=[];google.load=function(a,b,c){google.lq.push([[a],b,c])};google.loadAll=function(a,b){google.lq.push([a,b])};google.bx=!1;google.lx=function(){};}).call(this);google.f={};(function(){\\ndocument.documentElement.addEventListener(\"submit\",function(b){var a;if(a=b.target){var c=a.getAttribute(\"data-submitfalse\");a=\"1\"===c||\"q\"===c&&!a.elements.q.value?!0:!1}else a=!1;a&&(b.preventDefault(),b.stopPropagation())},!0);document.documentElement.addEventListener(\"click\",function(b){var a;a:{for(a=b.target;a&&a!==document.documentElement;a=a.parentElement)if(\"A\"===a.tagName){a=\"1\"===a.getAttribute(\"data-nohref\");break a}a=!1}a&&b.preventDefault()},!0);}).call(this);</script><style>#gbar,#guser{font-size:13px;padding-top:1px !important;}#gbar{height:22px}#guser{padding-bottom:7px !important;text-align:right}.gbh,.gbd{border-top:1px solid #c9d7f1;font-size:1px}.gbh{height:0;position:absolute;top:24px;width:100%}@media all{.gb1{height:22px;margin-right:.5em;vertical-align:top}#gbar{float:left}}a.gb1,a.gb4{text-decoration:underline !important}a.gb1,a.gb4{color:#00c !important}.gbi .gb4{color:#dd8e27 !important}.gbf .gb4{color:#900 !important}\\n</style><style>body,td,a,p,.h{font-family:&#44404;&#47548;,&#46027;&#50880;,arial,sans-serif}.ko{font-size:9pt}body{margin:0;overflow-y:scroll}#gog{padding:3px 8px 0}td{line-height:.8em}.gac_m td{line-height:17px}form{margin-bottom:20px}.h{color:#1558d6}em{font-weight:bold;font-style:normal}.lst{height:25px;width:496px}.gsfi,.lst{font:18px arial,sans-serif}.gsfs{font:17px arial,sans-serif}.ds{display:inline-box;display:inline-block;margin:3px 0 4px;margin-left:4px}input{font-family:inherit}body{background:#fff;color:#000}a{color:#4b11a8;text-decoration:none}a:hover,a:active{text-decoration:underline}.fl a{color:#1558d6}a:visited{color:#4b11a8}.sblc{padding-top:5px}.sblc a{display:block;margin:2px 0;margin-left:13px;font-size:11px}.lsbb{background:#f8f9fa;border:solid 1px;border-color:#dadce0 #70757a #70757a #dadce0;height:30px}.lsbb{display:block}#WqQANb a{display:inline-block;margin:0 12px}.lsb{background:url(/images/nav_logo229.png) 0 -261px repeat-x;border:none;color:#000;cursor:pointer;height:30px;margin:0;outline:0;font:15px arial,sans-serif;vertical-align:top}.lsb:active{background:#dadce0}.lst:focus{outline:none}.tiah{width:458px}</style><script nonce=\"X28dUgv/djUJmJ5PeNzDCw==\">(function(){window.google.erd={jsr:1,bv:1493,de:true};\\nvar f=this||self;var g,h,k=null!==(g=f.mei)&&void 0!==g?g:1,l=null!==(h=f.sdo)&&void 0!==h?h:!0,p=0,q,r=google.erd,u=r.jsr;google.ml=function(a,b,d,m,c){c=void 0===c?2:c;b&&(q=a&&a.message);if(google.dl)return google.dl(a,c,d),null;if(0>u){window.console&&console.error(a,d);if(-2===u)throw a;b=!1}else b=!a||!a.message||\"Error loading script\"===a.message||p>=k&&!m?!1:!0;if(!b)return null;p++;d=d||{};var e=c;c=encodeURIComponent;b=\"/gen_204?atyp=i&ei=\"+c(google.kEI);google.kEXPI&&(b+=\"&jexpid=\"+c(google.kEXPI));b+=\"&srcpg=\"+c(google.sn)+\"&jsr=\"+c(r.jsr)+\"&bver=\"+c(r.bv)+(\"&jsel=\"+e);e=a.lineNumber;void 0!==e&&(b+=\"&line=\"+\\ne);var n=a.fileName;n&&(b+=\"&script=\"+c(n),e&&n===window.location.href&&(e=document.documentElement.outerHTML.split(\"\\\\n\")[e],b+=\"&cad=\"+c(e?e.substring(0,300):\"No script found.\")));for(var t in d)b+=\"&\",b+=c(t),b+=\"=\",b+=c(d[t]);b=b+\"&emsg=\"+c(a.name+\": \"+a.message);b=b+\"&jsst=\"+c(a.stack||\"N/A\");12288<=b.length&&(b=b.substr(0,12288));a=b;m||google.log(0,\"\",a);return a};window.onerror=function(a,b,d,m,c){q!==a&&(a=c instanceof Error?c:Error(a),void 0===d||\"lineNumber\"in a||(a.lineNumber=d),void 0===b||\"fileName\"in a||(a.fileName=b),google.ml(a,!1,void 0,!1,\"SyntaxError\"===a.name||\"SyntaxError\"===a.message.substring(0,11)?2:0));q=null;l&&p>=k&&(window.onerror=null)};})();</script></head><body bgcolor=\"#fff\"><script nonce=\"X28dUgv/djUJmJ5PeNzDCw==\">(function(){var src=\\'/images/nav_logo229.png\\';var iesg=false;document.body.onload = function(){window.n && window.n();if (document.images){new Image().src=src;}\\nif (!iesg){document.f&&document.f.q.focus();document.gbqf&&document.gbqf.q.focus();}\\n}\\n})();</script><div id=\"mngb\"><div id=gbar><nobr><b class=gb1>&#44160;&#49353;</b> <a class=gb1 href=\"https://www.google.co.kr/imghp?hl=ko&tab=wi\">&#51060;&#48120;&#51648;</a> <a class=gb1 href=\"https://maps.google.co.kr/maps?hl=ko&tab=wl\">&#51648;&#46020;</a> <a class=gb1 href=\"https://play.google.com/?hl=ko&tab=w8\">Play</a> <a class=gb1 href=\"https://www.youtube.com/?gl=KR&tab=w1\">YouTube</a> <a class=gb1 href=\"https://news.google.com/?tab=wn\">&#45684;&#49828;</a> <a class=gb1 href=\"https://mail.google.com/mail/?tab=wm\">Gmail</a> <a class=gb1 href=\"https://drive.google.com/?tab=wo\">&#46300;&#46972;&#51060;&#48652;</a> <a class=gb1 style=\"text-decoration:none\" href=\"https://www.google.co.kr/intl/ko/about/products?tab=wh\"><u>&#45908;&#48372;&#44592;</u> &raquo;</a></nobr></div><div id=guser width=100%><nobr><span id=gbn class=gbi></span><span id=gbf class=gbf></span><span id=gbe></span><a href=\"http://www.google.co.kr/history/optout?hl=ko\" class=gb4>&#50937; &#44592;&#47197;</a> | <a  href=\"/preferences?hl=ko\" class=gb4>&#49444;&#51221;</a> | <a target=_top id=gb_70 href=\"https://accounts.google.com/ServiceLogin?hl=ko&passive=true&continue=https://www.google.com/&ec=GAZAAQ\" class=gb4>&#47196;&#44536;&#51064;</a></nobr></div><div class=gbh style=left:0></div><div class=gbh style=right:0></div></div><center><br clear=\"all\" id=\"lgpd\"><div id=\"lga\"><img alt=\"2021 &#50672;&#47568;&#50672;&#49884;\" border=\"0\" height=\"200\" src=\"/logos/doodles/2021/seasonal-holidays-2021-6753651837109324-6752733080595605-cst.gif\" title=\"2021 &#50672;&#47568;&#50672;&#49884;\" width=\"500\" id=\"hplogo\"><br></div><form action=\"/search\" name=\"f\"><table cellpadding=\"0\" cellspacing=\"0\"><tr valign=\"top\"><td width=\"25%\">&nbsp;</td><td align=\"center\" nowrap=\"\"><input name=\"ie\" value=\"ISO-8859-1\" type=\"hidden\"><input value=\"ko\" name=\"hl\" type=\"hidden\"><input name=\"source\" type=\"hidden\" value=\"hp\"><input name=\"biw\" type=\"hidden\"><input name=\"bih\" type=\"hidden\"><div class=\"ds\" style=\"height:32px;margin:4px 0\"><div style=\"position:relative;zoom:1\"><input class=\"lst tiah\" style=\"margin:0;padding:5px 8px 0 6px;vertical-align:top;color:#000;padding-right:38px\" autocomplete=\"off\" value=\"\" title=\"Google &#44160;&#49353;\" maxlength=\"2048\" name=\"q\" size=\"57\"><img src=\"/textinputassistant/tia.png\" style=\"position:absolute;cursor:pointer;right:5px;top:4px;z-index:300\" data-script-url=\"/textinputassistant/11/ko_tia.js\" id=\"tsuid1\" alt=\"\" height=\"23\" width=\"27\"><script nonce=\"X28dUgv/djUJmJ5PeNzDCw==\">(function(){var id=\\'tsuid1\\';document.getElementById(id).onclick = function(){var s = document.createElement(\\'script\\');s.src = this.getAttribute(\\'data-script-url\\');(document.getElementById(\\'xjsc\\')||document.body).appendChild(s);};})();</script></div></div><br style=\"line-height:0\"><span class=\"ds\"><span class=\"lsbb\"><input class=\"lsb\" value=\"Google &#44160;&#49353;\" name=\"btnG\" type=\"submit\"></span></span><span class=\"ds\"><span class=\"lsbb\"><input class=\"lsb\" id=\"tsuid2\" value=\"I&#8217;m Feeling Lucky\" name=\"btnI\" type=\"submit\"><script nonce=\"X28dUgv/djUJmJ5PeNzDCw==\">(function(){var id=\\'tsuid2\\';document.getElementById(id).onclick = function(){if (this.form.q.value){this.checked = 1;if (this.form.iflsig)this.form.iflsig.disabled = false;}\\nelse top.location=\\'/doodles/\\';};})();</script><input value=\"ALs-wAMAAAAAYcwwO2mAZv1l1FnjlSFw5_-lfBAmo__g\" name=\"iflsig\" type=\"hidden\"></span></span></td><td class=\"fl sblc\" align=\"left\" nowrap=\"\" width=\"25%\"><a href=\"/advanced_search?hl=ko&amp;authuser=0\">&#44256;&#44553;&#44160;&#49353;</a></td></tr></table><input id=\"gbv\" name=\"gbv\" type=\"hidden\" value=\"1\"><script nonce=\"X28dUgv/djUJmJ5PeNzDCw==\">(function(){\\nvar a,b=\"1\";if(document&&document.getElementById)if(\"undefined\"!=typeof XMLHttpRequest)b=\"2\";else if(\"undefined\"!=typeof ActiveXObject){var c,d,e=[\"MSXML2.XMLHTTP.6.0\",\"MSXML2.XMLHTTP.3.0\",\"MSXML2.XMLHTTP\",\"Microsoft.XMLHTTP\"];for(c=0;d=e[c++];)try{new ActiveXObject(d),b=\"2\"}catch(h){}}a=b;if(\"2\"==a&&-1==location.search.indexOf(\"&gbv=2\")){var f=google.gbvu,g=document.getElementById(\"gbv\");g&&(g.value=a);f&&window.setTimeout(function(){location.href=f},0)};}).call(this);</script></form><div id=\"gac_scont\"></div><div style=\"font-size:83%;min-height:3.5em\"><br></div><span id=\"footer\"><div style=\"font-size:10pt\"><div style=\"margin:19px auto;text-align:center\" id=\"WqQANb\"><a href=\"/intl/ko/ads/\">&#44305;&#44256; &#54532;&#47196;&#44536;&#47016;</a><a href=\"http://www.google.co.kr/intl/ko/services/\">&#48708;&#51592;&#45768;&#49828; &#49556;&#47336;&#49496;</a><a href=\"/intl/ko/about.html\">Google &#51221;&#48372;</a><a href=\"https://www.google.com/setprefdomain?prefdom=KR&amp;prev=https://www.google.co.kr/&amp;sig=K_vmtDptJ1DHlgVrnKDFBtDVOC6S4%3D\">Google.co.kr</a></div></div><p style=\"font-size:8pt;color:#70757a\">&copy; 2021 - <a href=\"/intl/ko/policies/privacy/\">&#44060;&#51064;&#51221;&#48372;&#52376;&#47532;&#48169;&#52840;</a> - <a href=\"/intl/ko/policies/terms/\">&#50557;&#44288;</a></p></span></center><script nonce=\"X28dUgv/djUJmJ5PeNzDCw==\">(function(){window.google.cdo={height:757,width:1440};(function(){\\nvar a=window.innerWidth,b=window.innerHeight;if(!a||!b){var c=window.document,d=\"CSS1Compat\"==c.compatMode?c.documentElement:c.body;a=d.clientWidth;b=d.clientHeight}a&&b&&(a!=google.cdo.width||b!=google.cdo.height)&&google.log(\"\",\"\",\"/client_204?&atyp=i&biw=\"+a+\"&bih=\"+b+\"&ei=\"+google.kEI);}).call(this);})();</script> <script nonce=\"X28dUgv/djUJmJ5PeNzDCw==\">(function(){google.xjs={ck:\\'\\',cs:\\'\\',excm:[]};})();</script>  <script nonce=\"X28dUgv/djUJmJ5PeNzDCw==\">(function(){var u=\\'/xjs/_/js/k\\\\x3dxjs.hp.en.8My0PvgdGIk.O/am\\\\x3dAPAEAEACkA/d\\\\x3d1/ed\\\\x3d1/esmo\\\\x3d1/rs\\\\x3dACT90oGepRzziWU7OPYV1h0N-nkjUkWXMg/m\\\\x3dsb_he,d\\';\\nvar e=this||self,f=function(a){return a};var g;var l=function(a,b){this.g=b===h?a:\"\"};l.prototype.toString=function(){return this.g+\"\"};var h={};\\nfunction m(){var a=u;google.lx=function(){n(a);google.lx=function(){}};google.bx||google.lx()}\\nfunction n(a){google.timers&&google.timers.load&&google.tick&&google.tick(\"load\",\"xjsls\");var b=document;var c=\"SCRIPT\";\"application/xhtml+xml\"===b.contentType&&(c=c.toLowerCase());c=b.createElement(c);if(void 0===g){b=null;var k=e.trustedTypes;if(k&&k.createPolicy){try{b=k.createPolicy(\"goog#html\",{createHTML:f,createScript:f,createScriptURL:f})}catch(p){e.console&&e.console.error(p.message)}g=b}else g=b}a=(b=g)?b.createScriptURL(a):a;a=new l(a,h);c.src=a instanceof l&&a.constructor===l?a.g:\"type_error:TrustedResourceUrl\";var d;a=(c.ownerDocument&&c.ownerDocument.defaultView||window).document;(d=(b=null===(d=a.querySelector)||void 0===d?void 0:d.call(a,\"script[nonce]\"))?b.nonce||b.getAttribute(\"nonce\")||\"\":\"\")&&c.setAttribute(\"nonce\",d);document.body.appendChild(c);google.psa=!0};google.xjsu=u;setTimeout(function(){m()},0);})();function _DumpException(e){throw e;}\\nfunction _F_installCss(c){}\\n(function(){google.jl={attn:false,blt:\\'none\\',chnk:0,dw:false,dwu:true,emtn:0,end:0,ine:false,lls:\\'default\\',pdt:0,rep:0,snet:true,strt:0,ubm:false,uwp:true};})();(function(){var pmc=\\'{\\\\x22d\\\\x22:{},\\\\x22sb_he\\\\x22:{\\\\x22agen\\\\x22:true,\\\\x22cgen\\\\x22:true,\\\\x22client\\\\x22:\\\\x22heirloom-hp\\\\x22,\\\\x22dh\\\\x22:true,\\\\x22dhqt\\\\x22:true,\\\\x22ds\\\\x22:\\\\x22\\\\x22,\\\\x22ffql\\\\x22:\\\\x22ko\\\\x22,\\\\x22fl\\\\x22:true,\\\\x22host\\\\x22:\\\\x22google.com\\\\x22,\\\\x22isbh\\\\x22:28,\\\\x22jsonp\\\\x22:true,\\\\x22msgs\\\\x22:{\\\\x22cibl\\\\x22:\\\\x22&#44160;&#49353;&#50612; &#51648;&#50864;&#44592;\\\\x22,\\\\x22dym\\\\x22:\\\\x22&#51060;&#44163;&#51012; &#52286;&#51004;&#49512;&#45208;&#50836;?\\\\x22,\\\\x22lcky\\\\x22:\\\\x22I&#8217;m Feeling Lucky\\\\x22,\\\\x22lml\\\\x22:\\\\x22&#51088;&#49464;&#55176; &#50508;&#50500;&#48372;&#44592;\\\\x22,\\\\x22oskt\\\\x22:\\\\x22&#51077;&#47141; &#46020;&#44396;\\\\x22,\\\\x22psrc\\\\x22:\\\\x22&#44160;&#49353;&#50612;&#44032; \\\\\\\\u003Ca href\\\\x3d\\\\\\\\\\\\x22/history\\\\\\\\\\\\x22\\\\\\\\u003E&#50937; &#44592;&#47197;\\\\\\\\u003C/a\\\\\\\\u003E&#50640;&#49436; &#49325;&#51228;&#46104;&#50632;&#49845;&#45768;&#45796;.\\\\x22,\\\\x22psrl\\\\x22:\\\\x22&#49325;&#51228;\\\\x22,\\\\x22sbit\\\\x22:\\\\x22&#51060;&#48120;&#51648;&#47196; &#44160;&#49353;\\\\x22,\\\\x22srch\\\\x22:\\\\x22Google &#44160;&#49353;\\\\x22},\\\\x22ovr\\\\x22:{},\\\\x22pq\\\\x22:\\\\x22\\\\x22,\\\\x22refpd\\\\x22:true,\\\\x22refspre\\\\x22:true,\\\\x22rfs\\\\x22:[],\\\\x22sbas\\\\x22:\\\\x220 3px 8px 0 rgba(0,0,0,0.2),0 0 0 1px rgba(0,0,0,0.08)\\\\x22,\\\\x22sbpl\\\\x22:16,\\\\x22sbpr\\\\x22:16,\\\\x22scd\\\\x22:10,\\\\x22stok\\\\x22:\\\\x22l1MM_MVwgBDLVHWh12IXlWyKsgs\\\\x22,\\\\x22uhde\\\\x22:false}}\\';google.pmc=JSON.parse(pmc);})();</script>        </body></html>'\n"
     ]
    }
   ],
   "source": [
    "#url 모듈\n",
    "# 1. open 2. read\n",
    "from urllib import request\n",
    "\n",
    "target=request.urlopen(\"https://www.google.com\")\n",
    "output=target.read()\n",
    "\n",
    "print(output)"
   ]
  },
  {
   "cell_type": "code",
   "execution_count": 81,
   "id": "4afcfe6c",
   "metadata": {},
   "outputs": [],
   "source": [
    "# <html> ~ </html> 로 변환해주는 모듈 : beautifulsoup\n",
    "\n",
    "# beatifulsoup4 설치하는 방법\n",
    "# anaconda cmd 콘솔에서 \"pip install beautifulsoup4\"\n",
    "\n",
    "from bs4 import BeautifulSoup\n",
    "\n",
    "target=request.urlopen(\"https://www.google.com\")\n",
    "soup=BeautifulSoup(target)"
   ]
  },
  {
   "cell_type": "code",
   "execution_count": 82,
   "id": "68760daf",
   "metadata": {},
   "outputs": [
    {
     "data": {
      "text/plain": [
       "<!DOCTYPE html>\n",
       "<html itemscope=\"\" itemtype=\"http://schema.org/WebPage\" lang=\"ko\"><head><meta content=\"text/html; charset=utf-8\" http-equiv=\"Content-Type\"/><meta content=\"/logos/doodles/2021/seasonal-holidays-2021-6753651837109324-6752733080595605-cst.gif\" itemprop=\"image\"/><meta content=\"2021 연말연시\" property=\"twitter:title\"/><meta content=\"따뜻한 연말 보내세요 #GoogleDoodle\" property=\"twitter:description\"/><meta content=\"따뜻한 연말 보내세요 #GoogleDoodle\" property=\"og:description\"/><meta content=\"summary_large_image\" property=\"twitter:card\"/><meta content=\"@GoogleDoodles\" property=\"twitter:site\"/><meta content=\"https://www.google.com/logos/doodles/2021/seasonal-holidays-2021-6753651837109324-2xa.gif\" property=\"twitter:image\"/><meta content=\"https://www.google.com/logos/doodles/2021/seasonal-holidays-2021-6753651837109324-2xa.gif\" property=\"og:image\"/><meta content=\"1000\" property=\"og:image:width\"/><meta content=\"400\" property=\"og:image:height\"/><meta content=\"https://www.google.com/logos/doodles/2021/seasonal-holidays-2021-6753651837109324-2xa.gif\" property=\"og:url\"/><meta content=\"video.other\" property=\"og:type\"/><title>Google</title><script nonce=\"XMwtma4BoOQm3UnfR+QmIA==\">(function(){window.google={kEI:'LiLMYdT0Hari2roPts2k4As',kEXPI:'0,18168,184229,10,12,1100117,56873,1710,4349,206,2414,2390,2316,383,246,5,1354,4013,1237,1122516,1197721,380769,16115,17444,11240,17572,4859,1361,9291,3022,17586,4020,978,13228,3847,4192,6431,21823,917,910,4171,1593,1279,2212,530,149,1103,840,6297,3514,606,2023,1777,520,14670,3227,2845,9,4771,7581,5096,16320,908,2,941,6038,9718,3,346,230,6460,148,13975,4,1528,2304,7039,4684,15625,4764,2658,872,5829,654,32,5664,7964,1593,712,2132,16786,2521,3300,2536,992,3102,3138,6,908,3,3541,1,16524,283,912,5994,18441,2,3035,10987,1931,3911,1678,127,617,5852,10463,1160,5679,1021,2380,2719,14886,3410,2,6,7718,2125,2444,2577,3136,539,10504,2,8130,4788,1252,11921,1748,3427,325,276,3106,1538,2794,19,2751,258,1358,494,542,568,99,1329,511,2,2,1,1196,1812,441,3510,183,4173,3018,443,391,1152,216,2,106,189,387,423,2,1,3430,3,1241,167,883,6,2,398,310,439,102,1767,117,1,121,320,348,2,377,535,1819,3651,753,202,148,113,625,5,228,392,932,285,2380,2,17,490,101,441,194,190,174,649,173,2106,2,648,3625,374,5506178,1874,2031,102,344,413,94,104,1802405,4193853,257,2800439,882,444,1,2,80,1,1796,1,9,2553,1,748,141,795,563,1,4265,1,1,2,1331,4142,2609,155,17,13,72,139,4,2,20,2,169,13,19,46,5,39,96,548,29,2,2,1,2,1,2,2,7,4,1,2,2,2,2,2,2,353,513,186,1,1,158,3,2,2,2,2,2,4,2,3,3,269,1601,106,24,2,4,2,3,64,2,4,40,2,2,2,9,2,2,2,1,23952849,2772894,1265680,3,2774,338,3,2414,1491,9,1435,159,1358,1129,1,3590,3,2173,299,1999,25,897,130,772887,57318',kBL:'4JUY'};google.sn='webhp';google.kHL='ko';})();(function(){\n",
       "var f=this||self;var h,k=[];function l(a){for(var b;a&&(!a.getAttribute||!(b=a.getAttribute(\"eid\")));)a=a.parentNode;return b||h}function m(a){for(var b=null;a&&(!a.getAttribute||!(b=a.getAttribute(\"leid\")));)a=a.parentNode;return b}\n",
       "function n(a,b,c,d,g){var e=\"\";c||-1!==b.search(\"&ei=\")||(e=\"&ei=\"+l(d),-1===b.search(\"&lei=\")&&(d=m(d))&&(e+=\"&lei=\"+d));d=\"\";!c&&f._cshid&&-1===b.search(\"&cshid=\")&&\"slh\"!==a&&(d=\"&cshid=\"+f._cshid);c=c||\"/\"+(g||\"gen_204\")+\"?atyp=i&ct=\"+a+\"&cad=\"+b+e+\"&zx=\"+Date.now()+d;/^http:/i.test(c)&&\"https:\"===window.location.protocol&&(google.ml&&google.ml(Error(\"a\"),!1,{src:c,glmm:1}),c=\"\");return c};h=google.kEI;google.getEI=l;google.getLEI=m;google.ml=function(){return null};google.log=function(a,b,c,d,g){if(c=n(a,b,c,d,g)){a=new Image;var e=k.length;k[e]=a;a.onerror=a.onload=a.onabort=function(){delete k[e]};a.src=c}};google.logUrl=n;}).call(this);(function(){\n",
       "google.y={};google.sy=[];google.x=function(a,b){if(a)var c=a.id;else{do c=Math.random();while(google.y[c])}google.y[c]=[a,b];return!1};google.sx=function(a){google.sy.push(a)};google.lm=[];google.plm=function(a){google.lm.push.apply(google.lm,a)};google.lq=[];google.load=function(a,b,c){google.lq.push([[a],b,c])};google.loadAll=function(a,b){google.lq.push([a,b])};google.bx=!1;google.lx=function(){};}).call(this);google.f={};(function(){\n",
       "document.documentElement.addEventListener(\"submit\",function(b){var a;if(a=b.target){var c=a.getAttribute(\"data-submitfalse\");a=\"1\"===c||\"q\"===c&&!a.elements.q.value?!0:!1}else a=!1;a&&(b.preventDefault(),b.stopPropagation())},!0);document.documentElement.addEventListener(\"click\",function(b){var a;a:{for(a=b.target;a&&a!==document.documentElement;a=a.parentElement)if(\"A\"===a.tagName){a=\"1\"===a.getAttribute(\"data-nohref\");break a}a=!1}a&&b.preventDefault()},!0);}).call(this);</script><style>#gbar,#guser{font-size:13px;padding-top:1px !important;}#gbar{height:22px}#guser{padding-bottom:7px !important;text-align:right}.gbh,.gbd{border-top:1px solid #c9d7f1;font-size:1px}.gbh{height:0;position:absolute;top:24px;width:100%}@media all{.gb1{height:22px;margin-right:.5em;vertical-align:top}#gbar{float:left}}a.gb1,a.gb4{text-decoration:underline !important}a.gb1,a.gb4{color:#00c !important}.gbi .gb4{color:#dd8e27 !important}.gbf .gb4{color:#900 !important}\n",
       "</style><style>body,td,a,p,.h{font-family:&#44404;&#47548;,&#46027;&#50880;,arial,sans-serif}.ko{font-size:9pt}body{margin:0;overflow-y:scroll}#gog{padding:3px 8px 0}td{line-height:.8em}.gac_m td{line-height:17px}form{margin-bottom:20px}.h{color:#1558d6}em{font-weight:bold;font-style:normal}.lst{height:25px;width:496px}.gsfi,.lst{font:18px arial,sans-serif}.gsfs{font:17px arial,sans-serif}.ds{display:inline-box;display:inline-block;margin:3px 0 4px;margin-left:4px}input{font-family:inherit}body{background:#fff;color:#000}a{color:#4b11a8;text-decoration:none}a:hover,a:active{text-decoration:underline}.fl a{color:#1558d6}a:visited{color:#4b11a8}.sblc{padding-top:5px}.sblc a{display:block;margin:2px 0;margin-left:13px;font-size:11px}.lsbb{background:#f8f9fa;border:solid 1px;border-color:#dadce0 #70757a #70757a #dadce0;height:30px}.lsbb{display:block}#WqQANb a{display:inline-block;margin:0 12px}.lsb{background:url(/images/nav_logo229.png) 0 -261px repeat-x;border:none;color:#000;cursor:pointer;height:30px;margin:0;outline:0;font:15px arial,sans-serif;vertical-align:top}.lsb:active{background:#dadce0}.lst:focus{outline:none}.tiah{width:458px}</style><script nonce=\"XMwtma4BoOQm3UnfR+QmIA==\">(function(){window.google.erd={jsr:1,bv:1493,de:true};\n",
       "var f=this||self;var g,h,k=null!==(g=f.mei)&&void 0!==g?g:1,l=null!==(h=f.sdo)&&void 0!==h?h:!0,p=0,q,r=google.erd,u=r.jsr;google.ml=function(a,b,d,m,c){c=void 0===c?2:c;b&&(q=a&&a.message);if(google.dl)return google.dl(a,c,d),null;if(0>u){window.console&&console.error(a,d);if(-2===u)throw a;b=!1}else b=!a||!a.message||\"Error loading script\"===a.message||p>=k&&!m?!1:!0;if(!b)return null;p++;d=d||{};var e=c;c=encodeURIComponent;b=\"/gen_204?atyp=i&ei=\"+c(google.kEI);google.kEXPI&&(b+=\"&jexpid=\"+c(google.kEXPI));b+=\"&srcpg=\"+c(google.sn)+\"&jsr=\"+c(r.jsr)+\"&bver=\"+c(r.bv)+(\"&jsel=\"+e);e=a.lineNumber;void 0!==e&&(b+=\"&line=\"+\n",
       "e);var n=a.fileName;n&&(b+=\"&script=\"+c(n),e&&n===window.location.href&&(e=document.documentElement.outerHTML.split(\"\\n\")[e],b+=\"&cad=\"+c(e?e.substring(0,300):\"No script found.\")));for(var t in d)b+=\"&\",b+=c(t),b+=\"=\",b+=c(d[t]);b=b+\"&emsg=\"+c(a.name+\": \"+a.message);b=b+\"&jsst=\"+c(a.stack||\"N/A\");12288<=b.length&&(b=b.substr(0,12288));a=b;m||google.log(0,\"\",a);return a};window.onerror=function(a,b,d,m,c){q!==a&&(a=c instanceof Error?c:Error(a),void 0===d||\"lineNumber\"in a||(a.lineNumber=d),void 0===b||\"fileName\"in a||(a.fileName=b),google.ml(a,!1,void 0,!1,\"SyntaxError\"===a.name||\"SyntaxError\"===a.message.substring(0,11)?2:0));q=null;l&&p>=k&&(window.onerror=null)};})();</script></head><body bgcolor=\"#fff\"><script nonce=\"XMwtma4BoOQm3UnfR+QmIA==\">(function(){var src='/images/nav_logo229.png';var iesg=false;document.body.onload = function(){window.n && window.n();if (document.images){new Image().src=src;}\n",
       "if (!iesg){document.f&&document.f.q.focus();document.gbqf&&document.gbqf.q.focus();}\n",
       "}\n",
       "})();</script><div id=\"mngb\"><div id=\"gbar\"><nobr><b class=\"gb1\">검색</b> <a class=\"gb1\" href=\"https://www.google.co.kr/imghp?hl=ko&amp;tab=wi\">이미지</a> <a class=\"gb1\" href=\"https://maps.google.co.kr/maps?hl=ko&amp;tab=wl\">지도</a> <a class=\"gb1\" href=\"https://play.google.com/?hl=ko&amp;tab=w8\">Play</a> <a class=\"gb1\" href=\"https://www.youtube.com/?gl=KR&amp;tab=w1\">YouTube</a> <a class=\"gb1\" href=\"https://news.google.com/?tab=wn\">뉴스</a> <a class=\"gb1\" href=\"https://mail.google.com/mail/?tab=wm\">Gmail</a> <a class=\"gb1\" href=\"https://drive.google.com/?tab=wo\">드라이브</a> <a class=\"gb1\" href=\"https://www.google.co.kr/intl/ko/about/products?tab=wh\" style=\"text-decoration:none\"><u>더보기</u> »</a></nobr></div><div id=\"guser\" width=\"100%\"><nobr><span class=\"gbi\" id=\"gbn\"></span><span class=\"gbf\" id=\"gbf\"></span><span id=\"gbe\"></span><a class=\"gb4\" href=\"http://www.google.co.kr/history/optout?hl=ko\">웹 기록</a> | <a class=\"gb4\" href=\"/preferences?hl=ko\">설정</a> | <a class=\"gb4\" href=\"https://accounts.google.com/ServiceLogin?hl=ko&amp;passive=true&amp;continue=https://www.google.com/&amp;ec=GAZAAQ\" id=\"gb_70\" target=\"_top\">로그인</a></nobr></div><div class=\"gbh\" style=\"left:0\"></div><div class=\"gbh\" style=\"right:0\"></div></div><center><br clear=\"all\" id=\"lgpd\"/><div id=\"lga\"><img alt=\"2021 연말연시\" border=\"0\" height=\"200\" id=\"hplogo\" src=\"/logos/doodles/2021/seasonal-holidays-2021-6753651837109324-6752733080595605-cst.gif\" title=\"2021 연말연시\" width=\"500\"/><br/></div><form action=\"/search\" name=\"f\"><table cellpadding=\"0\" cellspacing=\"0\"><tr valign=\"top\"><td width=\"25%\"> </td><td align=\"center\" nowrap=\"\"><input name=\"ie\" type=\"hidden\" value=\"ISO-8859-1\"/><input name=\"hl\" type=\"hidden\" value=\"ko\"/><input name=\"source\" type=\"hidden\" value=\"hp\"/><input name=\"biw\" type=\"hidden\"/><input name=\"bih\" type=\"hidden\"/><div class=\"ds\" style=\"height:32px;margin:4px 0\"><div style=\"position:relative;zoom:1\"><input autocomplete=\"off\" class=\"lst tiah\" maxlength=\"2048\" name=\"q\" size=\"57\" style=\"margin:0;padding:5px 8px 0 6px;vertical-align:top;color:#000;padding-right:38px\" title=\"Google 검색\" value=\"\"/><img alt=\"\" data-script-url=\"/textinputassistant/11/ko_tia.js\" height=\"23\" id=\"tsuid1\" src=\"/textinputassistant/tia.png\" style=\"position:absolute;cursor:pointer;right:5px;top:4px;z-index:300\" width=\"27\"/><script nonce=\"XMwtma4BoOQm3UnfR+QmIA==\">(function(){var id='tsuid1';document.getElementById(id).onclick = function(){var s = document.createElement('script');s.src = this.getAttribute('data-script-url');(document.getElementById('xjsc')||document.body).appendChild(s);};})();</script></div></div><br style=\"line-height:0\"/><span class=\"ds\"><span class=\"lsbb\"><input class=\"lsb\" name=\"btnG\" type=\"submit\" value=\"Google 검색\"/></span></span><span class=\"ds\"><span class=\"lsbb\"><input class=\"lsb\" id=\"tsuid2\" name=\"btnI\" type=\"submit\" value=\"I’m Feeling Lucky\"/><script nonce=\"XMwtma4BoOQm3UnfR+QmIA==\">(function(){var id='tsuid2';document.getElementById(id).onclick = function(){if (this.form.q.value){this.checked = 1;if (this.form.iflsig)this.form.iflsig.disabled = false;}\n",
       "else top.location='/doodles/';};})();</script><input name=\"iflsig\" type=\"hidden\" value=\"ALs-wAMAAAAAYcwwPuU5cl-KlaeHcu2nF9Fs9ouiS1lS\"/></span></span></td><td align=\"left\" class=\"fl sblc\" nowrap=\"\" width=\"25%\"><a href=\"/advanced_search?hl=ko&amp;authuser=0\">고급검색</a></td></tr></table><input id=\"gbv\" name=\"gbv\" type=\"hidden\" value=\"1\"/><script nonce=\"XMwtma4BoOQm3UnfR+QmIA==\">(function(){\n",
       "var a,b=\"1\";if(document&&document.getElementById)if(\"undefined\"!=typeof XMLHttpRequest)b=\"2\";else if(\"undefined\"!=typeof ActiveXObject){var c,d,e=[\"MSXML2.XMLHTTP.6.0\",\"MSXML2.XMLHTTP.3.0\",\"MSXML2.XMLHTTP\",\"Microsoft.XMLHTTP\"];for(c=0;d=e[c++];)try{new ActiveXObject(d),b=\"2\"}catch(h){}}a=b;if(\"2\"==a&&-1==location.search.indexOf(\"&gbv=2\")){var f=google.gbvu,g=document.getElementById(\"gbv\");g&&(g.value=a);f&&window.setTimeout(function(){location.href=f},0)};}).call(this);</script></form><div id=\"gac_scont\"></div><div style=\"font-size:83%;min-height:3.5em\"><br/></div><span id=\"footer\"><div style=\"font-size:10pt\"><div id=\"WqQANb\" style=\"margin:19px auto;text-align:center\"><a href=\"/intl/ko/ads/\">광고 프로그램</a><a href=\"http://www.google.co.kr/intl/ko/services/\">비즈니스 솔루션</a><a href=\"/intl/ko/about.html\">Google 정보</a><a href=\"https://www.google.com/setprefdomain?prefdom=KR&amp;prev=https://www.google.co.kr/&amp;sig=K_7rWTt3Fe629He_6B2c3tJ_sxj4g%3D\">Google.co.kr</a></div></div><p style=\"font-size:8pt;color:#70757a\">© 2021 - <a href=\"/intl/ko/policies/privacy/\">개인정보처리방침</a> - <a href=\"/intl/ko/policies/terms/\">약관</a></p></span></center><script nonce=\"XMwtma4BoOQm3UnfR+QmIA==\">(function(){window.google.cdo={height:757,width:1440};(function(){\n",
       "var a=window.innerWidth,b=window.innerHeight;if(!a||!b){var c=window.document,d=\"CSS1Compat\"==c.compatMode?c.documentElement:c.body;a=d.clientWidth;b=d.clientHeight}a&&b&&(a!=google.cdo.width||b!=google.cdo.height)&&google.log(\"\",\"\",\"/client_204?&atyp=i&biw=\"+a+\"&bih=\"+b+\"&ei=\"+google.kEI);}).call(this);})();</script> <script nonce=\"XMwtma4BoOQm3UnfR+QmIA==\">(function(){google.xjs={ck:'',cs:'',excm:[]};})();</script> <script nonce=\"XMwtma4BoOQm3UnfR+QmIA==\">(function(){var u='/xjs/_/js/k\\x3dxjs.hp.en.8My0PvgdGIk.O/am\\x3dAPAEAEACkA/d\\x3d1/ed\\x3d1/esmo\\x3d1/rs\\x3dACT90oGepRzziWU7OPYV1h0N-nkjUkWXMg/m\\x3dsb_he,d';\n",
       "var e=this||self,f=function(a){return a};var g;var l=function(a,b){this.g=b===h?a:\"\"};l.prototype.toString=function(){return this.g+\"\"};var h={};\n",
       "function m(){var a=u;google.lx=function(){n(a);google.lx=function(){}};google.bx||google.lx()}\n",
       "function n(a){google.timers&&google.timers.load&&google.tick&&google.tick(\"load\",\"xjsls\");var b=document;var c=\"SCRIPT\";\"application/xhtml+xml\"===b.contentType&&(c=c.toLowerCase());c=b.createElement(c);if(void 0===g){b=null;var k=e.trustedTypes;if(k&&k.createPolicy){try{b=k.createPolicy(\"goog#html\",{createHTML:f,createScript:f,createScriptURL:f})}catch(p){e.console&&e.console.error(p.message)}g=b}else g=b}a=(b=g)?b.createScriptURL(a):a;a=new l(a,h);c.src=a instanceof l&&a.constructor===l?a.g:\"type_error:TrustedResourceUrl\";var d;a=(c.ownerDocument&&c.ownerDocument.defaultView||window).document;(d=(b=null===(d=a.querySelector)||void 0===d?void 0:d.call(a,\"script[nonce]\"))?b.nonce||b.getAttribute(\"nonce\")||\"\":\"\")&&c.setAttribute(\"nonce\",d);document.body.appendChild(c);google.psa=!0};google.xjsu=u;setTimeout(function(){m()},0);})();function _DumpException(e){throw e;}\n",
       "function _F_installCss(c){}\n",
       "(function(){google.jl={attn:false,blt:'none',chnk:0,dw:false,dwu:true,emtn:0,end:0,ine:false,lls:'default',pdt:0,rep:0,snet:true,strt:0,ubm:false,uwp:true};})();(function(){var pmc='{\\x22d\\x22:{},\\x22sb_he\\x22:{\\x22agen\\x22:true,\\x22cgen\\x22:true,\\x22client\\x22:\\x22heirloom-hp\\x22,\\x22dh\\x22:true,\\x22dhqt\\x22:true,\\x22ds\\x22:\\x22\\x22,\\x22ffql\\x22:\\x22ko\\x22,\\x22fl\\x22:true,\\x22host\\x22:\\x22google.com\\x22,\\x22isbh\\x22:28,\\x22jsonp\\x22:true,\\x22msgs\\x22:{\\x22cibl\\x22:\\x22&#44160;&#49353;&#50612; &#51648;&#50864;&#44592;\\x22,\\x22dym\\x22:\\x22&#51060;&#44163;&#51012; &#52286;&#51004;&#49512;&#45208;&#50836;?\\x22,\\x22lcky\\x22:\\x22I&#8217;m Feeling Lucky\\x22,\\x22lml\\x22:\\x22&#51088;&#49464;&#55176; &#50508;&#50500;&#48372;&#44592;\\x22,\\x22oskt\\x22:\\x22&#51077;&#47141; &#46020;&#44396;\\x22,\\x22psrc\\x22:\\x22&#44160;&#49353;&#50612;&#44032; \\\\u003Ca href\\x3d\\\\\\x22/history\\\\\\x22\\\\u003E&#50937; &#44592;&#47197;\\\\u003C/a\\\\u003E&#50640;&#49436; &#49325;&#51228;&#46104;&#50632;&#49845;&#45768;&#45796;.\\x22,\\x22psrl\\x22:\\x22&#49325;&#51228;\\x22,\\x22sbit\\x22:\\x22&#51060;&#48120;&#51648;&#47196; &#44160;&#49353;\\x22,\\x22srch\\x22:\\x22Google &#44160;&#49353;\\x22},\\x22ovr\\x22:{},\\x22pq\\x22:\\x22\\x22,\\x22refpd\\x22:true,\\x22refspre\\x22:true,\\x22rfs\\x22:[],\\x22sbas\\x22:\\x220 3px 8px 0 rgba(0,0,0,0.2),0 0 0 1px rgba(0,0,0,0.08)\\x22,\\x22sbpl\\x22:16,\\x22sbpr\\x22:16,\\x22scd\\x22:10,\\x22stok\\x22:\\x22_zRVvxRmbXTJDvZtuIZo9me6MuE\\x22,\\x22uhde\\x22:false}}';google.pmc=JSON.parse(pmc);})();</script> </body></html>"
      ]
     },
     "execution_count": 82,
     "metadata": {},
     "output_type": "execute_result"
    }
   ],
   "source": [
    "soup"
   ]
  },
  {
   "cell_type": "code",
   "execution_count": 61,
   "id": "22396d94",
   "metadata": {},
   "outputs": [
    {
     "data": {
      "text/plain": [
       "'title'"
      ]
     },
     "execution_count": 61,
     "metadata": {},
     "output_type": "execute_result"
    }
   ],
   "source": [
    "# soup.title\n",
    "# <title>The Dormouse's story</title>\n",
    "\n",
    "# soup.title.name\n",
    "# # u'title'\n",
    "\n",
    "# soup.title.string\n",
    "# # u'The Dormouse's story'\n",
    "\n",
    "# soup.title.parent.name\n",
    "# # u'head'\n",
    "\n",
    "# soup.p\n",
    "# # <p class=\"title\"><b>The Dormouse's story</b></p>\n",
    "\n",
    "# #soup.p['class']\n",
    "# # u'title'\n",
    "\n",
    "# soup.a\n",
    "# # <a class=\"sister\" href=\"http://example.com/elsie\" id=\"link1\">Elsie</a>"
   ]
  },
  {
   "cell_type": "code",
   "execution_count": 2,
   "id": "8476fe16",
   "metadata": {},
   "outputs": [],
   "source": [
    "\n",
    "from urllib import request\n",
    "from bs4 import BeautifulSoup\n",
    "\n",
    "target=request.urlopen(\"https://www.weather.go.kr/w/weather/forecast/mid-term.do\")\n",
    "soup=BeautifulSoup(target)"
   ]
  },
  {
   "cell_type": "code",
   "execution_count": 4,
   "id": "2d47b595",
   "metadata": {},
   "outputs": [
    {
     "name": "stdout",
     "output_type": "stream",
     "text": [
      "도시 :  None\n",
      "최고기온 :  None\n",
      "최저기온 :  None\n",
      "도시 :  None\n",
      "최고기온 :  None\n",
      "최저기온 :  None\n",
      "도시 :  None\n",
      "최고기온 :  None\n",
      "최저기온 :  None\n",
      "도시 :  None\n",
      "최고기온 :  None\n",
      "최저기온 :  None\n",
      "도시 :  None\n",
      "최고기온 :  None\n",
      "최저기온 :  None\n",
      "도시 :  None\n",
      "최고기온 :  None\n",
      "최저기온 :  None\n",
      "도시 :  None\n",
      "최고기온 :  None\n",
      "최저기온 :  None\n",
      "도시 :  None\n",
      "최고기온 :  None\n",
      "최저기온 :  None\n",
      "도시 :  None\n",
      "최고기온 :  None\n",
      "최저기온 :  None\n",
      "도시 :  None\n",
      "최고기온 :  None\n",
      "최저기온 :  None\n",
      "도시 :  None\n",
      "최고기온 :  None\n",
      "최저기온 :  None\n",
      "도시 :  None\n",
      "최고기온 :  None\n",
      "최저기온 :  None\n",
      "도시 :  None\n",
      "최고기온 :  None\n",
      "최저기온 :  None\n",
      "도시 :  <td class=\"midterm-city\">서울</td>\n",
      "최고기온 :  <span class=\"tmx\">1</span>\n",
      "최저기온 :  <span class=\"tmn\">-2</span>\n",
      "도시 :  <td class=\"midterm-city\">인천</td>\n",
      "최고기온 :  <span class=\"tmx\">0</span>\n",
      "최저기온 :  <span class=\"tmn\">-1</span>\n",
      "도시 :  <td class=\"midterm-city\">수원</td>\n",
      "최고기온 :  <span class=\"tmx\">2</span>\n",
      "최저기온 :  <span class=\"tmn\">-2</span>\n",
      "도시 :  <td class=\"midterm-city\">파주</td>\n",
      "최고기온 :  <span class=\"tmx\">0</span>\n",
      "최저기온 :  <span class=\"tmn\">-4</span>\n",
      "도시 :  <td class=\"midterm-city\">이천</td>\n",
      "최고기온 :  <span class=\"tmx\">3</span>\n",
      "최저기온 :  <span class=\"tmn\">-4</span>\n",
      "도시 :  <td class=\"midterm-city\">평택</td>\n",
      "최고기온 :  <span class=\"tmx\">2</span>\n",
      "최저기온 :  <span class=\"tmn\">-2</span>\n",
      "도시 :  <td class=\"midterm-city\">춘천</td>\n",
      "최고기온 :  <span class=\"tmx\">3</span>\n",
      "최저기온 :  <span class=\"tmn\">-4</span>\n",
      "도시 :  <td class=\"midterm-city\">원주</td>\n",
      "최고기온 :  <span class=\"tmx\">2</span>\n",
      "최저기온 :  <span class=\"tmn\">-3</span>\n",
      "도시 :  <td class=\"midterm-city\">강릉</td>\n",
      "최고기온 :  <span class=\"tmx\">7</span>\n",
      "최저기온 :  <span class=\"tmn\">1</span>\n",
      "도시 :  <td class=\"midterm-city\">대전</td>\n",
      "최고기온 :  <span class=\"tmx\">5</span>\n",
      "최저기온 :  <span class=\"tmn\">-3</span>\n",
      "도시 :  <td class=\"midterm-city\">세종</td>\n",
      "최고기온 :  <span class=\"tmx\">5</span>\n",
      "최저기온 :  <span class=\"tmn\">-4</span>\n",
      "도시 :  <td class=\"midterm-city\">홍성</td>\n",
      "최고기온 :  <span class=\"tmx\">4</span>\n",
      "최저기온 :  <span class=\"tmn\">-4</span>\n",
      "도시 :  <td class=\"midterm-city\">청주</td>\n",
      "최고기온 :  <span class=\"tmx\">4</span>\n",
      "최저기온 :  <span class=\"tmn\">-2</span>\n",
      "도시 :  <td class=\"midterm-city\">충주</td>\n",
      "최고기온 :  <span class=\"tmx\">3</span>\n",
      "최저기온 :  <span class=\"tmn\">-5</span>\n",
      "도시 :  <td class=\"midterm-city\">영동</td>\n",
      "최고기온 :  <span class=\"tmx\">5</span>\n",
      "최저기온 :  <span class=\"tmn\">-6</span>\n",
      "도시 :  <td class=\"midterm-city\">광주</td>\n",
      "최고기온 :  <span class=\"tmx\">7</span>\n",
      "최저기온 :  <span class=\"tmn\">-1</span>\n",
      "도시 :  <td class=\"midterm-city\">목포</td>\n",
      "최고기온 :  <span class=\"tmx\">7</span>\n",
      "최저기온 :  <span class=\"tmn\">1</span>\n",
      "도시 :  <td class=\"midterm-city\">여수</td>\n",
      "최고기온 :  <span class=\"tmx\">9</span>\n",
      "최저기온 :  <span class=\"tmn\">1</span>\n",
      "도시 :  <td class=\"midterm-city\">순천</td>\n",
      "최고기온 :  <span class=\"tmx\">9</span>\n",
      "최저기온 :  <span class=\"tmn\">-2</span>\n",
      "도시 :  <td class=\"midterm-city\">광양</td>\n",
      "최고기온 :  <span class=\"tmx\">9</span>\n",
      "최저기온 :  <span class=\"tmn\">-1</span>\n",
      "도시 :  <td class=\"midterm-city\">나주</td>\n",
      "최고기온 :  <span class=\"tmx\">7</span>\n",
      "최저기온 :  <span class=\"tmn\">-3</span>\n",
      "도시 :  <td class=\"midterm-city\">전주</td>\n",
      "최고기온 :  <span class=\"tmx\">6</span>\n",
      "최저기온 :  <span class=\"tmn\">-1</span>\n",
      "도시 :  <td class=\"midterm-city\">군산</td>\n",
      "최고기온 :  <span class=\"tmx\">5</span>\n",
      "최저기온 :  <span class=\"tmn\">-2</span>\n",
      "도시 :  <td class=\"midterm-city\">정읍</td>\n",
      "최고기온 :  <span class=\"tmx\">5</span>\n",
      "최저기온 :  <span class=\"tmn\">-2</span>\n",
      "도시 :  <td class=\"midterm-city\">남원</td>\n",
      "최고기온 :  <span class=\"tmx\">6</span>\n",
      "최저기온 :  <span class=\"tmn\">-3</span>\n",
      "도시 :  <td class=\"midterm-city\">고창</td>\n",
      "최고기온 :  <span class=\"tmx\">6</span>\n",
      "최저기온 :  <span class=\"tmn\">-2</span>\n",
      "도시 :  <td class=\"midterm-city\">무주</td>\n",
      "최고기온 :  <span class=\"tmx\">4</span>\n",
      "최저기온 :  <span class=\"tmn\">-4</span>\n",
      "도시 :  <td class=\"midterm-city\">부산</td>\n",
      "최고기온 :  <span class=\"tmx\">10</span>\n",
      "최저기온 :  <span class=\"tmn\">2</span>\n",
      "도시 :  <td class=\"midterm-city\">울산</td>\n",
      "최고기온 :  <span class=\"tmx\">9</span>\n",
      "최저기온 :  <span class=\"tmn\">-1</span>\n",
      "도시 :  <td class=\"midterm-city\">창원</td>\n",
      "최고기온 :  <span class=\"tmx\">9</span>\n",
      "최저기온 :  <span class=\"tmn\">-2</span>\n",
      "도시 :  <td class=\"midterm-city\">진주</td>\n",
      "최고기온 :  <span class=\"tmx\">9</span>\n",
      "최저기온 :  <span class=\"tmn\">-4</span>\n",
      "도시 :  <td class=\"midterm-city\">거창</td>\n",
      "최고기온 :  <span class=\"tmx\">7</span>\n",
      "최저기온 :  <span class=\"tmn\">-5</span>\n",
      "도시 :  <td class=\"midterm-city\">통영</td>\n",
      "최고기온 :  <span class=\"tmx\">10</span>\n",
      "최저기온 :  <span class=\"tmn\">1</span>\n",
      "도시 :  <td class=\"midterm-city\">대구</td>\n",
      "최고기온 :  <span class=\"tmx\">7</span>\n",
      "최저기온 :  <span class=\"tmn\">-3</span>\n",
      "도시 :  <td class=\"midterm-city\">안동</td>\n",
      "최고기온 :  <span class=\"tmx\">6</span>\n",
      "최저기온 :  <span class=\"tmn\">-6</span>\n",
      "도시 :  <td class=\"midterm-city\">포항</td>\n",
      "최고기온 :  <span class=\"tmx\">9</span>\n",
      "최저기온 :  <span class=\"tmn\">0</span>\n",
      "도시 :  <td class=\"midterm-city\">경주</td>\n",
      "최고기온 :  <span class=\"tmx\">8</span>\n",
      "최저기온 :  <span class=\"tmn\">-5</span>\n",
      "도시 :  <td class=\"midterm-city\">울진</td>\n",
      "최고기온 :  <span class=\"tmx\">9</span>\n",
      "최저기온 :  <span class=\"tmn\">-1</span>\n",
      "도시 :  <td class=\"midterm-city\">울릉도</td>\n",
      "최고기온 :  <span class=\"tmx\">7</span>\n",
      "최저기온 :  <span class=\"tmn\">3</span>\n",
      "도시 :  <td class=\"midterm-city\">제주</td>\n",
      "최고기온 :  <span class=\"tmx\">11</span>\n",
      "최저기온 :  <span class=\"tmn\">7</span>\n",
      "도시 :  <td class=\"midterm-city\">서귀포</td>\n",
      "최고기온 :  <span class=\"tmx\">12</span>\n",
      "최저기온 :  <span class=\"tmn\">6</span>\n"
     ]
    }
   ],
   "source": [
    "# for location in soup.select(\"table.table-col\"):\n",
    "#     for td in location.select(\"td.midterm-province\"):\n",
    "#         print(\"도시:\",td.select_one(\"서울\"))\n",
    "#     print(\"!! : \",location.select('서울'))\n",
    "\n",
    "# #             for span in city.select(\"span.tmx\"):\n",
    "# for city in soup.select(\"td.midterm-city\"):\n",
    "for tr in soup.select(\"tr\"):\n",
    "    print(\"도시 : \",tr.select_one(\"td.midterm-city\"))\n",
    "    print(\"최고기온 : \",tr.select_one(\"span.tmx\"))\n",
    "    print(\"최저기온 : \",tr.select_one(\"span.tmn\"))"
   ]
  },
  {
   "cell_type": "code",
   "execution_count": 12,
   "id": "5307bf71",
   "metadata": {},
   "outputs": [
    {
     "name": "stdout",
     "output_type": "stream",
     "text": [
      "도시명 : 서울, 최저기온 :-9, 최대기온 :0\n",
      "도시명 : 인천, 최저기온 :-8, 최대기온 :0\n",
      "도시명 : 수원, 최저기온 :-10, 최대기온 :1\n",
      "도시명 : 파주, 최저기온 :-15, 최대기온 :0\n",
      "도시명 : 이천, 최저기온 :-12, 최대기온 :0\n",
      "도시명 : 평택, 최저기온 :-11, 최대기온 :1\n",
      "도시명 : 춘천, 최저기온 :-14, 최대기온 :0\n",
      "도시명 : 원주, 최저기온 :-12, 최대기온 :0\n",
      "도시명 : 강릉, 최저기온 :-6, 최대기온 :5\n",
      "도시명 : 대전, 최저기온 :-9, 최대기온 :2\n",
      "도시명 : 세종, 최저기온 :-10, 최대기온 :1\n",
      "도시명 : 홍성, 최저기온 :-10, 최대기온 :2\n",
      "도시명 : 청주, 최저기온 :-9, 최대기온 :1\n",
      "도시명 : 충주, 최저기온 :-12, 최대기온 :0\n",
      "도시명 : 영동, 최저기온 :-12, 최대기온 :2\n",
      "도시명 : 광주, 최저기온 :-5, 최대기온 :5\n",
      "도시명 : 목포, 최저기온 :-3, 최대기온 :4\n",
      "도시명 : 여수, 최저기온 :-3, 최대기온 :5\n",
      "도시명 : 순천, 최저기온 :-4, 최대기온 :6\n",
      "도시명 : 광양, 최저기온 :-4, 최대기온 :6\n",
      "도시명 : 나주, 최저기온 :-7, 최대기온 :4\n",
      "도시명 : 전주, 최저기온 :-7, 최대기온 :3\n",
      "도시명 : 군산, 최저기온 :-7, 최대기온 :3\n",
      "도시명 : 정읍, 최저기온 :-8, 최대기온 :2\n",
      "도시명 : 남원, 최저기온 :-8, 최대기온 :4\n",
      "도시명 : 고창, 최저기온 :-6, 최대기온 :3\n",
      "도시명 : 무주, 최저기온 :-12, 최대기온 :2\n",
      "도시명 : 부산, 최저기온 :-4, 최대기온 :6\n",
      "도시명 : 울산, 최저기온 :-5, 최대기온 :5\n",
      "도시명 : 창원, 최저기온 :-5, 최대기온 :4\n",
      "도시명 : 진주, 최저기온 :-8, 최대기온 :5\n",
      "도시명 : 거창, 최저기온 :-10, 최대기온 :5\n",
      "도시명 : 통영, 최저기온 :-4, 최대기온 :5\n",
      "도시명 : 대구, 최저기온 :-7, 최대기온 :4\n",
      "도시명 : 안동, 최저기온 :-12, 최대기온 :2\n",
      "도시명 : 포항, 최저기온 :-5, 최대기온 :6\n",
      "도시명 : 경주, 최저기온 :-8, 최대기온 :5\n",
      "도시명 : 울진, 최저기온 :-6, 최대기온 :6\n",
      "도시명 : 울릉도, 최저기온 :-1, 최대기온 :4\n",
      "도시명 : 제주, 최저기온 :3, 최대기온 :8\n",
      "도시명 : 서귀포, 최저기온 :3, 최대기온 :10\n"
     ]
    }
   ],
   "source": [
    "for location in soup.find_all('tr'): \n",
    "    if location.find('td', class_='midterm-city'):\n",
    "        print(\"도시명 : {}, 최저기온 :{}, 최대기온 :{}\".\\\n",
    "              format(location.find('td', class_='midterm-city').text,\n",
    "                location.find('span', class_='tmn').text,\n",
    "                 location.find('span', class_='tmx').text))"
   ]
  },
  {
   "cell_type": "code",
   "execution_count": 32,
   "id": "fd3f6c00",
   "metadata": {},
   "outputs": [
    {
     "name": "stdout",
     "output_type": "stream",
     "text": [
      "Requirement already satisfied: flask in c:\\programdata\\anaconda3\\lib\\site-packages (1.1.2)\n",
      "Requirement already satisfied: Jinja2>=2.10.1 in c:\\programdata\\anaconda3\\lib\\site-packages (from flask) (2.11.3)\n",
      "Requirement already satisfied: click>=5.1 in c:\\programdata\\anaconda3\\lib\\site-packages (from flask) (8.0.3)\n",
      "Requirement already satisfied: itsdangerous>=0.24 in c:\\programdata\\anaconda3\\lib\\site-packages (from flask) (2.0.1)\n",
      "Requirement already satisfied: Werkzeug>=0.15 in c:\\programdata\\anaconda3\\lib\\site-packages (from flask) (2.0.2)\n",
      "Requirement already satisfied: colorama in c:\\programdata\\anaconda3\\lib\\site-packages (from click>=5.1->flask) (0.4.4)\n",
      "Requirement already satisfied: MarkupSafe>=0.23 in c:\\programdata\\anaconda3\\lib\\site-packages (from Jinja2>=2.10.1->flask) (1.1.1)\n"
     ]
    }
   ],
   "source": [
    "# flask\n",
    "!pip install flask"
   ]
  },
  {
   "cell_type": "code",
   "execution_count": 35,
   "id": "e113bfd9",
   "metadata": {},
   "outputs": [],
   "source": [
    "from flask import Flask\n",
    "app=Flask(__name__)\n",
    "\n",
    "@app.route(\"/\")\n",
    "\n",
    "def hello():\n",
    "    return \"<h1> Hello World!</h1>\""
   ]
  },
  {
   "cell_type": "code",
   "execution_count": 38,
   "id": "e2fc3e23",
   "metadata": {},
   "outputs": [
    {
     "name": "stdout",
     "output_type": "stream",
     "text": [
      "인사가 시작되었습니다.\n",
      "hello\n",
      "인사가 종료되었습니다.\n"
     ]
    }
   ],
   "source": [
    "#함수 데코레이터\n",
    "\n",
    "def test(function):\n",
    "    def wrapper():\n",
    "        print(\"인사가 시작되었습니다.\")\n",
    "        function()\n",
    "        print(\"인사가 종료되었습니다.\")\n",
    "    return wrapper\n",
    "\n",
    "@test\n",
    "def hello():\n",
    "    print(\"hello\")\n",
    "    \n",
    "hello()"
   ]
  },
  {
   "cell_type": "code",
   "execution_count": 40,
   "id": "56c2610e",
   "metadata": {},
   "outputs": [],
   "source": [
    "# 모듈 만들기\n",
    "import os\n",
    "os.mkdir(\"modul_basic\")"
   ]
  },
  {
   "cell_type": "code",
   "execution_count": 42,
   "id": "9eeb943f",
   "metadata": {},
   "outputs": [
    {
     "ename": "ModuleNotFoundError",
     "evalue": "No module named 'test_m'",
     "output_type": "error",
     "traceback": [
      "\u001b[1;31m---------------------------------------------------------------------------\u001b[0m",
      "\u001b[1;31mModuleNotFoundError\u001b[0m                       Traceback (most recent call last)",
      "\u001b[1;32m~\\AppData\\Local\\Temp/ipykernel_4060/1908718006.py\u001b[0m in \u001b[0;36m<module>\u001b[1;34m\u001b[0m\n\u001b[1;32m----> 1\u001b[1;33m \u001b[1;32mimport\u001b[0m \u001b[0mtest_m\u001b[0m \u001b[1;32mas\u001b[0m \u001b[0mtest\u001b[0m\u001b[1;33m\u001b[0m\u001b[1;33m\u001b[0m\u001b[0m\n\u001b[0m\u001b[0;32m      2\u001b[0m \u001b[1;33m\u001b[0m\u001b[0m\n\u001b[0;32m      3\u001b[0m \u001b[0mradius\u001b[0m\u001b[1;33m=\u001b[0m\u001b[0mtest\u001b[0m\u001b[1;33m.\u001b[0m\u001b[0mnumber_input\u001b[0m\u001b[1;33m(\u001b[0m\u001b[1;33m)\u001b[0m\u001b[1;33m\u001b[0m\u001b[1;33m\u001b[0m\u001b[0m\n",
      "\u001b[1;31mModuleNotFoundError\u001b[0m: No module named 'test_m'"
     ]
    }
   ],
   "source": [
    "import test_m as test\n",
    "\n",
    "radius=test.number_input()"
   ]
  },
  {
   "cell_type": "code",
   "execution_count": 44,
   "id": "4222e6ed",
   "metadata": {},
   "outputs": [
    {
     "name": "stdout",
     "output_type": "stream",
     "text": [
      "a 모듈의 변수\n",
      "b 모듈의 변수\n"
     ]
    }
   ],
   "source": [
    "# 제작 모듈 불러오기\n",
    "import test_p.module_a as a\n",
    "import test_p.module_b as b\n",
    "\n",
    "print(a.variable_a)\n",
    "print(b.variable_b)\n"
   ]
  },
  {
   "cell_type": "code",
   "execution_count": 49,
   "id": "97b3dc55",
   "metadata": {},
   "outputs": [
    {
     "name": "stdout",
     "output_type": "stream",
     "text": [
      "a 모듈의 변수\n",
      "b 모듈의 변수\n"
     ]
    }
   ],
   "source": [
    "from test_p import * #__init__.py 파일을 꼭 생성해야함\n",
    "\n",
    "print(module_a.variable_a)\n",
    "print(module_b.variable_b)"
   ]
  }
 ],
 "metadata": {
  "kernelspec": {
   "display_name": "Python 3 (ipykernel)",
   "language": "python",
   "name": "python3"
  },
  "language_info": {
   "codemirror_mode": {
    "name": "ipython",
    "version": 3
   },
   "file_extension": ".py",
   "mimetype": "text/x-python",
   "name": "python",
   "nbconvert_exporter": "python",
   "pygments_lexer": "ipython3",
   "version": "3.9.7"
  }
 },
 "nbformat": 4,
 "nbformat_minor": 5
}
