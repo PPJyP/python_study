{
 "cells": [
  {
   "cell_type": "code",
   "execution_count": 6,
   "id": "57e97647",
   "metadata": {},
   "outputs": [
    {
     "name": "stdout",
     "output_type": "stream",
     "text": [
      "숫자입력:10\n",
      "62.8\n",
      "314.2\n",
      "__main__\n"
     ]
    }
   ],
   "source": [
    "import test_m as test\n",
    "\n",
    "radius=test.number_input()\n",
    "print(\"{:.1f}\".format(test.get_circumference(radius)))\n",
    "print(\"{:.1f}\".format(test.get_circle_area(radius)))\n",
    "\n",
    "print(__name__)"
   ]
  },
  {
   "cell_type": "code",
   "execution_count": null,
   "id": "3bebdce0",
   "metadata": {},
   "outputs": [],
   "source": []
  }
 ],
 "metadata": {
  "kernelspec": {
   "display_name": "Python 3 (ipykernel)",
   "language": "python",
   "name": "python3"
  },
  "language_info": {
   "codemirror_mode": {
    "name": "ipython",
    "version": 3
   },
   "file_extension": ".py",
   "mimetype": "text/x-python",
   "name": "python",
   "nbconvert_exporter": "python",
   "pygments_lexer": "ipython3",
   "version": "3.9.7"
  }
 },
 "nbformat": 4,
 "nbformat_minor": 5
}
