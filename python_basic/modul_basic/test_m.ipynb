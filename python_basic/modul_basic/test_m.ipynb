{
 "cells": [
  {
   "cell_type": "code",
   "execution_count": 3,
   "id": "7a0c4ff0",
   "metadata": {},
   "outputs": [],
   "source": [
    "\n",
    "PI=3.141592\n",
    "\n",
    "def number_input():\n",
    "    output=input(\"숫자입력:\")\n",
    "    return float(output)\n",
    "\n",
    "def get_circumference(radius):\n",
    "    return 2*PI*radius\n",
    "\n",
    "def get_circle_area(radius):\n",
    "    return PI*radius*radius\n"
   ]
  }
 ],
 "metadata": {
  "kernelspec": {
   "display_name": "Python 3 (ipykernel)",
   "language": "python",
   "name": "python3"
  },
  "language_info": {
   "codemirror_mode": {
    "name": "ipython",
    "version": 3
   },
   "file_extension": ".py",
   "mimetype": "text/x-python",
   "name": "python",
   "nbconvert_exporter": "python",
   "pygments_lexer": "ipython3",
   "version": "3.9.7"
  }
 },
 "nbformat": 4,
 "nbformat_minor": 5
}
